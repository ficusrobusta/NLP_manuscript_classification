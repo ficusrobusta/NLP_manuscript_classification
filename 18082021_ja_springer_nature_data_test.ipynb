{
 "cells": [
  {
   "cell_type": "markdown",
   "metadata": {
    "cell_style": "center"
   },
   "source": [
    "# Springer Nature <br> Data Task "
   ]
  },
  {
   "cell_type": "markdown",
   "metadata": {
    "ExecuteTime": {
     "end_time": "2021-04-15T19:52:52.344501Z",
     "start_time": "2021-04-15T19:52:52.339900Z"
    },
    "cell_style": "split"
   },
   "source": [
    "## Introduction"
   ]
  },
  {
   "cell_type": "markdown",
   "metadata": {
    "ExecuteTime": {
     "end_time": "2021-04-15T21:21:02.889123Z",
     "start_time": "2021-04-15T21:21:02.879486Z"
    }
   },
   "source": [
    "### Problem \n",
    "<hr>\n",
    "    <blockquote><i> The Springer Nature journals group would like to be able to automatically classify article manuscripts into academic fields of research as the manuscripts are submitted to our electronic submission system. The submission volumes are so high that the only way to achieve this in a consistent manner is by training a machine learning model. \n",
    "    </i></blockquote>\n",
    "We have been asked to classify article manuscripts, published in the Open Access journal “Nature Communications” in 2018 and 2019, into relevant academic fields of research using machine learning. This anlysis will focus on:\n",
    "\n",
    "1)  Key findings from the data<br>\n",
    "2)  Reasoning to decisions made<br>\n",
    "3)  Review of classifier, strengths and limitations<br>\n",
    "4)  Ultimate recommendations"
   ]
  },
  {
   "cell_type": "markdown",
   "metadata": {
    "ExecuteTime": {
     "end_time": "2021-04-15T21:19:12.574029Z",
     "start_time": "2021-04-15T21:19:12.563741Z"
    }
   },
   "source": [
    "### Module Imports"
   ]
  },
  {
   "cell_type": "code",
   "execution_count": 1,
   "metadata": {
    "ExecuteTime": {
     "end_time": "2021-08-23T00:57:55.282779Z",
     "start_time": "2021-08-23T00:57:51.098058Z"
    }
   },
   "outputs": [],
   "source": [
    "import pandas as pd\n",
    "import matplotlib.pyplot as plt \n",
    "%matplotlib inline\n",
    "import numpy as np\n",
    "import seaborn as sns\n",
    "import re\n",
    "import nltk\n",
    "#nltk.download('stopwords')\n",
    "from nltk.corpus import stopwords, wordnet\n",
    "from nltk.stem.porter import PorterStemmer\n",
    "from nltk.stem.snowball import SnowballStemmer\n",
    "from nltk.tokenize import RegexpTokenizer\n",
    "#nltk.download('wordnet')\n",
    "from nltk.stem.wordnet import WordNetLemmatizer\n",
    "from sklearn.feature_extraction.text import CountVectorizer\n",
    "from sklearn.feature_extraction.text import TfidfVectorizer\n",
    "from sklearn.feature_extraction.text import TfidfTransformer\n",
    "from sklearn.feature_extraction.text import HashingVectorizer\n",
    "from sklearn.feature_selection import chi2\n",
    "from sklearn.naive_bayes import MultinomialNB\n",
    "from sklearn.naive_bayes import CategoricalNB\n",
    "from sklearn.metrics import confusion_matrix, classification_report\n",
    "from sklearn.model_selection import train_test_split\n",
    "from sklearn import metrics\n",
    "from sklearn.svm import SVC \n",
    "from sklearn.model_selection import GridSearchCV\n",
    "from sklearn.neural_network import MLPClassifier\n",
    "from imblearn.over_sampling import SMOTE"
   ]
  },
  {
   "cell_type": "markdown",
   "metadata": {},
   "source": [
    "## Dataset"
   ]
  },
  {
   "cell_type": "markdown",
   "metadata": {
    "ExecuteTime": {
     "end_time": "2021-07-12T21:13:25.786496Z",
     "start_time": "2021-07-12T21:13:25.778266Z"
    }
   },
   "source": [
    "### Import CSV Files and Data Wrangling"
   ]
  },
  {
   "cell_type": "markdown",
   "metadata": {},
   "source": [
    "Have imported the four csv files using a header row. Have changed column names where applicable so that they match (e.g. 'doc_id' to 'doi'). Used 'doi' as Index.\n",
    "\n",
    "For this task, the 'title' column from file_1 and the 'for_name' / 'for_code' from file_3 appear to be of most interest, therefore have merged these files into one. file_1 and file_3 share the same indices so have also merged (file123).\n",
    "\n",
    "Removed entries where duplicate 'title', as well as 'doi' exists. Some 'addenda, editorials, corrections (author, publisher), replies, and retractions' were subsequently removed.\n",
    "\n",
    "Removed entries where data missing.\n",
    "\n",
    "Some duplicate entries had different 'for_code'. Have saved into a dataframe for further investigation.\n",
    "\n",
    "Also saved a file (file1234) with entries inn all fields, as a smaller but complete dataset, in the event that the other features become of interest."
   ]
  },
  {
   "cell_type": "code",
   "execution_count": 2,
   "metadata": {
    "ExecuteTime": {
     "end_time": "2021-08-23T00:57:55.444222Z",
     "start_time": "2021-08-23T00:57:55.288798Z"
    }
   },
   "outputs": [],
   "source": [
    "file1 = pd.read_csv(\"Data/file_1.csv\", header=0)\n",
    "file2 = pd.read_csv(\"Data/file_2.csv\", header=0)\n",
    "file3 = pd.read_csv(\"Data/file_3.csv\", header=0)\n",
    "file4 = pd.read_csv(\"Data/file_4.csv\", header=0)"
   ]
  },
  {
   "cell_type": "code",
   "execution_count": 3,
   "metadata": {
    "ExecuteTime": {
     "end_time": "2021-08-23T00:57:55.461854Z",
     "start_time": "2021-08-23T00:57:55.447046Z"
    },
    "scrolled": true
   },
   "outputs": [
    {
     "data": {
      "text/html": [
       "<div>\n",
       "<style scoped>\n",
       "    .dataframe tbody tr th:only-of-type {\n",
       "        vertical-align: middle;\n",
       "    }\n",
       "\n",
       "    .dataframe tbody tr th {\n",
       "        vertical-align: top;\n",
       "    }\n",
       "\n",
       "    .dataframe thead th {\n",
       "        text-align: right;\n",
       "    }\n",
       "</style>\n",
       "<table border=\"1\" class=\"dataframe\">\n",
       "  <thead>\n",
       "    <tr style=\"text-align: right;\">\n",
       "      <th></th>\n",
       "      <th>title</th>\n",
       "      <th>doc_id</th>\n",
       "      <th>n_references</th>\n",
       "    </tr>\n",
       "  </thead>\n",
       "  <tbody>\n",
       "    <tr>\n",
       "      <th>0</th>\n",
       "      <td>Surface acoustic wave photonic devices in sili...</td>\n",
       "      <td>10.1038/s41467-019-12157-x</td>\n",
       "      <td>54</td>\n",
       "    </tr>\n",
       "    <tr>\n",
       "      <th>1</th>\n",
       "      <td>Thermal and electrical signatures of a hydrody...</td>\n",
       "      <td>10.1038/s41467-018-06688-y</td>\n",
       "      <td>37</td>\n",
       "    </tr>\n",
       "    <tr>\n",
       "      <th>2</th>\n",
       "      <td>Phononic integrated circuitry and spin–orbit i...</td>\n",
       "      <td>10.1038/s41467-019-10852-3</td>\n",
       "      <td>56</td>\n",
       "    </tr>\n",
       "    <tr>\n",
       "      <th>3</th>\n",
       "      <td>Local Josephson vortex generation and manipula...</td>\n",
       "      <td>10.1038/s41467-019-11924-0</td>\n",
       "      <td>54</td>\n",
       "    </tr>\n",
       "    <tr>\n",
       "      <th>4</th>\n",
       "      <td>A robust zirconium amino acid metal-organic fr...</td>\n",
       "      <td>10.1038/s41467-018-07414-4</td>\n",
       "      <td>59</td>\n",
       "    </tr>\n",
       "    <tr>\n",
       "      <th>...</th>\n",
       "      <td>...</td>\n",
       "      <td>...</td>\n",
       "      <td>...</td>\n",
       "    </tr>\n",
       "    <tr>\n",
       "      <th>11342</th>\n",
       "      <td>aPKC controls endothelial growth by modulating...</td>\n",
       "      <td>10.1038/s41467-018-07739-0</td>\n",
       "      <td>71</td>\n",
       "    </tr>\n",
       "    <tr>\n",
       "      <th>11343</th>\n",
       "      <td>Single gold-bridged nanoprobes for identificat...</td>\n",
       "      <td>10.1038/s41467-019-08769-y</td>\n",
       "      <td>64</td>\n",
       "    </tr>\n",
       "    <tr>\n",
       "      <th>11344</th>\n",
       "      <td>Conditional expression explains molecular evol...</td>\n",
       "      <td>10.1038/s41467-019-11237-2</td>\n",
       "      <td>63</td>\n",
       "    </tr>\n",
       "    <tr>\n",
       "      <th>11345</th>\n",
       "      <td>Genetic study links components of the autonomo...</td>\n",
       "      <td>10.1038/s41467-018-03395-6</td>\n",
       "      <td>65</td>\n",
       "    </tr>\n",
       "    <tr>\n",
       "      <th>11346</th>\n",
       "      <td>The productivity-biodiversity relationship var...</td>\n",
       "      <td>10.1038/s41467-019-13678-1</td>\n",
       "      <td>58</td>\n",
       "    </tr>\n",
       "  </tbody>\n",
       "</table>\n",
       "<p>11347 rows × 3 columns</p>\n",
       "</div>"
      ],
      "text/plain": [
       "                                                   title  \\\n",
       "0      Surface acoustic wave photonic devices in sili...   \n",
       "1      Thermal and electrical signatures of a hydrody...   \n",
       "2      Phononic integrated circuitry and spin–orbit i...   \n",
       "3      Local Josephson vortex generation and manipula...   \n",
       "4      A robust zirconium amino acid metal-organic fr...   \n",
       "...                                                  ...   \n",
       "11342  aPKC controls endothelial growth by modulating...   \n",
       "11343  Single gold-bridged nanoprobes for identificat...   \n",
       "11344  Conditional expression explains molecular evol...   \n",
       "11345  Genetic study links components of the autonomo...   \n",
       "11346  The productivity-biodiversity relationship var...   \n",
       "\n",
       "                           doc_id  n_references  \n",
       "0      10.1038/s41467-019-12157-x            54  \n",
       "1      10.1038/s41467-018-06688-y            37  \n",
       "2      10.1038/s41467-019-10852-3            56  \n",
       "3      10.1038/s41467-019-11924-0            54  \n",
       "4      10.1038/s41467-018-07414-4            59  \n",
       "...                           ...           ...  \n",
       "11342  10.1038/s41467-018-07739-0            71  \n",
       "11343  10.1038/s41467-019-08769-y            64  \n",
       "11344  10.1038/s41467-019-11237-2            63  \n",
       "11345  10.1038/s41467-018-03395-6            65  \n",
       "11346  10.1038/s41467-019-13678-1            58  \n",
       "\n",
       "[11347 rows x 3 columns]"
      ]
     },
     "execution_count": 3,
     "metadata": {},
     "output_type": "execute_result"
    }
   ],
   "source": [
    "file1"
   ]
  },
  {
   "cell_type": "code",
   "execution_count": 4,
   "metadata": {
    "ExecuteTime": {
     "end_time": "2021-08-23T00:57:55.474415Z",
     "start_time": "2021-08-23T00:57:55.464497Z"
    }
   },
   "outputs": [
    {
     "data": {
      "text/html": [
       "<div>\n",
       "<style scoped>\n",
       "    .dataframe tbody tr th:only-of-type {\n",
       "        vertical-align: middle;\n",
       "    }\n",
       "\n",
       "    .dataframe tbody tr th {\n",
       "        vertical-align: top;\n",
       "    }\n",
       "\n",
       "    .dataframe thead th {\n",
       "        text-align: right;\n",
       "    }\n",
       "</style>\n",
       "<table border=\"1\" class=\"dataframe\">\n",
       "  <thead>\n",
       "    <tr style=\"text-align: right;\">\n",
       "      <th></th>\n",
       "      <th>title</th>\n",
       "      <th>doc_id</th>\n",
       "      <th>n_references</th>\n",
       "    </tr>\n",
       "  </thead>\n",
       "  <tbody>\n",
       "    <tr>\n",
       "      <th>0</th>\n",
       "      <td>Surface acoustic wave photonic devices in silicon on insulator</td>\n",
       "      <td>10.1038/s41467-019-12157-x</td>\n",
       "      <td>54</td>\n",
       "    </tr>\n",
       "    <tr>\n",
       "      <th>1</th>\n",
       "      <td>Thermal and electrical signatures of a hydrodynamic electron fluid in tungsten diphosphide</td>\n",
       "      <td>10.1038/s41467-018-06688-y</td>\n",
       "      <td>37</td>\n",
       "    </tr>\n",
       "    <tr>\n",
       "      <th>2</th>\n",
       "      <td>Phononic integrated circuitry and spin–orbit interaction of phonons</td>\n",
       "      <td>10.1038/s41467-019-10852-3</td>\n",
       "      <td>56</td>\n",
       "    </tr>\n",
       "    <tr>\n",
       "      <th>3</th>\n",
       "      <td>Local Josephson vortex generation and manipulation with a Magnetic Force Microscope</td>\n",
       "      <td>10.1038/s41467-019-11924-0</td>\n",
       "      <td>54</td>\n",
       "    </tr>\n",
       "    <tr>\n",
       "      <th>4</th>\n",
       "      <td>A robust zirconium amino acid metal-organic framework for proton conduction</td>\n",
       "      <td>10.1038/s41467-018-07414-4</td>\n",
       "      <td>59</td>\n",
       "    </tr>\n",
       "    <tr>\n",
       "      <th>5</th>\n",
       "      <td>Puma genomes from North and South America provide insights into the genomic consequences of inbreeding</td>\n",
       "      <td>10.1038/s41467-019-12741-1</td>\n",
       "      <td>55</td>\n",
       "    </tr>\n",
       "    <tr>\n",
       "      <th>6</th>\n",
       "      <td>Ultrafast multi-focus 3-D nano-fabrication based on two-photon polymerization</td>\n",
       "      <td>10.1038/s41467-019-10249-2</td>\n",
       "      <td>23</td>\n",
       "    </tr>\n",
       "    <tr>\n",
       "      <th>7</th>\n",
       "      <td>Closure of the Bering Strait caused Mid-Pleistocene Transition cooling</td>\n",
       "      <td>10.1038/s41467-018-07828-0</td>\n",
       "      <td>66</td>\n",
       "    </tr>\n",
       "    <tr>\n",
       "      <th>8</th>\n",
       "      <td>Protein phosphatase 5 regulates titin phosphorylation and function at a sarcomere-associated mechanosensor complex in cardiomyocytes</td>\n",
       "      <td>10.1038/s41467-017-02483-3</td>\n",
       "      <td>59</td>\n",
       "    </tr>\n",
       "    <tr>\n",
       "      <th>9</th>\n",
       "      <td>The rise in ocean plastics evidenced from a 60-year time series</td>\n",
       "      <td>10.1038/s41467-019-09506-1</td>\n",
       "      <td>25</td>\n",
       "    </tr>\n",
       "  </tbody>\n",
       "</table>\n",
       "</div>"
      ],
      "text/plain": [
       "                                                                                                                                  title  \\\n",
       "0                                                                        Surface acoustic wave photonic devices in silicon on insulator   \n",
       "1                                            Thermal and electrical signatures of a hydrodynamic electron fluid in tungsten diphosphide   \n",
       "2                                                                   Phononic integrated circuitry and spin–orbit interaction of phonons   \n",
       "3                                                   Local Josephson vortex generation and manipulation with a Magnetic Force Microscope   \n",
       "4                                                           A robust zirconium amino acid metal-organic framework for proton conduction   \n",
       "5                                Puma genomes from North and South America provide insights into the genomic consequences of inbreeding   \n",
       "6                                                         Ultrafast multi-focus 3-D nano-fabrication based on two-photon polymerization   \n",
       "7                                                                Closure of the Bering Strait caused Mid-Pleistocene Transition cooling   \n",
       "8  Protein phosphatase 5 regulates titin phosphorylation and function at a sarcomere-associated mechanosensor complex in cardiomyocytes   \n",
       "9                                                                       The rise in ocean plastics evidenced from a 60-year time series   \n",
       "\n",
       "                       doc_id  n_references  \n",
       "0  10.1038/s41467-019-12157-x            54  \n",
       "1  10.1038/s41467-018-06688-y            37  \n",
       "2  10.1038/s41467-019-10852-3            56  \n",
       "3  10.1038/s41467-019-11924-0            54  \n",
       "4  10.1038/s41467-018-07414-4            59  \n",
       "5  10.1038/s41467-019-12741-1            55  \n",
       "6  10.1038/s41467-019-10249-2            23  \n",
       "7  10.1038/s41467-018-07828-0            66  \n",
       "8  10.1038/s41467-017-02483-3            59  \n",
       "9  10.1038/s41467-019-09506-1            25  "
      ]
     },
     "execution_count": 4,
     "metadata": {},
     "output_type": "execute_result"
    }
   ],
   "source": [
    "pd.set_option('display.max_colwidth', None)\n",
    "file1.head(10)"
   ]
  },
  {
   "cell_type": "code",
   "execution_count": 5,
   "metadata": {
    "ExecuteTime": {
     "end_time": "2021-08-23T00:57:55.488636Z",
     "start_time": "2021-08-23T00:57:55.477183Z"
    }
   },
   "outputs": [
    {
     "data": {
      "text/html": [
       "<div>\n",
       "<style scoped>\n",
       "    .dataframe tbody tr th:only-of-type {\n",
       "        vertical-align: middle;\n",
       "    }\n",
       "\n",
       "    .dataframe tbody tr th {\n",
       "        vertical-align: top;\n",
       "    }\n",
       "\n",
       "    .dataframe thead th {\n",
       "        text-align: right;\n",
       "    }\n",
       "</style>\n",
       "<table border=\"1\" class=\"dataframe\">\n",
       "  <thead>\n",
       "    <tr style=\"text-align: right;\">\n",
       "      <th></th>\n",
       "      <th>DOI</th>\n",
       "      <th>for_name</th>\n",
       "      <th>for_code</th>\n",
       "    </tr>\n",
       "  </thead>\n",
       "  <tbody>\n",
       "    <tr>\n",
       "      <th>0</th>\n",
       "      <td>10.1038/S41467-019-12157-X</td>\n",
       "      <td>Physical Sciences</td>\n",
       "      <td>2.0</td>\n",
       "    </tr>\n",
       "    <tr>\n",
       "      <th>1</th>\n",
       "      <td>10.1038/S41467-019-12157-X</td>\n",
       "      <td>Engineering</td>\n",
       "      <td>9.0</td>\n",
       "    </tr>\n",
       "    <tr>\n",
       "      <th>2</th>\n",
       "      <td>10.1038/S41467-019-12157-X</td>\n",
       "      <td>Technology</td>\n",
       "      <td>10.0</td>\n",
       "    </tr>\n",
       "    <tr>\n",
       "      <th>3</th>\n",
       "      <td>10.1038/S41467-019-12157-X</td>\n",
       "      <td>Engineering</td>\n",
       "      <td>9.0</td>\n",
       "    </tr>\n",
       "    <tr>\n",
       "      <th>4</th>\n",
       "      <td>10.1038/S41467-019-13371-3</td>\n",
       "      <td>Physical Sciences</td>\n",
       "      <td>2.0</td>\n",
       "    </tr>\n",
       "    <tr>\n",
       "      <th>...</th>\n",
       "      <td>...</td>\n",
       "      <td>...</td>\n",
       "      <td>...</td>\n",
       "    </tr>\n",
       "    <tr>\n",
       "      <th>15119</th>\n",
       "      <td>10.1038/S41467-019-12071-2</td>\n",
       "      <td>Biological Sciences</td>\n",
       "      <td>6.0</td>\n",
       "    </tr>\n",
       "    <tr>\n",
       "      <th>15120</th>\n",
       "      <td>10.1038/S41467-018-06653-9</td>\n",
       "      <td>Medical and Health Sciences</td>\n",
       "      <td>11.0</td>\n",
       "    </tr>\n",
       "    <tr>\n",
       "      <th>15121</th>\n",
       "      <td>10.1038/S41467-018-06653-9</td>\n",
       "      <td>Medical and Health Sciences</td>\n",
       "      <td>11.0</td>\n",
       "    </tr>\n",
       "    <tr>\n",
       "      <th>15122</th>\n",
       "      <td>10.1038/S41467-019-08739-4</td>\n",
       "      <td>Medical and Health Sciences</td>\n",
       "      <td>11.0</td>\n",
       "    </tr>\n",
       "    <tr>\n",
       "      <th>15123</th>\n",
       "      <td>10.1038/S41467-019-10160-W</td>\n",
       "      <td>Biological Sciences</td>\n",
       "      <td>6.0</td>\n",
       "    </tr>\n",
       "  </tbody>\n",
       "</table>\n",
       "<p>15124 rows × 3 columns</p>\n",
       "</div>"
      ],
      "text/plain": [
       "                              DOI                     for_name  for_code\n",
       "0      10.1038/S41467-019-12157-X            Physical Sciences       2.0\n",
       "1      10.1038/S41467-019-12157-X                  Engineering       9.0\n",
       "2      10.1038/S41467-019-12157-X                   Technology      10.0\n",
       "3      10.1038/S41467-019-12157-X                  Engineering       9.0\n",
       "4      10.1038/S41467-019-13371-3            Physical Sciences       2.0\n",
       "...                           ...                          ...       ...\n",
       "15119  10.1038/S41467-019-12071-2          Biological Sciences       6.0\n",
       "15120  10.1038/S41467-018-06653-9  Medical and Health Sciences      11.0\n",
       "15121  10.1038/S41467-018-06653-9  Medical and Health Sciences      11.0\n",
       "15122  10.1038/S41467-019-08739-4  Medical and Health Sciences      11.0\n",
       "15123  10.1038/S41467-019-10160-W          Biological Sciences       6.0\n",
       "\n",
       "[15124 rows x 3 columns]"
      ]
     },
     "execution_count": 5,
     "metadata": {},
     "output_type": "execute_result"
    }
   ],
   "source": [
    "file2"
   ]
  },
  {
   "cell_type": "code",
   "execution_count": 6,
   "metadata": {
    "ExecuteTime": {
     "end_time": "2021-08-23T00:57:55.501769Z",
     "start_time": "2021-08-23T00:57:55.491124Z"
    }
   },
   "outputs": [
    {
     "data": {
      "text/html": [
       "<div>\n",
       "<style scoped>\n",
       "    .dataframe tbody tr th:only-of-type {\n",
       "        vertical-align: middle;\n",
       "    }\n",
       "\n",
       "    .dataframe tbody tr th {\n",
       "        vertical-align: top;\n",
       "    }\n",
       "\n",
       "    .dataframe thead th {\n",
       "        text-align: right;\n",
       "    }\n",
       "</style>\n",
       "<table border=\"1\" class=\"dataframe\">\n",
       "  <thead>\n",
       "    <tr style=\"text-align: right;\">\n",
       "      <th></th>\n",
       "      <th>doi</th>\n",
       "      <th>n_authors</th>\n",
       "    </tr>\n",
       "  </thead>\n",
       "  <tbody>\n",
       "    <tr>\n",
       "      <th>0</th>\n",
       "      <td>10.1038/s41467-018-04785-6</td>\n",
       "      <td>4</td>\n",
       "    </tr>\n",
       "    <tr>\n",
       "      <th>1</th>\n",
       "      <td>10.1038/s41467-018-04405-3</td>\n",
       "      <td>3</td>\n",
       "    </tr>\n",
       "    <tr>\n",
       "      <th>2</th>\n",
       "      <td>10.1038/s41467-017-02720-9</td>\n",
       "      <td>6</td>\n",
       "    </tr>\n",
       "    <tr>\n",
       "      <th>3</th>\n",
       "      <td>10.1038/s41467-019-13371-3</td>\n",
       "      <td>18</td>\n",
       "    </tr>\n",
       "    <tr>\n",
       "      <th>4</th>\n",
       "      <td>10.1038/s41467-018-03933-2</td>\n",
       "      <td>4</td>\n",
       "    </tr>\n",
       "    <tr>\n",
       "      <th>...</th>\n",
       "      <td>...</td>\n",
       "      <td>...</td>\n",
       "    </tr>\n",
       "    <tr>\n",
       "      <th>11342</th>\n",
       "      <td>10.1038/s41467-018-02980-z</td>\n",
       "      <td>5</td>\n",
       "    </tr>\n",
       "    <tr>\n",
       "      <th>11343</th>\n",
       "      <td>10.1038/s41467-018-04529-6</td>\n",
       "      <td>13</td>\n",
       "    </tr>\n",
       "    <tr>\n",
       "      <th>11344</th>\n",
       "      <td>10.1038/s41467-018-07036-w</td>\n",
       "      <td>14</td>\n",
       "    </tr>\n",
       "    <tr>\n",
       "      <th>11345</th>\n",
       "      <td>10.1038/s41467-019-08673-5</td>\n",
       "      <td>11</td>\n",
       "    </tr>\n",
       "    <tr>\n",
       "      <th>11346</th>\n",
       "      <td>10.1038/s41467-019-11856-9</td>\n",
       "      <td>14</td>\n",
       "    </tr>\n",
       "  </tbody>\n",
       "</table>\n",
       "<p>11347 rows × 2 columns</p>\n",
       "</div>"
      ],
      "text/plain": [
       "                              doi  n_authors\n",
       "0      10.1038/s41467-018-04785-6          4\n",
       "1      10.1038/s41467-018-04405-3          3\n",
       "2      10.1038/s41467-017-02720-9          6\n",
       "3      10.1038/s41467-019-13371-3         18\n",
       "4      10.1038/s41467-018-03933-2          4\n",
       "...                           ...        ...\n",
       "11342  10.1038/s41467-018-02980-z          5\n",
       "11343  10.1038/s41467-018-04529-6         13\n",
       "11344  10.1038/s41467-018-07036-w         14\n",
       "11345  10.1038/s41467-019-08673-5         11\n",
       "11346  10.1038/s41467-019-11856-9         14\n",
       "\n",
       "[11347 rows x 2 columns]"
      ]
     },
     "execution_count": 6,
     "metadata": {},
     "output_type": "execute_result"
    }
   ],
   "source": [
    "file3"
   ]
  },
  {
   "cell_type": "code",
   "execution_count": 7,
   "metadata": {
    "ExecuteTime": {
     "end_time": "2021-08-23T00:57:55.517646Z",
     "start_time": "2021-08-23T00:57:55.507442Z"
    }
   },
   "outputs": [
    {
     "data": {
      "text/html": [
       "<div>\n",
       "<style scoped>\n",
       "    .dataframe tbody tr th:only-of-type {\n",
       "        vertical-align: middle;\n",
       "    }\n",
       "\n",
       "    .dataframe tbody tr th {\n",
       "        vertical-align: top;\n",
       "    }\n",
       "\n",
       "    .dataframe thead th {\n",
       "        text-align: right;\n",
       "    }\n",
       "</style>\n",
       "<table border=\"1\" class=\"dataframe\">\n",
       "  <thead>\n",
       "    <tr style=\"text-align: right;\">\n",
       "      <th></th>\n",
       "      <th>doi</th>\n",
       "      <th>corresponding_author_h_index</th>\n",
       "    </tr>\n",
       "  </thead>\n",
       "  <tbody>\n",
       "    <tr>\n",
       "      <th>0</th>\n",
       "      <td>10.1038/s41467-018-06932-5</td>\n",
       "      <td>83.0</td>\n",
       "    </tr>\n",
       "    <tr>\n",
       "      <th>1</th>\n",
       "      <td>10.1038/s41467-019-09538-7</td>\n",
       "      <td>121.0</td>\n",
       "    </tr>\n",
       "    <tr>\n",
       "      <th>2</th>\n",
       "      <td>10.1038/s41467-018-06267-1</td>\n",
       "      <td>127.0</td>\n",
       "    </tr>\n",
       "    <tr>\n",
       "      <th>3</th>\n",
       "      <td>10.1038/s41467-019-12689-2</td>\n",
       "      <td>121.0</td>\n",
       "    </tr>\n",
       "    <tr>\n",
       "      <th>4</th>\n",
       "      <td>10.1038/s41467-019-11651-6</td>\n",
       "      <td>73.0</td>\n",
       "    </tr>\n",
       "    <tr>\n",
       "      <th>...</th>\n",
       "      <td>...</td>\n",
       "      <td>...</td>\n",
       "    </tr>\n",
       "    <tr>\n",
       "      <th>16969</th>\n",
       "      <td>10.1038/s41467-019-09253-3</td>\n",
       "      <td>78.0</td>\n",
       "    </tr>\n",
       "    <tr>\n",
       "      <th>16970</th>\n",
       "      <td>10.1038/s41467-019-12081-0</td>\n",
       "      <td>78.0</td>\n",
       "    </tr>\n",
       "    <tr>\n",
       "      <th>16971</th>\n",
       "      <td>10.1038/s41467-018-06496-4</td>\n",
       "      <td>78.0</td>\n",
       "    </tr>\n",
       "    <tr>\n",
       "      <th>16972</th>\n",
       "      <td>10.1038/s41467-018-04417-z</td>\n",
       "      <td>78.0</td>\n",
       "    </tr>\n",
       "    <tr>\n",
       "      <th>16973</th>\n",
       "      <td>10.1038/s41467-019-10495-4</td>\n",
       "      <td>78.0</td>\n",
       "    </tr>\n",
       "  </tbody>\n",
       "</table>\n",
       "<p>16974 rows × 2 columns</p>\n",
       "</div>"
      ],
      "text/plain": [
       "                              doi  corresponding_author_h_index\n",
       "0      10.1038/s41467-018-06932-5                          83.0\n",
       "1      10.1038/s41467-019-09538-7                         121.0\n",
       "2      10.1038/s41467-018-06267-1                         127.0\n",
       "3      10.1038/s41467-019-12689-2                         121.0\n",
       "4      10.1038/s41467-019-11651-6                          73.0\n",
       "...                           ...                           ...\n",
       "16969  10.1038/s41467-019-09253-3                          78.0\n",
       "16970  10.1038/s41467-019-12081-0                          78.0\n",
       "16971  10.1038/s41467-018-06496-4                          78.0\n",
       "16972  10.1038/s41467-018-04417-z                          78.0\n",
       "16973  10.1038/s41467-019-10495-4                          78.0\n",
       "\n",
       "[16974 rows x 2 columns]"
      ]
     },
     "execution_count": 7,
     "metadata": {},
     "output_type": "execute_result"
    }
   ],
   "source": [
    "file4"
   ]
  },
  {
   "cell_type": "code",
   "execution_count": 8,
   "metadata": {
    "ExecuteTime": {
     "end_time": "2021-08-23T00:57:55.526481Z",
     "start_time": "2021-08-23T00:57:55.521705Z"
    }
   },
   "outputs": [],
   "source": [
    "file1 = file1.rename(columns={\"doc_id\":\"doi\"})"
   ]
  },
  {
   "cell_type": "code",
   "execution_count": 9,
   "metadata": {
    "ExecuteTime": {
     "end_time": "2021-08-23T00:57:55.534996Z",
     "start_time": "2021-08-23T00:57:55.529144Z"
    }
   },
   "outputs": [],
   "source": [
    "file2 = file2.rename(columns={\"DOI\":\"doi\"})"
   ]
  },
  {
   "cell_type": "code",
   "execution_count": 10,
   "metadata": {
    "ExecuteTime": {
     "end_time": "2021-08-23T00:57:55.547290Z",
     "start_time": "2021-08-23T00:57:55.537006Z"
    }
   },
   "outputs": [],
   "source": [
    "file2.doi = file2.doi.str.lower()"
   ]
  },
  {
   "cell_type": "code",
   "execution_count": 11,
   "metadata": {
    "ExecuteTime": {
     "end_time": "2021-08-23T00:57:55.560107Z",
     "start_time": "2021-08-23T00:57:55.549754Z"
    }
   },
   "outputs": [],
   "source": [
    "file1 = file1.set_index('doi')\n",
    "file2 = file2.set_index('doi')\n",
    "file3 = file3.set_index('doi')\n",
    "file4 = file4.set_index('doi')"
   ]
  },
  {
   "cell_type": "code",
   "execution_count": 12,
   "metadata": {
    "ExecuteTime": {
     "end_time": "2021-08-23T00:57:55.577697Z",
     "start_time": "2021-08-23T00:57:55.562463Z"
    }
   },
   "outputs": [
    {
     "data": {
      "text/plain": [
       "title           11335\n",
       "n_references      146\n",
       "dtype: int64"
      ]
     },
     "execution_count": 12,
     "metadata": {},
     "output_type": "execute_result"
    }
   ],
   "source": [
    "file1.nunique()"
   ]
  },
  {
   "cell_type": "code",
   "execution_count": 13,
   "metadata": {
    "ExecuteTime": {
     "end_time": "2021-08-23T00:57:55.587992Z",
     "start_time": "2021-08-23T00:57:55.580275Z"
    }
   },
   "outputs": [
    {
     "data": {
      "text/plain": [
       "11347"
      ]
     },
     "execution_count": 13,
     "metadata": {},
     "output_type": "execute_result"
    }
   ],
   "source": [
    "file1.index.nunique()"
   ]
  },
  {
   "cell_type": "code",
   "execution_count": 14,
   "metadata": {
    "ExecuteTime": {
     "end_time": "2021-08-23T00:57:55.600892Z",
     "start_time": "2021-08-23T00:57:55.590627Z"
    }
   },
   "outputs": [
    {
     "data": {
      "text/plain": [
       "11347"
      ]
     },
     "execution_count": 14,
     "metadata": {},
     "output_type": "execute_result"
    }
   ],
   "source": [
    "file2.index.nunique()"
   ]
  },
  {
   "cell_type": "code",
   "execution_count": 15,
   "metadata": {
    "ExecuteTime": {
     "end_time": "2021-08-23T00:57:55.610263Z",
     "start_time": "2021-08-23T00:57:55.603226Z"
    }
   },
   "outputs": [
    {
     "data": {
      "text/plain": [
       "11347"
      ]
     },
     "execution_count": 15,
     "metadata": {},
     "output_type": "execute_result"
    }
   ],
   "source": [
    "file3.index.nunique()"
   ]
  },
  {
   "cell_type": "code",
   "execution_count": 16,
   "metadata": {
    "ExecuteTime": {
     "end_time": "2021-08-23T00:57:55.622796Z",
     "start_time": "2021-08-23T00:57:55.612519Z"
    }
   },
   "outputs": [
    {
     "data": {
      "text/plain": [
       "11276"
      ]
     },
     "execution_count": 16,
     "metadata": {},
     "output_type": "execute_result"
    }
   ],
   "source": [
    "file4.index.nunique()"
   ]
  },
  {
   "cell_type": "code",
   "execution_count": 17,
   "metadata": {
    "ExecuteTime": {
     "end_time": "2021-08-23T00:57:55.637765Z",
     "start_time": "2021-08-23T00:57:55.625085Z"
    }
   },
   "outputs": [
    {
     "data": {
      "text/html": [
       "<div>\n",
       "<style scoped>\n",
       "    .dataframe tbody tr th:only-of-type {\n",
       "        vertical-align: middle;\n",
       "    }\n",
       "\n",
       "    .dataframe tbody tr th {\n",
       "        vertical-align: top;\n",
       "    }\n",
       "\n",
       "    .dataframe thead th {\n",
       "        text-align: right;\n",
       "    }\n",
       "</style>\n",
       "<table border=\"1\" class=\"dataframe\">\n",
       "  <thead>\n",
       "    <tr style=\"text-align: right;\">\n",
       "      <th></th>\n",
       "      <th>title</th>\n",
       "      <th>n_references</th>\n",
       "    </tr>\n",
       "    <tr>\n",
       "      <th>doi</th>\n",
       "      <th></th>\n",
       "      <th></th>\n",
       "    </tr>\n",
       "  </thead>\n",
       "  <tbody>\n",
       "    <tr>\n",
       "      <th>10.1038/s41467-019-12157-x</th>\n",
       "      <td>Surface acoustic wave photonic devices in silicon on insulator</td>\n",
       "      <td>54</td>\n",
       "    </tr>\n",
       "    <tr>\n",
       "      <th>10.1038/s41467-018-06688-y</th>\n",
       "      <td>Thermal and electrical signatures of a hydrodynamic electron fluid in tungsten diphosphide</td>\n",
       "      <td>37</td>\n",
       "    </tr>\n",
       "    <tr>\n",
       "      <th>10.1038/s41467-019-10852-3</th>\n",
       "      <td>Phononic integrated circuitry and spin–orbit interaction of phonons</td>\n",
       "      <td>56</td>\n",
       "    </tr>\n",
       "    <tr>\n",
       "      <th>10.1038/s41467-019-11924-0</th>\n",
       "      <td>Local Josephson vortex generation and manipulation with a Magnetic Force Microscope</td>\n",
       "      <td>54</td>\n",
       "    </tr>\n",
       "    <tr>\n",
       "      <th>10.1038/s41467-018-07414-4</th>\n",
       "      <td>A robust zirconium amino acid metal-organic framework for proton conduction</td>\n",
       "      <td>59</td>\n",
       "    </tr>\n",
       "    <tr>\n",
       "      <th>...</th>\n",
       "      <td>...</td>\n",
       "      <td>...</td>\n",
       "    </tr>\n",
       "    <tr>\n",
       "      <th>10.1038/s41467-018-07739-0</th>\n",
       "      <td>aPKC controls endothelial growth by modulating c-Myc via FoxO1 DNA-binding ability</td>\n",
       "      <td>71</td>\n",
       "    </tr>\n",
       "    <tr>\n",
       "      <th>10.1038/s41467-019-08769-y</th>\n",
       "      <td>Single gold-bridged nanoprobes for identification of single point DNA mutations</td>\n",
       "      <td>64</td>\n",
       "    </tr>\n",
       "    <tr>\n",
       "      <th>10.1038/s41467-019-11237-2</th>\n",
       "      <td>Conditional expression explains molecular evolution of social genes in a microbe</td>\n",
       "      <td>63</td>\n",
       "    </tr>\n",
       "    <tr>\n",
       "      <th>10.1038/s41467-018-03395-6</th>\n",
       "      <td>Genetic study links components of the autonomous nervous system to heart-rate profile during exercise</td>\n",
       "      <td>65</td>\n",
       "    </tr>\n",
       "    <tr>\n",
       "      <th>10.1038/s41467-019-13678-1</th>\n",
       "      <td>The productivity-biodiversity relationship varies across diversity dimensions</td>\n",
       "      <td>58</td>\n",
       "    </tr>\n",
       "  </tbody>\n",
       "</table>\n",
       "<p>11347 rows × 2 columns</p>\n",
       "</div>"
      ],
      "text/plain": [
       "                                                                                                                            title  \\\n",
       "doi                                                                                                                                 \n",
       "10.1038/s41467-019-12157-x                                         Surface acoustic wave photonic devices in silicon on insulator   \n",
       "10.1038/s41467-018-06688-y             Thermal and electrical signatures of a hydrodynamic electron fluid in tungsten diphosphide   \n",
       "10.1038/s41467-019-10852-3                                    Phononic integrated circuitry and spin–orbit interaction of phonons   \n",
       "10.1038/s41467-019-11924-0                    Local Josephson vortex generation and manipulation with a Magnetic Force Microscope   \n",
       "10.1038/s41467-018-07414-4                            A robust zirconium amino acid metal-organic framework for proton conduction   \n",
       "...                                                                                                                           ...   \n",
       "10.1038/s41467-018-07739-0                     aPKC controls endothelial growth by modulating c-Myc via FoxO1 DNA-binding ability   \n",
       "10.1038/s41467-019-08769-y                        Single gold-bridged nanoprobes for identification of single point DNA mutations   \n",
       "10.1038/s41467-019-11237-2                       Conditional expression explains molecular evolution of social genes in a microbe   \n",
       "10.1038/s41467-018-03395-6  Genetic study links components of the autonomous nervous system to heart-rate profile during exercise   \n",
       "10.1038/s41467-019-13678-1                          The productivity-biodiversity relationship varies across diversity dimensions   \n",
       "\n",
       "                            n_references  \n",
       "doi                                       \n",
       "10.1038/s41467-019-12157-x            54  \n",
       "10.1038/s41467-018-06688-y            37  \n",
       "10.1038/s41467-019-10852-3            56  \n",
       "10.1038/s41467-019-11924-0            54  \n",
       "10.1038/s41467-018-07414-4            59  \n",
       "...                                  ...  \n",
       "10.1038/s41467-018-07739-0            71  \n",
       "10.1038/s41467-019-08769-y            64  \n",
       "10.1038/s41467-019-11237-2            63  \n",
       "10.1038/s41467-018-03395-6            65  \n",
       "10.1038/s41467-019-13678-1            58  \n",
       "\n",
       "[11347 rows x 2 columns]"
      ]
     },
     "execution_count": 17,
     "metadata": {},
     "output_type": "execute_result"
    }
   ],
   "source": [
    "file1[file1.index.isin(file3.index) == True]"
   ]
  },
  {
   "cell_type": "code",
   "execution_count": 18,
   "metadata": {
    "ExecuteTime": {
     "end_time": "2021-08-23T00:57:55.650223Z",
     "start_time": "2021-08-23T00:57:55.640056Z"
    }
   },
   "outputs": [
    {
     "data": {
      "text/plain": [
       "Index(['10.1038/s41467-019-12157-x', '10.1038/s41467-018-06688-y',\n",
       "       '10.1038/s41467-019-10852-3', '10.1038/s41467-019-11924-0',\n",
       "       '10.1038/s41467-018-07414-4', '10.1038/s41467-019-12741-1',\n",
       "       '10.1038/s41467-019-10249-2', '10.1038/s41467-018-07828-0',\n",
       "       '10.1038/s41467-017-02483-3', '10.1038/s41467-019-09506-1',\n",
       "       ...\n",
       "       '10.1038/s41467-017-02559-0', '10.1038/s41467-018-07584-1',\n",
       "       '10.1038/s41467-018-06653-9', '10.1038/s41467-019-08739-4',\n",
       "       '10.1038/s41467-019-10160-w', '10.1038/s41467-018-07739-0',\n",
       "       '10.1038/s41467-019-08769-y', '10.1038/s41467-019-11237-2',\n",
       "       '10.1038/s41467-018-03395-6', '10.1038/s41467-019-13678-1'],\n",
       "      dtype='object', name='doi', length=11347)"
      ]
     },
     "execution_count": 18,
     "metadata": {},
     "output_type": "execute_result"
    }
   ],
   "source": [
    "file1.index[file1.index.isin(file2.index)]"
   ]
  },
  {
   "cell_type": "code",
   "execution_count": 19,
   "metadata": {
    "ExecuteTime": {
     "end_time": "2021-08-23T00:57:55.659522Z",
     "start_time": "2021-08-23T00:57:55.653079Z"
    }
   },
   "outputs": [
    {
     "data": {
      "text/plain": [
       "Index(['10.1038/s41467-019-12157-x', '10.1038/s41467-019-12157-x',\n",
       "       '10.1038/s41467-019-12157-x', '10.1038/s41467-019-12157-x',\n",
       "       '10.1038/s41467-019-13371-3', '10.1038/s41467-018-03933-2',\n",
       "       '10.1038/s41467-018-02833-9', '10.1038/s41467-018-02833-9',\n",
       "       '10.1038/s41467-018-07414-4', '10.1038/s41467-019-12741-1',\n",
       "       ...\n",
       "       '10.1038/s41467-019-10365-z', '10.1038/s41467-019-13535-1',\n",
       "       '10.1038/s41467-019-09690-0', '10.1038/s41467-019-09690-0',\n",
       "       '10.1038/s41467-019-12071-2', '10.1038/s41467-019-12071-2',\n",
       "       '10.1038/s41467-018-06653-9', '10.1038/s41467-018-06653-9',\n",
       "       '10.1038/s41467-019-08739-4', '10.1038/s41467-019-10160-w'],\n",
       "      dtype='object', name='doi', length=15124)"
      ]
     },
     "execution_count": 19,
     "metadata": {},
     "output_type": "execute_result"
    }
   ],
   "source": [
    "file2.index[file2.index.isin(file1.index)]"
   ]
  },
  {
   "cell_type": "code",
   "execution_count": 20,
   "metadata": {
    "ExecuteTime": {
     "end_time": "2021-08-23T00:57:55.713138Z",
     "start_time": "2021-08-23T00:57:55.662134Z"
    }
   },
   "outputs": [
    {
     "data": {
      "text/plain": [
       "Index(['10.1038/s41467-019-12157-x', '10.1038/s41467-018-06688-y',\n",
       "       '10.1038/s41467-019-10852-3', '10.1038/s41467-019-11924-0',\n",
       "       '10.1038/s41467-018-07414-4', '10.1038/s41467-019-12741-1',\n",
       "       '10.1038/s41467-019-10249-2', '10.1038/s41467-018-07828-0',\n",
       "       '10.1038/s41467-017-02483-3', '10.1038/s41467-019-09506-1',\n",
       "       ...\n",
       "       '10.1038/s41467-017-02559-0', '10.1038/s41467-018-07584-1',\n",
       "       '10.1038/s41467-018-06653-9', '10.1038/s41467-019-08739-4',\n",
       "       '10.1038/s41467-019-10160-w', '10.1038/s41467-018-07739-0',\n",
       "       '10.1038/s41467-019-08769-y', '10.1038/s41467-019-11237-2',\n",
       "       '10.1038/s41467-018-03395-6', '10.1038/s41467-019-13678-1'],\n",
       "      dtype='object', name='doi', length=11276)"
      ]
     },
     "execution_count": 20,
     "metadata": {},
     "output_type": "execute_result"
    }
   ],
   "source": [
    "file1.index[file1.index.isin(file4.index)]"
   ]
  },
  {
   "cell_type": "code",
   "execution_count": 21,
   "metadata": {
    "ExecuteTime": {
     "end_time": "2021-08-23T00:57:55.728886Z",
     "start_time": "2021-08-23T00:57:55.716198Z"
    }
   },
   "outputs": [
    {
     "data": {
      "text/html": [
       "<div>\n",
       "<style scoped>\n",
       "    .dataframe tbody tr th:only-of-type {\n",
       "        vertical-align: middle;\n",
       "    }\n",
       "\n",
       "    .dataframe tbody tr th {\n",
       "        vertical-align: top;\n",
       "    }\n",
       "\n",
       "    .dataframe thead th {\n",
       "        text-align: right;\n",
       "    }\n",
       "</style>\n",
       "<table border=\"1\" class=\"dataframe\">\n",
       "  <thead>\n",
       "    <tr style=\"text-align: right;\">\n",
       "      <th></th>\n",
       "      <th>corresponding_author_h_index</th>\n",
       "    </tr>\n",
       "    <tr>\n",
       "      <th>doi</th>\n",
       "      <th></th>\n",
       "    </tr>\n",
       "  </thead>\n",
       "  <tbody>\n",
       "    <tr>\n",
       "      <th>10.1038/s41467-018-06932-5</th>\n",
       "      <td>83.0</td>\n",
       "    </tr>\n",
       "    <tr>\n",
       "      <th>10.1038/s41467-019-09538-7</th>\n",
       "      <td>121.0</td>\n",
       "    </tr>\n",
       "    <tr>\n",
       "      <th>10.1038/s41467-018-06267-1</th>\n",
       "      <td>127.0</td>\n",
       "    </tr>\n",
       "    <tr>\n",
       "      <th>10.1038/s41467-019-12689-2</th>\n",
       "      <td>121.0</td>\n",
       "    </tr>\n",
       "    <tr>\n",
       "      <th>10.1038/s41467-019-11651-6</th>\n",
       "      <td>73.0</td>\n",
       "    </tr>\n",
       "    <tr>\n",
       "      <th>...</th>\n",
       "      <td>...</td>\n",
       "    </tr>\n",
       "    <tr>\n",
       "      <th>10.1038/s41467-019-09253-3</th>\n",
       "      <td>78.0</td>\n",
       "    </tr>\n",
       "    <tr>\n",
       "      <th>10.1038/s41467-019-12081-0</th>\n",
       "      <td>78.0</td>\n",
       "    </tr>\n",
       "    <tr>\n",
       "      <th>10.1038/s41467-018-06496-4</th>\n",
       "      <td>78.0</td>\n",
       "    </tr>\n",
       "    <tr>\n",
       "      <th>10.1038/s41467-018-04417-z</th>\n",
       "      <td>78.0</td>\n",
       "    </tr>\n",
       "    <tr>\n",
       "      <th>10.1038/s41467-019-10495-4</th>\n",
       "      <td>78.0</td>\n",
       "    </tr>\n",
       "  </tbody>\n",
       "</table>\n",
       "<p>16974 rows × 1 columns</p>\n",
       "</div>"
      ],
      "text/plain": [
       "                            corresponding_author_h_index\n",
       "doi                                                     \n",
       "10.1038/s41467-018-06932-5                          83.0\n",
       "10.1038/s41467-019-09538-7                         121.0\n",
       "10.1038/s41467-018-06267-1                         127.0\n",
       "10.1038/s41467-019-12689-2                         121.0\n",
       "10.1038/s41467-019-11651-6                          73.0\n",
       "...                                                  ...\n",
       "10.1038/s41467-019-09253-3                          78.0\n",
       "10.1038/s41467-019-12081-0                          78.0\n",
       "10.1038/s41467-018-06496-4                          78.0\n",
       "10.1038/s41467-018-04417-z                          78.0\n",
       "10.1038/s41467-019-10495-4                          78.0\n",
       "\n",
       "[16974 rows x 1 columns]"
      ]
     },
     "execution_count": 21,
     "metadata": {},
     "output_type": "execute_result"
    }
   ],
   "source": [
    "file4[file4.index.isin(file1.index)]"
   ]
  },
  {
   "cell_type": "code",
   "execution_count": 22,
   "metadata": {
    "ExecuteTime": {
     "end_time": "2021-08-23T00:57:55.746372Z",
     "start_time": "2021-08-23T00:57:55.735931Z"
    }
   },
   "outputs": [
    {
     "data": {
      "text/html": [
       "<div>\n",
       "<style scoped>\n",
       "    .dataframe tbody tr th:only-of-type {\n",
       "        vertical-align: middle;\n",
       "    }\n",
       "\n",
       "    .dataframe tbody tr th {\n",
       "        vertical-align: top;\n",
       "    }\n",
       "\n",
       "    .dataframe thead th {\n",
       "        text-align: right;\n",
       "    }\n",
       "</style>\n",
       "<table border=\"1\" class=\"dataframe\">\n",
       "  <thead>\n",
       "    <tr style=\"text-align: right;\">\n",
       "      <th></th>\n",
       "      <th>corresponding_author_h_index</th>\n",
       "    </tr>\n",
       "    <tr>\n",
       "      <th>doi</th>\n",
       "      <th></th>\n",
       "    </tr>\n",
       "  </thead>\n",
       "  <tbody>\n",
       "    <tr>\n",
       "      <th>10.1038/s41467-018-06267-1</th>\n",
       "      <td>127.0</td>\n",
       "    </tr>\n",
       "    <tr>\n",
       "      <th>10.1038/s41467-019-12689-2</th>\n",
       "      <td>121.0</td>\n",
       "    </tr>\n",
       "    <tr>\n",
       "      <th>10.1038/s41467-017-02573-2</th>\n",
       "      <td>84.0</td>\n",
       "    </tr>\n",
       "    <tr>\n",
       "      <th>10.1038/s41467-018-05531-8</th>\n",
       "      <td>121.0</td>\n",
       "    </tr>\n",
       "    <tr>\n",
       "      <th>10.1038/s41467-018-04029-7</th>\n",
       "      <td>121.0</td>\n",
       "    </tr>\n",
       "    <tr>\n",
       "      <th>...</th>\n",
       "      <td>...</td>\n",
       "    </tr>\n",
       "    <tr>\n",
       "      <th>10.1038/s41467-018-03700-3</th>\n",
       "      <td>78.0</td>\n",
       "    </tr>\n",
       "    <tr>\n",
       "      <th>10.1038/s41467-018-07407-3</th>\n",
       "      <td>78.0</td>\n",
       "    </tr>\n",
       "    <tr>\n",
       "      <th>10.1038/s41467-018-05914-x</th>\n",
       "      <td>78.0</td>\n",
       "    </tr>\n",
       "    <tr>\n",
       "      <th>10.1038/s41467-019-09253-3</th>\n",
       "      <td>78.0</td>\n",
       "    </tr>\n",
       "    <tr>\n",
       "      <th>10.1038/s41467-019-10495-4</th>\n",
       "      <td>78.0</td>\n",
       "    </tr>\n",
       "  </tbody>\n",
       "</table>\n",
       "<p>10179 rows × 1 columns</p>\n",
       "</div>"
      ],
      "text/plain": [
       "                            corresponding_author_h_index\n",
       "doi                                                     \n",
       "10.1038/s41467-018-06267-1                         127.0\n",
       "10.1038/s41467-019-12689-2                         121.0\n",
       "10.1038/s41467-017-02573-2                          84.0\n",
       "10.1038/s41467-018-05531-8                         121.0\n",
       "10.1038/s41467-018-04029-7                         121.0\n",
       "...                                                  ...\n",
       "10.1038/s41467-018-03700-3                          78.0\n",
       "10.1038/s41467-018-07407-3                          78.0\n",
       "10.1038/s41467-018-05914-x                          78.0\n",
       "10.1038/s41467-019-09253-3                          78.0\n",
       "10.1038/s41467-019-10495-4                          78.0\n",
       "\n",
       "[10179 rows x 1 columns]"
      ]
     },
     "execution_count": 22,
     "metadata": {},
     "output_type": "execute_result"
    }
   ],
   "source": [
    "file4[file4.index.duplicated(keep=False)]"
   ]
  },
  {
   "cell_type": "code",
   "execution_count": 23,
   "metadata": {
    "ExecuteTime": {
     "end_time": "2021-08-23T00:57:55.762324Z",
     "start_time": "2021-08-23T00:57:55.750895Z"
    }
   },
   "outputs": [
    {
     "data": {
      "text/html": [
       "<div>\n",
       "<style scoped>\n",
       "    .dataframe tbody tr th:only-of-type {\n",
       "        vertical-align: middle;\n",
       "    }\n",
       "\n",
       "    .dataframe tbody tr th {\n",
       "        vertical-align: top;\n",
       "    }\n",
       "\n",
       "    .dataframe thead th {\n",
       "        text-align: right;\n",
       "    }\n",
       "</style>\n",
       "<table border=\"1\" class=\"dataframe\">\n",
       "  <thead>\n",
       "    <tr style=\"text-align: right;\">\n",
       "      <th></th>\n",
       "      <th>for_name</th>\n",
       "      <th>for_code</th>\n",
       "    </tr>\n",
       "    <tr>\n",
       "      <th>doi</th>\n",
       "      <th></th>\n",
       "      <th></th>\n",
       "    </tr>\n",
       "  </thead>\n",
       "  <tbody>\n",
       "    <tr>\n",
       "      <th>10.1038/s41467-019-12157-x</th>\n",
       "      <td>Physical Sciences</td>\n",
       "      <td>2.0</td>\n",
       "    </tr>\n",
       "    <tr>\n",
       "      <th>10.1038/s41467-019-12157-x</th>\n",
       "      <td>Engineering</td>\n",
       "      <td>9.0</td>\n",
       "    </tr>\n",
       "    <tr>\n",
       "      <th>10.1038/s41467-019-12157-x</th>\n",
       "      <td>Technology</td>\n",
       "      <td>10.0</td>\n",
       "    </tr>\n",
       "    <tr>\n",
       "      <th>10.1038/s41467-019-12157-x</th>\n",
       "      <td>Engineering</td>\n",
       "      <td>9.0</td>\n",
       "    </tr>\n",
       "    <tr>\n",
       "      <th>10.1038/s41467-018-02833-9</th>\n",
       "      <td>Chemical Sciences</td>\n",
       "      <td>3.0</td>\n",
       "    </tr>\n",
       "    <tr>\n",
       "      <th>...</th>\n",
       "      <td>...</td>\n",
       "      <td>...</td>\n",
       "    </tr>\n",
       "    <tr>\n",
       "      <th>10.1038/s41467-019-09690-0</th>\n",
       "      <td>Medical and Health Sciences</td>\n",
       "      <td>11.0</td>\n",
       "    </tr>\n",
       "    <tr>\n",
       "      <th>10.1038/s41467-019-12071-2</th>\n",
       "      <td>Medical and Health Sciences</td>\n",
       "      <td>11.0</td>\n",
       "    </tr>\n",
       "    <tr>\n",
       "      <th>10.1038/s41467-019-12071-2</th>\n",
       "      <td>Biological Sciences</td>\n",
       "      <td>6.0</td>\n",
       "    </tr>\n",
       "    <tr>\n",
       "      <th>10.1038/s41467-018-06653-9</th>\n",
       "      <td>Medical and Health Sciences</td>\n",
       "      <td>11.0</td>\n",
       "    </tr>\n",
       "    <tr>\n",
       "      <th>10.1038/s41467-018-06653-9</th>\n",
       "      <td>Medical and Health Sciences</td>\n",
       "      <td>11.0</td>\n",
       "    </tr>\n",
       "  </tbody>\n",
       "</table>\n",
       "<p>6776 rows × 2 columns</p>\n",
       "</div>"
      ],
      "text/plain": [
       "                                               for_name  for_code\n",
       "doi                                                              \n",
       "10.1038/s41467-019-12157-x            Physical Sciences       2.0\n",
       "10.1038/s41467-019-12157-x                  Engineering       9.0\n",
       "10.1038/s41467-019-12157-x                   Technology      10.0\n",
       "10.1038/s41467-019-12157-x                  Engineering       9.0\n",
       "10.1038/s41467-018-02833-9            Chemical Sciences       3.0\n",
       "...                                                 ...       ...\n",
       "10.1038/s41467-019-09690-0  Medical and Health Sciences      11.0\n",
       "10.1038/s41467-019-12071-2  Medical and Health Sciences      11.0\n",
       "10.1038/s41467-019-12071-2          Biological Sciences       6.0\n",
       "10.1038/s41467-018-06653-9  Medical and Health Sciences      11.0\n",
       "10.1038/s41467-018-06653-9  Medical and Health Sciences      11.0\n",
       "\n",
       "[6776 rows x 2 columns]"
      ]
     },
     "execution_count": 23,
     "metadata": {},
     "output_type": "execute_result"
    }
   ],
   "source": [
    "file2[file2.index.duplicated(keep=False)]"
   ]
  },
  {
   "cell_type": "code",
   "execution_count": 24,
   "metadata": {
    "ExecuteTime": {
     "end_time": "2021-08-23T00:57:55.773069Z",
     "start_time": "2021-08-23T00:57:55.764242Z"
    }
   },
   "outputs": [
    {
     "data": {
      "text/plain": [
       "for_name  for_code\n",
       "False     False       14863\n",
       "True      True          261\n",
       "dtype: int64"
      ]
     },
     "execution_count": 24,
     "metadata": {},
     "output_type": "execute_result"
    }
   ],
   "source": [
    "file2.isnull().value_counts()"
   ]
  },
  {
   "cell_type": "code",
   "execution_count": 25,
   "metadata": {
    "ExecuteTime": {
     "end_time": "2021-08-23T00:57:55.786867Z",
     "start_time": "2021-08-23T00:57:55.775053Z"
    }
   },
   "outputs": [],
   "source": [
    "file13 = file1.merge(file3,on='doi')"
   ]
  },
  {
   "cell_type": "code",
   "execution_count": 26,
   "metadata": {
    "ExecuteTime": {
     "end_time": "2021-08-23T00:57:55.799830Z",
     "start_time": "2021-08-23T00:57:55.789668Z"
    }
   },
   "outputs": [
    {
     "data": {
      "text/plain": [
       "title  n_references  n_authors\n",
       "False  False         False        11347\n",
       "dtype: int64"
      ]
     },
     "execution_count": 26,
     "metadata": {},
     "output_type": "execute_result"
    }
   ],
   "source": [
    "file13.isnull().value_counts()"
   ]
  },
  {
   "cell_type": "code",
   "execution_count": 27,
   "metadata": {
    "ExecuteTime": {
     "end_time": "2021-08-23T00:57:55.817523Z",
     "start_time": "2021-08-23T00:57:55.801886Z"
    }
   },
   "outputs": [
    {
     "data": {
      "text/html": [
       "<div>\n",
       "<style scoped>\n",
       "    .dataframe tbody tr th:only-of-type {\n",
       "        vertical-align: middle;\n",
       "    }\n",
       "\n",
       "    .dataframe tbody tr th {\n",
       "        vertical-align: top;\n",
       "    }\n",
       "\n",
       "    .dataframe thead th {\n",
       "        text-align: right;\n",
       "    }\n",
       "</style>\n",
       "<table border=\"1\" class=\"dataframe\">\n",
       "  <thead>\n",
       "    <tr style=\"text-align: right;\">\n",
       "      <th></th>\n",
       "      <th>title</th>\n",
       "      <th>n_references</th>\n",
       "      <th>n_authors</th>\n",
       "    </tr>\n",
       "    <tr>\n",
       "      <th>doi</th>\n",
       "      <th></th>\n",
       "      <th></th>\n",
       "      <th></th>\n",
       "    </tr>\n",
       "  </thead>\n",
       "  <tbody>\n",
       "    <tr>\n",
       "      <th>10.1038/s41467-019-11922-2</th>\n",
       "      <td>Author Correction: Recent increases in tropical cyclone intensification rates</td>\n",
       "      <td>0</td>\n",
       "      <td>7</td>\n",
       "    </tr>\n",
       "    <tr>\n",
       "      <th>10.1038/s41467-019-08800-2</th>\n",
       "      <td>Author Correction: CHD3 helicase domain mutations cause a neurodevelopmental syndrome with macrocephaly and impaired speech and language</td>\n",
       "      <td>0</td>\n",
       "      <td>80</td>\n",
       "    </tr>\n",
       "    <tr>\n",
       "      <th>10.1038/s41467-019-09457-7</th>\n",
       "      <td>Author Correction: Generation and characterization of ultrathin free-flowing liquid sheets</td>\n",
       "      <td>0</td>\n",
       "      <td>13</td>\n",
       "    </tr>\n",
       "    <tr>\n",
       "      <th>10.1038/s41467-018-02945-2</th>\n",
       "      <td>Author Correction: Induced unconventional superconductivity on the surface states of Bi2Te3 topological insulator</td>\n",
       "      <td>0</td>\n",
       "      <td>14</td>\n",
       "    </tr>\n",
       "    <tr>\n",
       "      <th>10.1038/s41467-019-10580-8</th>\n",
       "      <td>Author Correction: Efficient electron transfer across hydrogen bond interfaces by proton-coupled and -uncoupled pathways</td>\n",
       "      <td>0</td>\n",
       "      <td>12</td>\n",
       "    </tr>\n",
       "    <tr>\n",
       "      <th>10.1038/s41467-017-02206-8</th>\n",
       "      <td>Author Correction: Myoblasts and macrophages are required for therapeutic morpholino antisense oligonucleotide delivery to dystrophic muscle</td>\n",
       "      <td>0</td>\n",
       "      <td>14</td>\n",
       "    </tr>\n",
       "    <tr>\n",
       "      <th>10.1038/s41467-019-10254-5</th>\n",
       "      <td>Author Correction: Genome-wide association study of alcohol consumption and use disorder in 274,424 individuals from multiple populations</td>\n",
       "      <td>0</td>\n",
       "      <td>20</td>\n",
       "    </tr>\n",
       "    <tr>\n",
       "      <th>10.1038/s41467-018-03709-8</th>\n",
       "      <td>Author Correction: Myoblasts and macrophages are required for therapeutic morpholino antisense oligonucleotide delivery to dystrophic muscle</td>\n",
       "      <td>0</td>\n",
       "      <td>14</td>\n",
       "    </tr>\n",
       "    <tr>\n",
       "      <th>10.1038/s41467-017-02594-x</th>\n",
       "      <td>Author Correction: Induced unconventional superconductivity on the surface states of Bi2Te3 topological insulator</td>\n",
       "      <td>0</td>\n",
       "      <td>14</td>\n",
       "    </tr>\n",
       "    <tr>\n",
       "      <th>10.1038/s41467-019-12198-2</th>\n",
       "      <td>Author Correction: Mitochondria-specific drug release and reactive oxygen species burst induced by polyprodrug nanoreactors can enhance chemotherapy</td>\n",
       "      <td>0</td>\n",
       "      <td>4</td>\n",
       "    </tr>\n",
       "    <tr>\n",
       "      <th>10.1038/s41467-019-08341-8</th>\n",
       "      <td>Publisher Correction: Integrating chemical and mechanical signals through dynamic coupling between cellular protrusions and pulsed ERK activation</td>\n",
       "      <td>0</td>\n",
       "      <td>7</td>\n",
       "    </tr>\n",
       "    <tr>\n",
       "      <th>10.1038/s41467-018-07398-1</th>\n",
       "      <td>Author Correction: Bi-directional cell-pericellular matrix interactions direct stem cell fate</td>\n",
       "      <td>0</td>\n",
       "      <td>22</td>\n",
       "    </tr>\n",
       "    <tr>\n",
       "      <th>10.1038/s41467-019-13620-5</th>\n",
       "      <td>Author Correction: Gene correction for SCID-X1 in long-term hematopoietic stem cells</td>\n",
       "      <td>0</td>\n",
       "      <td>18</td>\n",
       "    </tr>\n",
       "    <tr>\n",
       "      <th>10.1038/s41467-018-07843-1</th>\n",
       "      <td>Author Correction: Bi-directional cell-pericellular matrix interactions direct stem cell fate</td>\n",
       "      <td>0</td>\n",
       "      <td>22</td>\n",
       "    </tr>\n",
       "    <tr>\n",
       "      <th>10.1038/s41467-018-05365-4</th>\n",
       "      <td>Author Correction: Generation and characterization of ultrathin free-flowing liquid sheets</td>\n",
       "      <td>0</td>\n",
       "      <td>13</td>\n",
       "    </tr>\n",
       "    <tr>\n",
       "      <th>10.1038/s41467-019-10193-1</th>\n",
       "      <td>Author Correction: Efficient electron transfer across hydrogen bond interfaces by proton-coupled and -uncoupled pathways</td>\n",
       "      <td>0</td>\n",
       "      <td>12</td>\n",
       "    </tr>\n",
       "    <tr>\n",
       "      <th>10.1038/s41467-019-11916-0</th>\n",
       "      <td>Author Correction: Genome-wide association study of alcohol consumption and use disorder in 274,424 individuals from multiple populations</td>\n",
       "      <td>0</td>\n",
       "      <td>20</td>\n",
       "    </tr>\n",
       "    <tr>\n",
       "      <th>10.1038/s41467-018-07842-2</th>\n",
       "      <td>Author Correction: Pan-cancer analysis of homozygous deletions in primary tumours uncovers rare tumour suppressors</td>\n",
       "      <td>0</td>\n",
       "      <td>18</td>\n",
       "    </tr>\n",
       "    <tr>\n",
       "      <th>10.1038/s41467-019-08330-x</th>\n",
       "      <td>Publisher Correction: Integrating chemical and mechanical signals through dynamic coupling between cellular protrusions and pulsed ERK activation</td>\n",
       "      <td>0</td>\n",
       "      <td>7</td>\n",
       "    </tr>\n",
       "    <tr>\n",
       "      <th>10.1038/s41467-019-10186-0</th>\n",
       "      <td>Author Correction: Mitochondria-specific drug release and reactive oxygen species burst induced by polyprodrug nanoreactors can enhance chemotherapy</td>\n",
       "      <td>0</td>\n",
       "      <td>4</td>\n",
       "    </tr>\n",
       "    <tr>\n",
       "      <th>10.1038/s41467-019-10161-9</th>\n",
       "      <td>Author Correction: CHD3 helicase domain mutations cause a neurodevelopmental syndrome with macrocephaly and impaired speech and language</td>\n",
       "      <td>0</td>\n",
       "      <td>80</td>\n",
       "    </tr>\n",
       "    <tr>\n",
       "      <th>10.1038/s41467-019-08963-y</th>\n",
       "      <td>Author Correction: Recent increases in tropical cyclone intensification rates</td>\n",
       "      <td>0</td>\n",
       "      <td>7</td>\n",
       "    </tr>\n",
       "    <tr>\n",
       "      <th>10.1038/s41467-019-08512-7</th>\n",
       "      <td>Author Correction: Pan-cancer analysis of homozygous deletions in primary tumours uncovers rare tumour suppressors</td>\n",
       "      <td>0</td>\n",
       "      <td>18</td>\n",
       "    </tr>\n",
       "    <tr>\n",
       "      <th>10.1038/s41467-019-10080-9</th>\n",
       "      <td>Author Correction: Gene correction for SCID-X1 in long-term hematopoietic stem cells</td>\n",
       "      <td>0</td>\n",
       "      <td>18</td>\n",
       "    </tr>\n",
       "  </tbody>\n",
       "</table>\n",
       "</div>"
      ],
      "text/plain": [
       "                                                                                                                                                                           title  \\\n",
       "doi                                                                                                                                                                                \n",
       "10.1038/s41467-019-11922-2                                                                         Author Correction: Recent increases in tropical cyclone intensification rates   \n",
       "10.1038/s41467-019-08800-2              Author Correction: CHD3 helicase domain mutations cause a neurodevelopmental syndrome with macrocephaly and impaired speech and language   \n",
       "10.1038/s41467-019-09457-7                                                            Author Correction: Generation and characterization of ultrathin free-flowing liquid sheets   \n",
       "10.1038/s41467-018-02945-2                                     Author Correction: Induced unconventional superconductivity on the surface states of Bi2Te3 topological insulator   \n",
       "10.1038/s41467-019-10580-8                              Author Correction: Efficient electron transfer across hydrogen bond interfaces by proton-coupled and -uncoupled pathways   \n",
       "10.1038/s41467-017-02206-8          Author Correction: Myoblasts and macrophages are required for therapeutic morpholino antisense oligonucleotide delivery to dystrophic muscle   \n",
       "10.1038/s41467-019-10254-5             Author Correction: Genome-wide association study of alcohol consumption and use disorder in 274,424 individuals from multiple populations   \n",
       "10.1038/s41467-018-03709-8          Author Correction: Myoblasts and macrophages are required for therapeutic morpholino antisense oligonucleotide delivery to dystrophic muscle   \n",
       "10.1038/s41467-017-02594-x                                     Author Correction: Induced unconventional superconductivity on the surface states of Bi2Te3 topological insulator   \n",
       "10.1038/s41467-019-12198-2  Author Correction: Mitochondria-specific drug release and reactive oxygen species burst induced by polyprodrug nanoreactors can enhance chemotherapy   \n",
       "10.1038/s41467-019-08341-8     Publisher Correction: Integrating chemical and mechanical signals through dynamic coupling between cellular protrusions and pulsed ERK activation   \n",
       "10.1038/s41467-018-07398-1                                                         Author Correction: Bi-directional cell-pericellular matrix interactions direct stem cell fate   \n",
       "10.1038/s41467-019-13620-5                                                                  Author Correction: Gene correction for SCID-X1 in long-term hematopoietic stem cells   \n",
       "10.1038/s41467-018-07843-1                                                         Author Correction: Bi-directional cell-pericellular matrix interactions direct stem cell fate   \n",
       "10.1038/s41467-018-05365-4                                                            Author Correction: Generation and characterization of ultrathin free-flowing liquid sheets   \n",
       "10.1038/s41467-019-10193-1                              Author Correction: Efficient electron transfer across hydrogen bond interfaces by proton-coupled and -uncoupled pathways   \n",
       "10.1038/s41467-019-11916-0             Author Correction: Genome-wide association study of alcohol consumption and use disorder in 274,424 individuals from multiple populations   \n",
       "10.1038/s41467-018-07842-2                                    Author Correction: Pan-cancer analysis of homozygous deletions in primary tumours uncovers rare tumour suppressors   \n",
       "10.1038/s41467-019-08330-x     Publisher Correction: Integrating chemical and mechanical signals through dynamic coupling between cellular protrusions and pulsed ERK activation   \n",
       "10.1038/s41467-019-10186-0  Author Correction: Mitochondria-specific drug release and reactive oxygen species burst induced by polyprodrug nanoreactors can enhance chemotherapy   \n",
       "10.1038/s41467-019-10161-9              Author Correction: CHD3 helicase domain mutations cause a neurodevelopmental syndrome with macrocephaly and impaired speech and language   \n",
       "10.1038/s41467-019-08963-y                                                                         Author Correction: Recent increases in tropical cyclone intensification rates   \n",
       "10.1038/s41467-019-08512-7                                    Author Correction: Pan-cancer analysis of homozygous deletions in primary tumours uncovers rare tumour suppressors   \n",
       "10.1038/s41467-019-10080-9                                                                  Author Correction: Gene correction for SCID-X1 in long-term hematopoietic stem cells   \n",
       "\n",
       "                            n_references  n_authors  \n",
       "doi                                                  \n",
       "10.1038/s41467-019-11922-2             0          7  \n",
       "10.1038/s41467-019-08800-2             0         80  \n",
       "10.1038/s41467-019-09457-7             0         13  \n",
       "10.1038/s41467-018-02945-2             0         14  \n",
       "10.1038/s41467-019-10580-8             0         12  \n",
       "10.1038/s41467-017-02206-8             0         14  \n",
       "10.1038/s41467-019-10254-5             0         20  \n",
       "10.1038/s41467-018-03709-8             0         14  \n",
       "10.1038/s41467-017-02594-x             0         14  \n",
       "10.1038/s41467-019-12198-2             0          4  \n",
       "10.1038/s41467-019-08341-8             0          7  \n",
       "10.1038/s41467-018-07398-1             0         22  \n",
       "10.1038/s41467-019-13620-5             0         18  \n",
       "10.1038/s41467-018-07843-1             0         22  \n",
       "10.1038/s41467-018-05365-4             0         13  \n",
       "10.1038/s41467-019-10193-1             0         12  \n",
       "10.1038/s41467-019-11916-0             0         20  \n",
       "10.1038/s41467-018-07842-2             0         18  \n",
       "10.1038/s41467-019-08330-x             0          7  \n",
       "10.1038/s41467-019-10186-0             0          4  \n",
       "10.1038/s41467-019-10161-9             0         80  \n",
       "10.1038/s41467-019-08963-y             0          7  \n",
       "10.1038/s41467-019-08512-7             0         18  \n",
       "10.1038/s41467-019-10080-9             0         18  "
      ]
     },
     "execution_count": 27,
     "metadata": {},
     "output_type": "execute_result"
    }
   ],
   "source": [
    "file13[file13.duplicated(keep=False,subset='title')==True]"
   ]
  },
  {
   "cell_type": "code",
   "execution_count": 28,
   "metadata": {
    "ExecuteTime": {
     "end_time": "2021-08-23T00:57:55.829486Z",
     "start_time": "2021-08-23T00:57:55.819955Z"
    }
   },
   "outputs": [],
   "source": [
    "file13 = file13.drop_duplicates(subset='title', keep=False)"
   ]
  },
  {
   "cell_type": "code",
   "execution_count": 29,
   "metadata": {
    "ExecuteTime": {
     "end_time": "2021-08-23T00:57:55.843041Z",
     "start_time": "2021-08-23T00:57:55.831417Z"
    }
   },
   "outputs": [
    {
     "name": "stdout",
     "output_type": "stream",
     "text": [
      "<class 'pandas.core.frame.DataFrame'>\n",
      "Index: 11323 entries, 10.1038/s41467-019-12157-x to 10.1038/s41467-019-13678-1\n",
      "Data columns (total 3 columns):\n",
      " #   Column        Non-Null Count  Dtype \n",
      "---  ------        --------------  ----- \n",
      " 0   title         11323 non-null  object\n",
      " 1   n_references  11323 non-null  int64 \n",
      " 2   n_authors     11323 non-null  int64 \n",
      "dtypes: int64(2), object(1)\n",
      "memory usage: 353.8+ KB\n"
     ]
    }
   ],
   "source": [
    "file13.info()"
   ]
  },
  {
   "cell_type": "code",
   "execution_count": 30,
   "metadata": {
    "ExecuteTime": {
     "end_time": "2021-08-23T00:57:55.851917Z",
     "start_time": "2021-08-23T00:57:55.845634Z"
    }
   },
   "outputs": [],
   "source": [
    "file2dup = file2[file2.index.duplicated(keep=False)]"
   ]
  },
  {
   "cell_type": "code",
   "execution_count": 31,
   "metadata": {
    "ExecuteTime": {
     "end_time": "2021-08-23T00:57:55.866040Z",
     "start_time": "2021-08-23T00:57:55.854432Z"
    }
   },
   "outputs": [
    {
     "data": {
      "text/html": [
       "<div>\n",
       "<style scoped>\n",
       "    .dataframe tbody tr th:only-of-type {\n",
       "        vertical-align: middle;\n",
       "    }\n",
       "\n",
       "    .dataframe tbody tr th {\n",
       "        vertical-align: top;\n",
       "    }\n",
       "\n",
       "    .dataframe thead th {\n",
       "        text-align: right;\n",
       "    }\n",
       "</style>\n",
       "<table border=\"1\" class=\"dataframe\">\n",
       "  <thead>\n",
       "    <tr style=\"text-align: right;\">\n",
       "      <th></th>\n",
       "      <th>for_name</th>\n",
       "      <th>for_code</th>\n",
       "    </tr>\n",
       "    <tr>\n",
       "      <th>doi</th>\n",
       "      <th></th>\n",
       "      <th></th>\n",
       "    </tr>\n",
       "  </thead>\n",
       "  <tbody>\n",
       "    <tr>\n",
       "      <th>10.1038/s41467-019-12157-x</th>\n",
       "      <td>Physical Sciences</td>\n",
       "      <td>2.0</td>\n",
       "    </tr>\n",
       "    <tr>\n",
       "      <th>10.1038/s41467-019-12157-x</th>\n",
       "      <td>Engineering</td>\n",
       "      <td>9.0</td>\n",
       "    </tr>\n",
       "    <tr>\n",
       "      <th>10.1038/s41467-019-12157-x</th>\n",
       "      <td>Technology</td>\n",
       "      <td>10.0</td>\n",
       "    </tr>\n",
       "    <tr>\n",
       "      <th>10.1038/s41467-019-12157-x</th>\n",
       "      <td>Engineering</td>\n",
       "      <td>9.0</td>\n",
       "    </tr>\n",
       "    <tr>\n",
       "      <th>10.1038/s41467-018-02833-9</th>\n",
       "      <td>Chemical Sciences</td>\n",
       "      <td>3.0</td>\n",
       "    </tr>\n",
       "    <tr>\n",
       "      <th>...</th>\n",
       "      <td>...</td>\n",
       "      <td>...</td>\n",
       "    </tr>\n",
       "    <tr>\n",
       "      <th>10.1038/s41467-019-09690-0</th>\n",
       "      <td>Medical and Health Sciences</td>\n",
       "      <td>11.0</td>\n",
       "    </tr>\n",
       "    <tr>\n",
       "      <th>10.1038/s41467-019-12071-2</th>\n",
       "      <td>Medical and Health Sciences</td>\n",
       "      <td>11.0</td>\n",
       "    </tr>\n",
       "    <tr>\n",
       "      <th>10.1038/s41467-019-12071-2</th>\n",
       "      <td>Biological Sciences</td>\n",
       "      <td>6.0</td>\n",
       "    </tr>\n",
       "    <tr>\n",
       "      <th>10.1038/s41467-018-06653-9</th>\n",
       "      <td>Medical and Health Sciences</td>\n",
       "      <td>11.0</td>\n",
       "    </tr>\n",
       "    <tr>\n",
       "      <th>10.1038/s41467-018-06653-9</th>\n",
       "      <td>Medical and Health Sciences</td>\n",
       "      <td>11.0</td>\n",
       "    </tr>\n",
       "  </tbody>\n",
       "</table>\n",
       "<p>6776 rows × 2 columns</p>\n",
       "</div>"
      ],
      "text/plain": [
       "                                               for_name  for_code\n",
       "doi                                                              \n",
       "10.1038/s41467-019-12157-x            Physical Sciences       2.0\n",
       "10.1038/s41467-019-12157-x                  Engineering       9.0\n",
       "10.1038/s41467-019-12157-x                   Technology      10.0\n",
       "10.1038/s41467-019-12157-x                  Engineering       9.0\n",
       "10.1038/s41467-018-02833-9            Chemical Sciences       3.0\n",
       "...                                                 ...       ...\n",
       "10.1038/s41467-019-09690-0  Medical and Health Sciences      11.0\n",
       "10.1038/s41467-019-12071-2  Medical and Health Sciences      11.0\n",
       "10.1038/s41467-019-12071-2          Biological Sciences       6.0\n",
       "10.1038/s41467-018-06653-9  Medical and Health Sciences      11.0\n",
       "10.1038/s41467-018-06653-9  Medical and Health Sciences      11.0\n",
       "\n",
       "[6776 rows x 2 columns]"
      ]
     },
     "execution_count": 31,
     "metadata": {},
     "output_type": "execute_result"
    }
   ],
   "source": [
    "file2dup"
   ]
  },
  {
   "cell_type": "code",
   "execution_count": 32,
   "metadata": {
    "ExecuteTime": {
     "end_time": "2021-08-23T00:57:55.875492Z",
     "start_time": "2021-08-23T00:57:55.868450Z"
    }
   },
   "outputs": [
    {
     "data": {
      "text/plain": [
       "Biological Sciences                           2209\n",
       "Chemical Sciences                             1358\n",
       "Medical and Health Sciences                   1112\n",
       "Engineering                                    585\n",
       "Physical Sciences                              571\n",
       "Earth Sciences                                 375\n",
       "Environmental Sciences                         167\n",
       "Technology                                     130\n",
       "Psychology and Cognitive Sciences              118\n",
       "Information and Computing Sciences              56\n",
       "Agricultural and Veterinary Sciences            41\n",
       "Mathematical Sciences                           28\n",
       "History and Archaeology                         11\n",
       "Economics                                       10\n",
       "Language, Communication and Culture              3\n",
       "Commerce, Management, Tourism and Services       1\n",
       "Law and Legal Studies                            1\n",
       "Name: for_name, dtype: int64"
      ]
     },
     "execution_count": 32,
     "metadata": {},
     "output_type": "execute_result"
    }
   ],
   "source": [
    "file2dup['for_name'].value_counts()"
   ]
  },
  {
   "cell_type": "markdown",
   "metadata": {},
   "source": [
    "The file2dup could be of interest to understand why and how duplicates arise, where they are sumitted"
   ]
  },
  {
   "cell_type": "code",
   "execution_count": 33,
   "metadata": {
    "ExecuteTime": {
     "end_time": "2021-08-23T00:57:55.886329Z",
     "start_time": "2021-08-23T00:57:55.879777Z"
    }
   },
   "outputs": [],
   "source": [
    "file2 = file2[~file2.index.duplicated(keep=False)]"
   ]
  },
  {
   "cell_type": "code",
   "execution_count": 34,
   "metadata": {
    "ExecuteTime": {
     "end_time": "2021-08-23T00:57:55.895750Z",
     "start_time": "2021-08-23T00:57:55.888747Z"
    }
   },
   "outputs": [
    {
     "data": {
      "text/plain": [
       "Biological Sciences                           2921\n",
       "Medical and Health Sciences                   1831\n",
       "Chemical Sciences                              988\n",
       "Engineering                                    717\n",
       "Physical Sciences                              660\n",
       "Earth Sciences                                 283\n",
       "Psychology and Cognitive Sciences              190\n",
       "Information and Computing Sciences             175\n",
       "Mathematical Sciences                           97\n",
       "Technology                                      76\n",
       "Environmental Sciences                          44\n",
       "Economics                                       25\n",
       "Studies in Human Society                        24\n",
       "History and Archaeology                         20\n",
       "Agricultural and Veterinary Sciences            14\n",
       "Language, Communication and Culture              9\n",
       "Law and Legal Studies                            5\n",
       "Commerce, Management, Tourism and Services       3\n",
       "Philosophy and Religious Studies                 2\n",
       "Built Environment and Design                     2\n",
       "Studies in Creative Arts and Writing             1\n",
       "Name: for_name, dtype: int64"
      ]
     },
     "execution_count": 34,
     "metadata": {},
     "output_type": "execute_result"
    }
   ],
   "source": [
    "file2['for_name'].value_counts()"
   ]
  },
  {
   "cell_type": "code",
   "execution_count": 35,
   "metadata": {
    "ExecuteTime": {
     "end_time": "2021-08-23T00:57:55.905622Z",
     "start_time": "2021-08-23T00:57:55.898291Z"
    }
   },
   "outputs": [
    {
     "data": {
      "text/plain": [
       "0.9385433411648324"
      ]
     },
     "execution_count": 35,
     "metadata": {},
     "output_type": "execute_result"
    }
   ],
   "source": [
    "(2921+1831+988+717+660+283+190)/file2['for_name'].value_counts().sum()"
   ]
  },
  {
   "cell_type": "code",
   "execution_count": 36,
   "metadata": {
    "ExecuteTime": {
     "end_time": "2021-08-23T00:57:56.206218Z",
     "start_time": "2021-08-23T00:57:55.908386Z"
    }
   },
   "outputs": [
    {
     "data": {
      "text/plain": [
       "Text(0.5, 1.0, 'Numbers of Manuscript Submitted to Academic Field ')"
      ]
     },
     "execution_count": 36,
     "metadata": {},
     "output_type": "execute_result"
    },
    {
     "data": {
      "image/png": "[encoded data removed]",
      "text/plain": [
       "<Figure size 432x288 with 1 Axes>"
      ]
     },
     "metadata": {
      "needs_background": "light"
     },
     "output_type": "display_data"
    }
   ],
   "source": [
    "file2['for_name'].value_counts().plot.bar()\n",
    "plt.title('Numbers of Manuscript Submitted to Academic Field ')"
   ]
  },
  {
   "cell_type": "code",
   "execution_count": 37,
   "metadata": {
    "ExecuteTime": {
     "end_time": "2021-08-23T00:57:56.219572Z",
     "start_time": "2021-08-23T00:57:56.209419Z"
    }
   },
   "outputs": [
    {
     "data": {
      "text/html": [
       "<div>\n",
       "<style scoped>\n",
       "    .dataframe tbody tr th:only-of-type {\n",
       "        vertical-align: middle;\n",
       "    }\n",
       "\n",
       "    .dataframe tbody tr th {\n",
       "        vertical-align: top;\n",
       "    }\n",
       "\n",
       "    .dataframe thead th {\n",
       "        text-align: right;\n",
       "    }\n",
       "</style>\n",
       "<table border=\"1\" class=\"dataframe\">\n",
       "  <thead>\n",
       "    <tr style=\"text-align: right;\">\n",
       "      <th></th>\n",
       "      <th>for_name</th>\n",
       "      <th>for_code</th>\n",
       "    </tr>\n",
       "    <tr>\n",
       "      <th>doi</th>\n",
       "      <th></th>\n",
       "      <th></th>\n",
       "    </tr>\n",
       "  </thead>\n",
       "  <tbody>\n",
       "    <tr>\n",
       "      <th>10.1038/s41467-019-13371-3</th>\n",
       "      <td>Physical Sciences</td>\n",
       "      <td>2.0</td>\n",
       "    </tr>\n",
       "    <tr>\n",
       "      <th>10.1038/s41467-018-03933-2</th>\n",
       "      <td>Biological Sciences</td>\n",
       "      <td>6.0</td>\n",
       "    </tr>\n",
       "    <tr>\n",
       "      <th>10.1038/s41467-018-07414-4</th>\n",
       "      <td>Chemical Sciences</td>\n",
       "      <td>3.0</td>\n",
       "    </tr>\n",
       "    <tr>\n",
       "      <th>10.1038/s41467-019-10249-2</th>\n",
       "      <td>Physical Sciences</td>\n",
       "      <td>2.0</td>\n",
       "    </tr>\n",
       "    <tr>\n",
       "      <th>10.1038/s41467-017-02720-9</th>\n",
       "      <td>Biological Sciences</td>\n",
       "      <td>6.0</td>\n",
       "    </tr>\n",
       "    <tr>\n",
       "      <th>...</th>\n",
       "      <td>...</td>\n",
       "      <td>...</td>\n",
       "    </tr>\n",
       "    <tr>\n",
       "      <th>10.1038/s41467-018-05894-y</th>\n",
       "      <td>Medical and Health Sciences</td>\n",
       "      <td>11.0</td>\n",
       "    </tr>\n",
       "    <tr>\n",
       "      <th>10.1038/s41467-019-10365-z</th>\n",
       "      <td>Psychology and Cognitive Sciences</td>\n",
       "      <td>17.0</td>\n",
       "    </tr>\n",
       "    <tr>\n",
       "      <th>10.1038/s41467-019-13535-1</th>\n",
       "      <td>Medical and Health Sciences</td>\n",
       "      <td>11.0</td>\n",
       "    </tr>\n",
       "    <tr>\n",
       "      <th>10.1038/s41467-019-08739-4</th>\n",
       "      <td>Medical and Health Sciences</td>\n",
       "      <td>11.0</td>\n",
       "    </tr>\n",
       "    <tr>\n",
       "      <th>10.1038/s41467-019-10160-w</th>\n",
       "      <td>Biological Sciences</td>\n",
       "      <td>6.0</td>\n",
       "    </tr>\n",
       "  </tbody>\n",
       "</table>\n",
       "<p>8348 rows × 2 columns</p>\n",
       "</div>"
      ],
      "text/plain": [
       "                                                     for_name  for_code\n",
       "doi                                                                    \n",
       "10.1038/s41467-019-13371-3                  Physical Sciences       2.0\n",
       "10.1038/s41467-018-03933-2                Biological Sciences       6.0\n",
       "10.1038/s41467-018-07414-4                  Chemical Sciences       3.0\n",
       "10.1038/s41467-019-10249-2                  Physical Sciences       2.0\n",
       "10.1038/s41467-017-02720-9                Biological Sciences       6.0\n",
       "...                                                       ...       ...\n",
       "10.1038/s41467-018-05894-y        Medical and Health Sciences      11.0\n",
       "10.1038/s41467-019-10365-z  Psychology and Cognitive Sciences      17.0\n",
       "10.1038/s41467-019-13535-1        Medical and Health Sciences      11.0\n",
       "10.1038/s41467-019-08739-4        Medical and Health Sciences      11.0\n",
       "10.1038/s41467-019-10160-w                Biological Sciences       6.0\n",
       "\n",
       "[8348 rows x 2 columns]"
      ]
     },
     "execution_count": 37,
     "metadata": {},
     "output_type": "execute_result"
    }
   ],
   "source": [
    "file2"
   ]
  },
  {
   "cell_type": "code",
   "execution_count": 38,
   "metadata": {
    "ExecuteTime": {
     "end_time": "2021-08-23T00:57:56.228522Z",
     "start_time": "2021-08-23T00:57:56.222049Z"
    }
   },
   "outputs": [],
   "source": [
    "file4 = file4[~file4.index.duplicated(keep=False)]"
   ]
  },
  {
   "cell_type": "code",
   "execution_count": 39,
   "metadata": {
    "ExecuteTime": {
     "end_time": "2021-08-23T00:57:56.253364Z",
     "start_time": "2021-08-23T00:57:56.232779Z"
    }
   },
   "outputs": [
    {
     "data": {
      "text/html": [
       "<div>\n",
       "<style scoped>\n",
       "    .dataframe tbody tr th:only-of-type {\n",
       "        vertical-align: middle;\n",
       "    }\n",
       "\n",
       "    .dataframe tbody tr th {\n",
       "        vertical-align: top;\n",
       "    }\n",
       "\n",
       "    .dataframe thead th {\n",
       "        text-align: right;\n",
       "    }\n",
       "</style>\n",
       "<table border=\"1\" class=\"dataframe\">\n",
       "  <thead>\n",
       "    <tr style=\"text-align: right;\">\n",
       "      <th></th>\n",
       "      <th>corresponding_author_h_index</th>\n",
       "    </tr>\n",
       "    <tr>\n",
       "      <th>doi</th>\n",
       "      <th></th>\n",
       "    </tr>\n",
       "  </thead>\n",
       "  <tbody>\n",
       "    <tr>\n",
       "      <th>10.1038/s41467-018-06932-5</th>\n",
       "      <td>83.0</td>\n",
       "    </tr>\n",
       "    <tr>\n",
       "      <th>10.1038/s41467-019-09538-7</th>\n",
       "      <td>121.0</td>\n",
       "    </tr>\n",
       "    <tr>\n",
       "      <th>10.1038/s41467-019-11651-6</th>\n",
       "      <td>73.0</td>\n",
       "    </tr>\n",
       "    <tr>\n",
       "      <th>10.1038/s41467-019-12788-0</th>\n",
       "      <td>121.0</td>\n",
       "    </tr>\n",
       "    <tr>\n",
       "      <th>10.1038/s41467-019-13833-8</th>\n",
       "      <td>121.0</td>\n",
       "    </tr>\n",
       "    <tr>\n",
       "      <th>...</th>\n",
       "      <td>...</td>\n",
       "    </tr>\n",
       "    <tr>\n",
       "      <th>10.1038/s41467-019-11972-6</th>\n",
       "      <td>78.0</td>\n",
       "    </tr>\n",
       "    <tr>\n",
       "      <th>10.1038/s41467-018-05655-x</th>\n",
       "      <td>78.0</td>\n",
       "    </tr>\n",
       "    <tr>\n",
       "      <th>10.1038/s41467-019-12081-0</th>\n",
       "      <td>78.0</td>\n",
       "    </tr>\n",
       "    <tr>\n",
       "      <th>10.1038/s41467-018-06496-4</th>\n",
       "      <td>78.0</td>\n",
       "    </tr>\n",
       "    <tr>\n",
       "      <th>10.1038/s41467-018-04417-z</th>\n",
       "      <td>78.0</td>\n",
       "    </tr>\n",
       "  </tbody>\n",
       "</table>\n",
       "<p>6795 rows × 1 columns</p>\n",
       "</div>"
      ],
      "text/plain": [
       "                            corresponding_author_h_index\n",
       "doi                                                     \n",
       "10.1038/s41467-018-06932-5                          83.0\n",
       "10.1038/s41467-019-09538-7                         121.0\n",
       "10.1038/s41467-019-11651-6                          73.0\n",
       "10.1038/s41467-019-12788-0                         121.0\n",
       "10.1038/s41467-019-13833-8                         121.0\n",
       "...                                                  ...\n",
       "10.1038/s41467-019-11972-6                          78.0\n",
       "10.1038/s41467-018-05655-x                          78.0\n",
       "10.1038/s41467-019-12081-0                          78.0\n",
       "10.1038/s41467-018-06496-4                          78.0\n",
       "10.1038/s41467-018-04417-z                          78.0\n",
       "\n",
       "[6795 rows x 1 columns]"
      ]
     },
     "execution_count": 39,
     "metadata": {},
     "output_type": "execute_result"
    }
   ],
   "source": [
    "file4"
   ]
  },
  {
   "cell_type": "code",
   "execution_count": 40,
   "metadata": {
    "ExecuteTime": {
     "end_time": "2021-08-23T00:57:56.265628Z",
     "start_time": "2021-08-23T00:57:56.256120Z"
    }
   },
   "outputs": [],
   "source": [
    "file13_to_drop = file13.index[~file13.index.isin(file2.index)]"
   ]
  },
  {
   "cell_type": "code",
   "execution_count": 41,
   "metadata": {
    "ExecuteTime": {
     "end_time": "2021-08-23T00:57:56.281066Z",
     "start_time": "2021-08-23T00:57:56.269785Z"
    }
   },
   "outputs": [
    {
     "data": {
      "text/plain": [
       "Index(['10.1038/s41467-019-12157-x', '10.1038/s41467-019-10852-3',\n",
       "       '10.1038/s41467-019-12741-1', '10.1038/s41467-018-03545-w',\n",
       "       '10.1038/s41467-018-06697-x', '10.1038/s41467-018-06105-4',\n",
       "       '10.1038/s41467-019-12439-4', '10.1038/s41467-018-06898-4',\n",
       "       '10.1038/s41467-018-04785-6', '10.1038/s41467-018-04405-3',\n",
       "       ...\n",
       "       '10.1038/s41467-018-08175-w', '10.1038/s41467-018-04391-6',\n",
       "       '10.1038/s41467-018-07293-9', '10.1038/s41467-018-06123-2',\n",
       "       '10.1038/s41467-018-02938-1', '10.1038/s41467-017-02559-0',\n",
       "       '10.1038/s41467-018-07584-1', '10.1038/s41467-018-06653-9',\n",
       "       '10.1038/s41467-018-07739-0', '10.1038/s41467-019-13678-1'],\n",
       "      dtype='object', name='doi', length=2999)"
      ]
     },
     "execution_count": 41,
     "metadata": {},
     "output_type": "execute_result"
    }
   ],
   "source": [
    "file13_to_drop"
   ]
  },
  {
   "cell_type": "markdown",
   "metadata": {},
   "source": [
    "The above shows the indices that need to be dropped to merge file 13 with 2"
   ]
  },
  {
   "cell_type": "code",
   "execution_count": 42,
   "metadata": {
    "ExecuteTime": {
     "end_time": "2021-08-23T00:57:56.301164Z",
     "start_time": "2021-08-23T00:57:56.283779Z"
    }
   },
   "outputs": [
    {
     "data": {
      "text/html": [
       "<div>\n",
       "<style scoped>\n",
       "    .dataframe tbody tr th:only-of-type {\n",
       "        vertical-align: middle;\n",
       "    }\n",
       "\n",
       "    .dataframe tbody tr th {\n",
       "        vertical-align: top;\n",
       "    }\n",
       "\n",
       "    .dataframe thead th {\n",
       "        text-align: right;\n",
       "    }\n",
       "</style>\n",
       "<table border=\"1\" class=\"dataframe\">\n",
       "  <thead>\n",
       "    <tr style=\"text-align: right;\">\n",
       "      <th></th>\n",
       "      <th>title</th>\n",
       "      <th>n_references</th>\n",
       "      <th>n_authors</th>\n",
       "    </tr>\n",
       "    <tr>\n",
       "      <th>doi</th>\n",
       "      <th></th>\n",
       "      <th></th>\n",
       "      <th></th>\n",
       "    </tr>\n",
       "  </thead>\n",
       "  <tbody>\n",
       "    <tr>\n",
       "      <th>10.1038/s41467-019-12157-x</th>\n",
       "      <td>Surface acoustic wave photonic devices in silicon on insulator</td>\n",
       "      <td>54</td>\n",
       "      <td>9</td>\n",
       "    </tr>\n",
       "    <tr>\n",
       "      <th>10.1038/s41467-018-06688-y</th>\n",
       "      <td>Thermal and electrical signatures of a hydrodynamic electron fluid in tungsten diphosphide</td>\n",
       "      <td>37</td>\n",
       "      <td>10</td>\n",
       "    </tr>\n",
       "    <tr>\n",
       "      <th>10.1038/s41467-019-10852-3</th>\n",
       "      <td>Phononic integrated circuitry and spin–orbit interaction of phonons</td>\n",
       "      <td>56</td>\n",
       "      <td>7</td>\n",
       "    </tr>\n",
       "    <tr>\n",
       "      <th>10.1038/s41467-019-11924-0</th>\n",
       "      <td>Local Josephson vortex generation and manipulation with a Magnetic Force Microscope</td>\n",
       "      <td>54</td>\n",
       "      <td>15</td>\n",
       "    </tr>\n",
       "    <tr>\n",
       "      <th>10.1038/s41467-018-07414-4</th>\n",
       "      <td>A robust zirconium amino acid metal-organic framework for proton conduction</td>\n",
       "      <td>59</td>\n",
       "      <td>11</td>\n",
       "    </tr>\n",
       "    <tr>\n",
       "      <th>...</th>\n",
       "      <td>...</td>\n",
       "      <td>...</td>\n",
       "      <td>...</td>\n",
       "    </tr>\n",
       "    <tr>\n",
       "      <th>10.1038/s41467-018-07739-0</th>\n",
       "      <td>aPKC controls endothelial growth by modulating c-Myc via FoxO1 DNA-binding ability</td>\n",
       "      <td>71</td>\n",
       "      <td>22</td>\n",
       "    </tr>\n",
       "    <tr>\n",
       "      <th>10.1038/s41467-019-08769-y</th>\n",
       "      <td>Single gold-bridged nanoprobes for identification of single point DNA mutations</td>\n",
       "      <td>64</td>\n",
       "      <td>7</td>\n",
       "    </tr>\n",
       "    <tr>\n",
       "      <th>10.1038/s41467-019-11237-2</th>\n",
       "      <td>Conditional expression explains molecular evolution of social genes in a microbe</td>\n",
       "      <td>63</td>\n",
       "      <td>11</td>\n",
       "    </tr>\n",
       "    <tr>\n",
       "      <th>10.1038/s41467-018-03395-6</th>\n",
       "      <td>Genetic study links components of the autonomous nervous system to heart-rate profile during exercise</td>\n",
       "      <td>65</td>\n",
       "      <td>3</td>\n",
       "    </tr>\n",
       "    <tr>\n",
       "      <th>10.1038/s41467-019-13678-1</th>\n",
       "      <td>The productivity-biodiversity relationship varies across diversity dimensions</td>\n",
       "      <td>58</td>\n",
       "      <td>7</td>\n",
       "    </tr>\n",
       "  </tbody>\n",
       "</table>\n",
       "<p>11323 rows × 3 columns</p>\n",
       "</div>"
      ],
      "text/plain": [
       "                                                                                                                            title  \\\n",
       "doi                                                                                                                                 \n",
       "10.1038/s41467-019-12157-x                                         Surface acoustic wave photonic devices in silicon on insulator   \n",
       "10.1038/s41467-018-06688-y             Thermal and electrical signatures of a hydrodynamic electron fluid in tungsten diphosphide   \n",
       "10.1038/s41467-019-10852-3                                    Phononic integrated circuitry and spin–orbit interaction of phonons   \n",
       "10.1038/s41467-019-11924-0                    Local Josephson vortex generation and manipulation with a Magnetic Force Microscope   \n",
       "10.1038/s41467-018-07414-4                            A robust zirconium amino acid metal-organic framework for proton conduction   \n",
       "...                                                                                                                           ...   \n",
       "10.1038/s41467-018-07739-0                     aPKC controls endothelial growth by modulating c-Myc via FoxO1 DNA-binding ability   \n",
       "10.1038/s41467-019-08769-y                        Single gold-bridged nanoprobes for identification of single point DNA mutations   \n",
       "10.1038/s41467-019-11237-2                       Conditional expression explains molecular evolution of social genes in a microbe   \n",
       "10.1038/s41467-018-03395-6  Genetic study links components of the autonomous nervous system to heart-rate profile during exercise   \n",
       "10.1038/s41467-019-13678-1                          The productivity-biodiversity relationship varies across diversity dimensions   \n",
       "\n",
       "                            n_references  n_authors  \n",
       "doi                                                  \n",
       "10.1038/s41467-019-12157-x            54          9  \n",
       "10.1038/s41467-018-06688-y            37         10  \n",
       "10.1038/s41467-019-10852-3            56          7  \n",
       "10.1038/s41467-019-11924-0            54         15  \n",
       "10.1038/s41467-018-07414-4            59         11  \n",
       "...                                  ...        ...  \n",
       "10.1038/s41467-018-07739-0            71         22  \n",
       "10.1038/s41467-019-08769-y            64          7  \n",
       "10.1038/s41467-019-11237-2            63         11  \n",
       "10.1038/s41467-018-03395-6            65          3  \n",
       "10.1038/s41467-019-13678-1            58          7  \n",
       "\n",
       "[11323 rows x 3 columns]"
      ]
     },
     "execution_count": 42,
     "metadata": {},
     "output_type": "execute_result"
    }
   ],
   "source": [
    "file13"
   ]
  },
  {
   "cell_type": "code",
   "execution_count": 43,
   "metadata": {
    "ExecuteTime": {
     "end_time": "2021-08-23T00:57:56.327807Z",
     "start_time": "2021-08-23T00:57:56.312068Z"
    }
   },
   "outputs": [],
   "source": [
    "file13.drop(file13_to_drop, errors='ignore', inplace=True)"
   ]
  },
  {
   "cell_type": "code",
   "execution_count": 44,
   "metadata": {
    "ExecuteTime": {
     "end_time": "2021-08-23T00:57:56.343363Z",
     "start_time": "2021-08-23T00:57:56.330153Z"
    }
   },
   "outputs": [
    {
     "data": {
      "text/html": [
       "<div>\n",
       "<style scoped>\n",
       "    .dataframe tbody tr th:only-of-type {\n",
       "        vertical-align: middle;\n",
       "    }\n",
       "\n",
       "    .dataframe tbody tr th {\n",
       "        vertical-align: top;\n",
       "    }\n",
       "\n",
       "    .dataframe thead th {\n",
       "        text-align: right;\n",
       "    }\n",
       "</style>\n",
       "<table border=\"1\" class=\"dataframe\">\n",
       "  <thead>\n",
       "    <tr style=\"text-align: right;\">\n",
       "      <th></th>\n",
       "      <th>title</th>\n",
       "      <th>n_references</th>\n",
       "      <th>n_authors</th>\n",
       "    </tr>\n",
       "    <tr>\n",
       "      <th>doi</th>\n",
       "      <th></th>\n",
       "      <th></th>\n",
       "      <th></th>\n",
       "    </tr>\n",
       "  </thead>\n",
       "  <tbody>\n",
       "    <tr>\n",
       "      <th>10.1038/s41467-018-06688-y</th>\n",
       "      <td>Thermal and electrical signatures of a hydrodynamic electron fluid in tungsten diphosphide</td>\n",
       "      <td>37</td>\n",
       "      <td>10</td>\n",
       "    </tr>\n",
       "    <tr>\n",
       "      <th>10.1038/s41467-019-11924-0</th>\n",
       "      <td>Local Josephson vortex generation and manipulation with a Magnetic Force Microscope</td>\n",
       "      <td>54</td>\n",
       "      <td>15</td>\n",
       "    </tr>\n",
       "    <tr>\n",
       "      <th>10.1038/s41467-018-07414-4</th>\n",
       "      <td>A robust zirconium amino acid metal-organic framework for proton conduction</td>\n",
       "      <td>59</td>\n",
       "      <td>11</td>\n",
       "    </tr>\n",
       "    <tr>\n",
       "      <th>10.1038/s41467-019-10249-2</th>\n",
       "      <td>Ultrafast multi-focus 3-D nano-fabrication based on two-photon polymerization</td>\n",
       "      <td>23</td>\n",
       "      <td>4</td>\n",
       "    </tr>\n",
       "    <tr>\n",
       "      <th>10.1038/s41467-018-07828-0</th>\n",
       "      <td>Closure of the Bering Strait caused Mid-Pleistocene Transition cooling</td>\n",
       "      <td>66</td>\n",
       "      <td>11</td>\n",
       "    </tr>\n",
       "    <tr>\n",
       "      <th>...</th>\n",
       "      <td>...</td>\n",
       "      <td>...</td>\n",
       "      <td>...</td>\n",
       "    </tr>\n",
       "    <tr>\n",
       "      <th>10.1038/s41467-019-08739-4</th>\n",
       "      <td>HIV-1 vaccination by needle-free oral injection induces strong mucosal immunity and protects against SHIV challenge</td>\n",
       "      <td>64</td>\n",
       "      <td>13</td>\n",
       "    </tr>\n",
       "    <tr>\n",
       "      <th>10.1038/s41467-019-10160-w</th>\n",
       "      <td>Author Correction: Study of 300,486 individuals identifies 148 independent genetic loci influencing general cognitive function</td>\n",
       "      <td>0</td>\n",
       "      <td>222</td>\n",
       "    </tr>\n",
       "    <tr>\n",
       "      <th>10.1038/s41467-019-08769-y</th>\n",
       "      <td>Single gold-bridged nanoprobes for identification of single point DNA mutations</td>\n",
       "      <td>64</td>\n",
       "      <td>7</td>\n",
       "    </tr>\n",
       "    <tr>\n",
       "      <th>10.1038/s41467-019-11237-2</th>\n",
       "      <td>Conditional expression explains molecular evolution of social genes in a microbe</td>\n",
       "      <td>63</td>\n",
       "      <td>11</td>\n",
       "    </tr>\n",
       "    <tr>\n",
       "      <th>10.1038/s41467-018-03395-6</th>\n",
       "      <td>Genetic study links components of the autonomous nervous system to heart-rate profile during exercise</td>\n",
       "      <td>65</td>\n",
       "      <td>3</td>\n",
       "    </tr>\n",
       "  </tbody>\n",
       "</table>\n",
       "<p>8324 rows × 3 columns</p>\n",
       "</div>"
      ],
      "text/plain": [
       "                                                                                                                                                     title  \\\n",
       "doi                                                                                                                                                          \n",
       "10.1038/s41467-018-06688-y                                      Thermal and electrical signatures of a hydrodynamic electron fluid in tungsten diphosphide   \n",
       "10.1038/s41467-019-11924-0                                             Local Josephson vortex generation and manipulation with a Magnetic Force Microscope   \n",
       "10.1038/s41467-018-07414-4                                                     A robust zirconium amino acid metal-organic framework for proton conduction   \n",
       "10.1038/s41467-019-10249-2                                                   Ultrafast multi-focus 3-D nano-fabrication based on two-photon polymerization   \n",
       "10.1038/s41467-018-07828-0                                                          Closure of the Bering Strait caused Mid-Pleistocene Transition cooling   \n",
       "...                                                                                                                                                    ...   \n",
       "10.1038/s41467-019-08739-4             HIV-1 vaccination by needle-free oral injection induces strong mucosal immunity and protects against SHIV challenge   \n",
       "10.1038/s41467-019-10160-w  Author Correction: Study of 300,486 individuals identifies 148 independent genetic loci influencing general cognitive function   \n",
       "10.1038/s41467-019-08769-y                                                 Single gold-bridged nanoprobes for identification of single point DNA mutations   \n",
       "10.1038/s41467-019-11237-2                                                Conditional expression explains molecular evolution of social genes in a microbe   \n",
       "10.1038/s41467-018-03395-6                           Genetic study links components of the autonomous nervous system to heart-rate profile during exercise   \n",
       "\n",
       "                            n_references  n_authors  \n",
       "doi                                                  \n",
       "10.1038/s41467-018-06688-y            37         10  \n",
       "10.1038/s41467-019-11924-0            54         15  \n",
       "10.1038/s41467-018-07414-4            59         11  \n",
       "10.1038/s41467-019-10249-2            23          4  \n",
       "10.1038/s41467-018-07828-0            66         11  \n",
       "...                                  ...        ...  \n",
       "10.1038/s41467-019-08739-4            64         13  \n",
       "10.1038/s41467-019-10160-w             0        222  \n",
       "10.1038/s41467-019-08769-y            64          7  \n",
       "10.1038/s41467-019-11237-2            63         11  \n",
       "10.1038/s41467-018-03395-6            65          3  \n",
       "\n",
       "[8324 rows x 3 columns]"
      ]
     },
     "execution_count": 44,
     "metadata": {},
     "output_type": "execute_result"
    }
   ],
   "source": [
    "file13"
   ]
  },
  {
   "cell_type": "code",
   "execution_count": 45,
   "metadata": {
    "ExecuteTime": {
     "end_time": "2021-08-23T00:57:56.357566Z",
     "start_time": "2021-08-23T00:57:56.345999Z"
    }
   },
   "outputs": [],
   "source": [
    "file123 = file13.merge(file2,left_index=True,right_index=True)"
   ]
  },
  {
   "cell_type": "code",
   "execution_count": 46,
   "metadata": {
    "ExecuteTime": {
     "end_time": "2021-08-23T00:57:56.370422Z",
     "start_time": "2021-08-23T00:57:56.361140Z"
    }
   },
   "outputs": [],
   "source": [
    "file123 = file123.dropna()"
   ]
  },
  {
   "cell_type": "code",
   "execution_count": 47,
   "metadata": {
    "ExecuteTime": {
     "end_time": "2021-08-23T00:57:56.390145Z",
     "start_time": "2021-08-23T00:57:56.375797Z"
    }
   },
   "outputs": [
    {
     "name": "stdout",
     "output_type": "stream",
     "text": [
      "<class 'pandas.core.frame.DataFrame'>\n",
      "Index: 8071 entries, 10.1038/s41467-018-06688-y to 10.1038/s41467-018-03395-6\n",
      "Data columns (total 5 columns):\n",
      " #   Column        Non-Null Count  Dtype  \n",
      "---  ------        --------------  -----  \n",
      " 0   title         8071 non-null   object \n",
      " 1   n_references  8071 non-null   int64  \n",
      " 2   n_authors     8071 non-null   int64  \n",
      " 3   for_name      8071 non-null   object \n",
      " 4   for_code      8071 non-null   float64\n",
      "dtypes: float64(1), int64(2), object(2)\n",
      "memory usage: 378.3+ KB\n"
     ]
    }
   ],
   "source": [
    "file123.info()"
   ]
  },
  {
   "cell_type": "code",
   "execution_count": 48,
   "metadata": {
    "ExecuteTime": {
     "end_time": "2021-08-23T00:57:56.403973Z",
     "start_time": "2021-08-23T00:57:56.393681Z"
    }
   },
   "outputs": [],
   "source": [
    "file1234 = file123.merge(file4,left_index=True,right_index=True)"
   ]
  },
  {
   "cell_type": "code",
   "execution_count": 49,
   "metadata": {
    "ExecuteTime": {
     "end_time": "2021-08-23T00:57:56.424382Z",
     "start_time": "2021-08-23T00:57:56.407432Z"
    }
   },
   "outputs": [
    {
     "data": {
      "text/html": [
       "<div>\n",
       "<style scoped>\n",
       "    .dataframe tbody tr th:only-of-type {\n",
       "        vertical-align: middle;\n",
       "    }\n",
       "\n",
       "    .dataframe tbody tr th {\n",
       "        vertical-align: top;\n",
       "    }\n",
       "\n",
       "    .dataframe thead th {\n",
       "        text-align: right;\n",
       "    }\n",
       "</style>\n",
       "<table border=\"1\" class=\"dataframe\">\n",
       "  <thead>\n",
       "    <tr style=\"text-align: right;\">\n",
       "      <th></th>\n",
       "      <th>title</th>\n",
       "      <th>n_references</th>\n",
       "      <th>n_authors</th>\n",
       "      <th>for_name</th>\n",
       "      <th>for_code</th>\n",
       "      <th>corresponding_author_h_index</th>\n",
       "    </tr>\n",
       "    <tr>\n",
       "      <th>doi</th>\n",
       "      <th></th>\n",
       "      <th></th>\n",
       "      <th></th>\n",
       "      <th></th>\n",
       "      <th></th>\n",
       "      <th></th>\n",
       "    </tr>\n",
       "  </thead>\n",
       "  <tbody>\n",
       "    <tr>\n",
       "      <th>10.1038/s41467-019-11924-0</th>\n",
       "      <td>Local Josephson vortex generation and manipulation with a Magnetic Force Microscope</td>\n",
       "      <td>54</td>\n",
       "      <td>15</td>\n",
       "      <td>Physical Sciences</td>\n",
       "      <td>2.0</td>\n",
       "      <td>13.0</td>\n",
       "    </tr>\n",
       "    <tr>\n",
       "      <th>10.1038/s41467-019-10249-2</th>\n",
       "      <td>Ultrafast multi-focus 3-D nano-fabrication based on two-photon polymerization</td>\n",
       "      <td>23</td>\n",
       "      <td>4</td>\n",
       "      <td>Physical Sciences</td>\n",
       "      <td>2.0</td>\n",
       "      <td>19.0</td>\n",
       "    </tr>\n",
       "    <tr>\n",
       "      <th>10.1038/s41467-018-07828-0</th>\n",
       "      <td>Closure of the Bering Strait caused Mid-Pleistocene Transition cooling</td>\n",
       "      <td>66</td>\n",
       "      <td>11</td>\n",
       "      <td>Earth Sciences</td>\n",
       "      <td>4.0</td>\n",
       "      <td>16.0</td>\n",
       "    </tr>\n",
       "    <tr>\n",
       "      <th>10.1038/s41467-017-02483-3</th>\n",
       "      <td>Protein phosphatase 5 regulates titin phosphorylation and function at a sarcomere-associated mechanosensor complex in cardiomyocytes</td>\n",
       "      <td>59</td>\n",
       "      <td>11</td>\n",
       "      <td>Biological Sciences</td>\n",
       "      <td>6.0</td>\n",
       "      <td>63.0</td>\n",
       "    </tr>\n",
       "    <tr>\n",
       "      <th>10.1038/s41467-019-09506-1</th>\n",
       "      <td>The rise in ocean plastics evidenced from a 60-year time series</td>\n",
       "      <td>25</td>\n",
       "      <td>6</td>\n",
       "      <td>Earth Sciences</td>\n",
       "      <td>4.0</td>\n",
       "      <td>8.0</td>\n",
       "    </tr>\n",
       "    <tr>\n",
       "      <th>...</th>\n",
       "      <td>...</td>\n",
       "      <td>...</td>\n",
       "      <td>...</td>\n",
       "      <td>...</td>\n",
       "      <td>...</td>\n",
       "      <td>...</td>\n",
       "    </tr>\n",
       "    <tr>\n",
       "      <th>10.1038/s41467-018-04946-7</th>\n",
       "      <td>Excited-state vibrational dynamics toward the polaron in methylammonium lead iodide perovskite</td>\n",
       "      <td>66</td>\n",
       "      <td>10</td>\n",
       "      <td>Chemical Sciences</td>\n",
       "      <td>3.0</td>\n",
       "      <td>95.0</td>\n",
       "    </tr>\n",
       "    <tr>\n",
       "      <th>10.1038/s41467-019-08739-4</th>\n",
       "      <td>HIV-1 vaccination by needle-free oral injection induces strong mucosal immunity and protects against SHIV challenge</td>\n",
       "      <td>64</td>\n",
       "      <td>13</td>\n",
       "      <td>Medical and Health Sciences</td>\n",
       "      <td>11.0</td>\n",
       "      <td>40.0</td>\n",
       "    </tr>\n",
       "    <tr>\n",
       "      <th>10.1038/s41467-019-10160-w</th>\n",
       "      <td>Author Correction: Study of 300,486 individuals identifies 148 independent genetic loci influencing general cognitive function</td>\n",
       "      <td>0</td>\n",
       "      <td>222</td>\n",
       "      <td>Biological Sciences</td>\n",
       "      <td>6.0</td>\n",
       "      <td>143.0</td>\n",
       "    </tr>\n",
       "    <tr>\n",
       "      <th>10.1038/s41467-019-08769-y</th>\n",
       "      <td>Single gold-bridged nanoprobes for identification of single point DNA mutations</td>\n",
       "      <td>64</td>\n",
       "      <td>7</td>\n",
       "      <td>Chemical Sciences</td>\n",
       "      <td>3.0</td>\n",
       "      <td>47.0</td>\n",
       "    </tr>\n",
       "    <tr>\n",
       "      <th>10.1038/s41467-018-03395-6</th>\n",
       "      <td>Genetic study links components of the autonomous nervous system to heart-rate profile during exercise</td>\n",
       "      <td>65</td>\n",
       "      <td>3</td>\n",
       "      <td>Biological Sciences</td>\n",
       "      <td>6.0</td>\n",
       "      <td>47.0</td>\n",
       "    </tr>\n",
       "  </tbody>\n",
       "</table>\n",
       "<p>4778 rows × 6 columns</p>\n",
       "</div>"
      ],
      "text/plain": [
       "                                                                                                                                                           title  \\\n",
       "doi                                                                                                                                                                \n",
       "10.1038/s41467-019-11924-0                                                   Local Josephson vortex generation and manipulation with a Magnetic Force Microscope   \n",
       "10.1038/s41467-019-10249-2                                                         Ultrafast multi-focus 3-D nano-fabrication based on two-photon polymerization   \n",
       "10.1038/s41467-018-07828-0                                                                Closure of the Bering Strait caused Mid-Pleistocene Transition cooling   \n",
       "10.1038/s41467-017-02483-3  Protein phosphatase 5 regulates titin phosphorylation and function at a sarcomere-associated mechanosensor complex in cardiomyocytes   \n",
       "10.1038/s41467-019-09506-1                                                                       The rise in ocean plastics evidenced from a 60-year time series   \n",
       "...                                                                                                                                                          ...   \n",
       "10.1038/s41467-018-04946-7                                        Excited-state vibrational dynamics toward the polaron in methylammonium lead iodide perovskite   \n",
       "10.1038/s41467-019-08739-4                   HIV-1 vaccination by needle-free oral injection induces strong mucosal immunity and protects against SHIV challenge   \n",
       "10.1038/s41467-019-10160-w        Author Correction: Study of 300,486 individuals identifies 148 independent genetic loci influencing general cognitive function   \n",
       "10.1038/s41467-019-08769-y                                                       Single gold-bridged nanoprobes for identification of single point DNA mutations   \n",
       "10.1038/s41467-018-03395-6                                 Genetic study links components of the autonomous nervous system to heart-rate profile during exercise   \n",
       "\n",
       "                            n_references  n_authors  \\\n",
       "doi                                                   \n",
       "10.1038/s41467-019-11924-0            54         15   \n",
       "10.1038/s41467-019-10249-2            23          4   \n",
       "10.1038/s41467-018-07828-0            66         11   \n",
       "10.1038/s41467-017-02483-3            59         11   \n",
       "10.1038/s41467-019-09506-1            25          6   \n",
       "...                                  ...        ...   \n",
       "10.1038/s41467-018-04946-7            66         10   \n",
       "10.1038/s41467-019-08739-4            64         13   \n",
       "10.1038/s41467-019-10160-w             0        222   \n",
       "10.1038/s41467-019-08769-y            64          7   \n",
       "10.1038/s41467-018-03395-6            65          3   \n",
       "\n",
       "                                               for_name  for_code  \\\n",
       "doi                                                                 \n",
       "10.1038/s41467-019-11924-0            Physical Sciences       2.0   \n",
       "10.1038/s41467-019-10249-2            Physical Sciences       2.0   \n",
       "10.1038/s41467-018-07828-0               Earth Sciences       4.0   \n",
       "10.1038/s41467-017-02483-3          Biological Sciences       6.0   \n",
       "10.1038/s41467-019-09506-1               Earth Sciences       4.0   \n",
       "...                                                 ...       ...   \n",
       "10.1038/s41467-018-04946-7            Chemical Sciences       3.0   \n",
       "10.1038/s41467-019-08739-4  Medical and Health Sciences      11.0   \n",
       "10.1038/s41467-019-10160-w          Biological Sciences       6.0   \n",
       "10.1038/s41467-019-08769-y            Chemical Sciences       3.0   \n",
       "10.1038/s41467-018-03395-6          Biological Sciences       6.0   \n",
       "\n",
       "                            corresponding_author_h_index  \n",
       "doi                                                       \n",
       "10.1038/s41467-019-11924-0                          13.0  \n",
       "10.1038/s41467-019-10249-2                          19.0  \n",
       "10.1038/s41467-018-07828-0                          16.0  \n",
       "10.1038/s41467-017-02483-3                          63.0  \n",
       "10.1038/s41467-019-09506-1                           8.0  \n",
       "...                                                  ...  \n",
       "10.1038/s41467-018-04946-7                          95.0  \n",
       "10.1038/s41467-019-08739-4                          40.0  \n",
       "10.1038/s41467-019-10160-w                         143.0  \n",
       "10.1038/s41467-019-08769-y                          47.0  \n",
       "10.1038/s41467-018-03395-6                          47.0  \n",
       "\n",
       "[4778 rows x 6 columns]"
      ]
     },
     "execution_count": 49,
     "metadata": {},
     "output_type": "execute_result"
    }
   ],
   "source": [
    "file1234"
   ]
  },
  {
   "cell_type": "code",
   "execution_count": 50,
   "metadata": {
    "ExecuteTime": {
     "end_time": "2021-08-23T00:57:56.440053Z",
     "start_time": "2021-08-23T00:57:56.428655Z"
    }
   },
   "outputs": [
    {
     "data": {
      "text/plain": [
       "title  n_references  n_authors  for_name  for_code\n",
       "False  False         False      False     False       8071\n",
       "dtype: int64"
      ]
     },
     "execution_count": 50,
     "metadata": {},
     "output_type": "execute_result"
    }
   ],
   "source": [
    "file123.isnull().value_counts()"
   ]
  },
  {
   "cell_type": "code",
   "execution_count": 51,
   "metadata": {
    "ExecuteTime": {
     "end_time": "2021-08-23T00:57:56.453965Z",
     "start_time": "2021-08-23T00:57:56.442299Z"
    }
   },
   "outputs": [
    {
     "data": {
      "text/plain": [
       "title  n_references  n_authors  for_name  for_code  corresponding_author_h_index\n",
       "False  False         False      False     False     False                           4742\n",
       "                                                    True                              36\n",
       "dtype: int64"
      ]
     },
     "execution_count": 51,
     "metadata": {},
     "output_type": "execute_result"
    }
   ],
   "source": [
    "file1234.isnull().value_counts()"
   ]
  },
  {
   "cell_type": "code",
   "execution_count": 52,
   "metadata": {
    "ExecuteTime": {
     "end_time": "2021-08-23T00:57:56.462320Z",
     "start_time": "2021-08-23T00:57:56.456204Z"
    }
   },
   "outputs": [],
   "source": [
    "file1234 = file1234.dropna()"
   ]
  },
  {
   "cell_type": "markdown",
   "metadata": {
    "ExecuteTime": {
     "end_time": "2021-08-22T13:43:09.304388Z",
     "start_time": "2021-08-22T13:43:09.295749Z"
    }
   },
   "source": [
    "### Initial Exploratory Data Analysis"
   ]
  },
  {
   "cell_type": "code",
   "execution_count": 53,
   "metadata": {
    "ExecuteTime": {
     "end_time": "2021-08-23T00:57:56.474994Z",
     "start_time": "2021-08-23T00:57:56.465503Z"
    }
   },
   "outputs": [
    {
     "name": "stdout",
     "output_type": "stream",
     "text": [
      "<class 'pandas.core.frame.DataFrame'>\n",
      "Index: 4742 entries, 10.1038/s41467-019-11924-0 to 10.1038/s41467-018-03395-6\n",
      "Data columns (total 6 columns):\n",
      " #   Column                        Non-Null Count  Dtype  \n",
      "---  ------                        --------------  -----  \n",
      " 0   title                         4742 non-null   object \n",
      " 1   n_references                  4742 non-null   int64  \n",
      " 2   n_authors                     4742 non-null   int64  \n",
      " 3   for_name                      4742 non-null   object \n",
      " 4   for_code                      4742 non-null   float64\n",
      " 5   corresponding_author_h_index  4742 non-null   float64\n",
      "dtypes: float64(2), int64(2), object(2)\n",
      "memory usage: 259.3+ KB\n"
     ]
    }
   ],
   "source": [
    "file1234.info()"
   ]
  },
  {
   "cell_type": "code",
   "execution_count": 54,
   "metadata": {
    "ExecuteTime": {
     "end_time": "2021-08-23T00:57:56.495621Z",
     "start_time": "2021-08-23T00:57:56.477465Z"
    }
   },
   "outputs": [
    {
     "data": {
      "text/html": [
       "<div>\n",
       "<style scoped>\n",
       "    .dataframe tbody tr th:only-of-type {\n",
       "        vertical-align: middle;\n",
       "    }\n",
       "\n",
       "    .dataframe tbody tr th {\n",
       "        vertical-align: top;\n",
       "    }\n",
       "\n",
       "    .dataframe thead th {\n",
       "        text-align: right;\n",
       "    }\n",
       "</style>\n",
       "<table border=\"1\" class=\"dataframe\">\n",
       "  <thead>\n",
       "    <tr style=\"text-align: right;\">\n",
       "      <th></th>\n",
       "      <th>n_references</th>\n",
       "      <th>n_authors</th>\n",
       "      <th>for_code</th>\n",
       "    </tr>\n",
       "  </thead>\n",
       "  <tbody>\n",
       "    <tr>\n",
       "      <th>count</th>\n",
       "      <td>8071.000000</td>\n",
       "      <td>8071.000000</td>\n",
       "      <td>8071.000000</td>\n",
       "    </tr>\n",
       "    <tr>\n",
       "      <th>mean</th>\n",
       "      <td>50.711808</td>\n",
       "      <td>10.864577</td>\n",
       "      <td>7.031471</td>\n",
       "    </tr>\n",
       "    <tr>\n",
       "      <th>std</th>\n",
       "      <td>20.086460</td>\n",
       "      <td>11.772750</td>\n",
       "      <td>3.574244</td>\n",
       "    </tr>\n",
       "    <tr>\n",
       "      <th>min</th>\n",
       "      <td>0.000000</td>\n",
       "      <td>0.000000</td>\n",
       "      <td>1.000000</td>\n",
       "    </tr>\n",
       "    <tr>\n",
       "      <th>25%</th>\n",
       "      <td>40.000000</td>\n",
       "      <td>6.000000</td>\n",
       "      <td>4.000000</td>\n",
       "    </tr>\n",
       "    <tr>\n",
       "      <th>50%</th>\n",
       "      <td>53.000000</td>\n",
       "      <td>9.000000</td>\n",
       "      <td>6.000000</td>\n",
       "    </tr>\n",
       "    <tr>\n",
       "      <th>75%</th>\n",
       "      <td>65.000000</td>\n",
       "      <td>13.000000</td>\n",
       "      <td>11.000000</td>\n",
       "    </tr>\n",
       "    <tr>\n",
       "      <th>max</th>\n",
       "      <td>222.000000</td>\n",
       "      <td>436.000000</td>\n",
       "      <td>22.000000</td>\n",
       "    </tr>\n",
       "  </tbody>\n",
       "</table>\n",
       "</div>"
      ],
      "text/plain": [
       "       n_references    n_authors     for_code\n",
       "count   8071.000000  8071.000000  8071.000000\n",
       "mean      50.711808    10.864577     7.031471\n",
       "std       20.086460    11.772750     3.574244\n",
       "min        0.000000     0.000000     1.000000\n",
       "25%       40.000000     6.000000     4.000000\n",
       "50%       53.000000     9.000000     6.000000\n",
       "75%       65.000000    13.000000    11.000000\n",
       "max      222.000000   436.000000    22.000000"
      ]
     },
     "execution_count": 54,
     "metadata": {},
     "output_type": "execute_result"
    }
   ],
   "source": [
    "file123.describe()"
   ]
  },
  {
   "cell_type": "code",
   "execution_count": 55,
   "metadata": {
    "ExecuteTime": {
     "end_time": "2021-08-23T00:57:56.518600Z",
     "start_time": "2021-08-23T00:57:56.498061Z"
    }
   },
   "outputs": [
    {
     "data": {
      "text/html": [
       "<div>\n",
       "<style scoped>\n",
       "    .dataframe tbody tr th:only-of-type {\n",
       "        vertical-align: middle;\n",
       "    }\n",
       "\n",
       "    .dataframe tbody tr th {\n",
       "        vertical-align: top;\n",
       "    }\n",
       "\n",
       "    .dataframe thead th {\n",
       "        text-align: right;\n",
       "    }\n",
       "</style>\n",
       "<table border=\"1\" class=\"dataframe\">\n",
       "  <thead>\n",
       "    <tr style=\"text-align: right;\">\n",
       "      <th></th>\n",
       "      <th>n_references</th>\n",
       "      <th>n_authors</th>\n",
       "      <th>for_code</th>\n",
       "      <th>corresponding_author_h_index</th>\n",
       "    </tr>\n",
       "  </thead>\n",
       "  <tbody>\n",
       "    <tr>\n",
       "      <th>count</th>\n",
       "      <td>4742.000000</td>\n",
       "      <td>4742.000000</td>\n",
       "      <td>4742.000000</td>\n",
       "      <td>4742.000000</td>\n",
       "    </tr>\n",
       "    <tr>\n",
       "      <th>mean</th>\n",
       "      <td>51.488402</td>\n",
       "      <td>9.902151</td>\n",
       "      <td>7.133910</td>\n",
       "      <td>37.320962</td>\n",
       "    </tr>\n",
       "    <tr>\n",
       "      <th>std</th>\n",
       "      <td>20.042787</td>\n",
       "      <td>11.434660</td>\n",
       "      <td>3.619884</td>\n",
       "      <td>26.497494</td>\n",
       "    </tr>\n",
       "    <tr>\n",
       "      <th>min</th>\n",
       "      <td>0.000000</td>\n",
       "      <td>1.000000</td>\n",
       "      <td>1.000000</td>\n",
       "      <td>1.000000</td>\n",
       "    </tr>\n",
       "    <tr>\n",
       "      <th>25%</th>\n",
       "      <td>40.000000</td>\n",
       "      <td>5.000000</td>\n",
       "      <td>5.000000</td>\n",
       "      <td>18.000000</td>\n",
       "    </tr>\n",
       "    <tr>\n",
       "      <th>50%</th>\n",
       "      <td>53.000000</td>\n",
       "      <td>8.000000</td>\n",
       "      <td>6.000000</td>\n",
       "      <td>31.000000</td>\n",
       "    </tr>\n",
       "    <tr>\n",
       "      <th>75%</th>\n",
       "      <td>66.000000</td>\n",
       "      <td>12.000000</td>\n",
       "      <td>11.000000</td>\n",
       "      <td>49.000000</td>\n",
       "    </tr>\n",
       "    <tr>\n",
       "      <th>max</th>\n",
       "      <td>222.000000</td>\n",
       "      <td>436.000000</td>\n",
       "      <td>22.000000</td>\n",
       "      <td>223.000000</td>\n",
       "    </tr>\n",
       "  </tbody>\n",
       "</table>\n",
       "</div>"
      ],
      "text/plain": [
       "       n_references    n_authors     for_code  corresponding_author_h_index\n",
       "count   4742.000000  4742.000000  4742.000000                   4742.000000\n",
       "mean      51.488402     9.902151     7.133910                     37.320962\n",
       "std       20.042787    11.434660     3.619884                     26.497494\n",
       "min        0.000000     1.000000     1.000000                      1.000000\n",
       "25%       40.000000     5.000000     5.000000                     18.000000\n",
       "50%       53.000000     8.000000     6.000000                     31.000000\n",
       "75%       66.000000    12.000000    11.000000                     49.000000\n",
       "max      222.000000   436.000000    22.000000                    223.000000"
      ]
     },
     "execution_count": 55,
     "metadata": {},
     "output_type": "execute_result"
    }
   ],
   "source": [
    "file1234.describe()"
   ]
  },
  {
   "cell_type": "markdown",
   "metadata": {},
   "source": [
    "#### Correlation Matrix"
   ]
  },
  {
   "cell_type": "code",
   "execution_count": 56,
   "metadata": {
    "ExecuteTime": {
     "end_time": "2021-08-23T00:57:56.778916Z",
     "start_time": "2021-08-23T00:57:56.520270Z"
    }
   },
   "outputs": [
    {
     "data": {
      "text/plain": [
       "[Text(0.5, 0, 'n_references'),\n",
       " Text(1.5, 0, 'n_authors'),\n",
       " Text(2.5, 0, 'for_code'),\n",
       " Text(3.5, 0, 'corresponding_author_h_index')]"
      ]
     },
     "execution_count": 56,
     "metadata": {},
     "output_type": "execute_result"
    },
    {
     "data": {
      "image/png": "[encoded data removed]",
      "text/plain": [
       "<Figure size 720x720 with 2 Axes>"
      ]
     },
     "metadata": {
      "needs_background": "light"
     },
     "output_type": "display_data"
    }
   ],
   "source": [
    "corr = file1234.corr()\n",
    "fig, ax = plt.subplots(figsize=(10,10))\n",
    "sns.heatmap(corr, center=0,)\n",
    "ax.set_xticklabels(ax.get_xticklabels())"
   ]
  },
  {
   "cell_type": "markdown",
   "metadata": {},
   "source": [
    "Similar statistics despite file1234 being half the size of file123"
   ]
  },
  {
   "cell_type": "code",
   "execution_count": 57,
   "metadata": {
    "ExecuteTime": {
     "end_time": "2021-08-23T00:57:56.951048Z",
     "start_time": "2021-08-23T00:57:56.781836Z"
    }
   },
   "outputs": [
    {
     "data": {
      "text/plain": [
       "<matplotlib.axes._subplots.AxesSubplot at 0x7f867cc7dfd0>"
      ]
     },
     "execution_count": 57,
     "metadata": {},
     "output_type": "execute_result"
    },
    {
     "data": {
      "image/png": "[encoded data removed]",
      "text/plain": [
       "<Figure size 1080x720 with 1 Axes>"
      ]
     },
     "metadata": {
      "needs_background": "light"
     },
     "output_type": "display_data"
    }
   ],
   "source": [
    "file123.boxplot(column= ['n_references'],figsize=(15,10))"
   ]
  },
  {
   "cell_type": "code",
   "execution_count": 58,
   "metadata": {
    "ExecuteTime": {
     "end_time": "2021-08-23T00:57:57.127397Z",
     "start_time": "2021-08-23T00:57:56.953528Z"
    }
   },
   "outputs": [
    {
     "data": {
      "text/plain": [
       "<matplotlib.axes._subplots.AxesSubplot at 0x7f867d045700>"
      ]
     },
     "execution_count": 58,
     "metadata": {},
     "output_type": "execute_result"
    },
    {
     "data": {
      "image/png": "[encoded data removed]",
      "text/plain": [
       "<Figure size 1080x720 with 1 Axes>"
      ]
     },
     "metadata": {
      "needs_background": "light"
     },
     "output_type": "display_data"
    }
   ],
   "source": [
    "file123.boxplot(column= ['n_authors'],figsize=(15,10))"
   ]
  },
  {
   "cell_type": "code",
   "execution_count": 59,
   "metadata": {
    "ExecuteTime": {
     "end_time": "2021-08-23T00:57:57.310577Z",
     "start_time": "2021-08-23T00:57:57.130280Z"
    }
   },
   "outputs": [
    {
     "data": {
      "text/plain": [
       "<matplotlib.axes._subplots.AxesSubplot at 0x7f867d097a60>"
      ]
     },
     "execution_count": 59,
     "metadata": {},
     "output_type": "execute_result"
    },
    {
     "data": {
      "image/png": "[encoded data removed]",
      "text/plain": [
       "<Figure size 1080x720 with 1 Axes>"
      ]
     },
     "metadata": {
      "needs_background": "light"
     },
     "output_type": "display_data"
    }
   ],
   "source": [
    "file1234.boxplot(column= ['corresponding_author_h_index'],figsize=(15,10))"
   ]
  },
  {
   "cell_type": "code",
   "execution_count": 60,
   "metadata": {
    "ExecuteTime": {
     "end_time": "2021-08-23T00:57:57.758648Z",
     "start_time": "2021-08-23T00:57:57.313124Z"
    }
   },
   "outputs": [
    {
     "data": {
      "image/png": "[encoded data removed]",
      "text/plain": [
       "<Figure size 864x504 with 1 Axes>"
      ]
     },
     "metadata": {
      "needs_background": "light"
     },
     "output_type": "display_data"
    }
   ],
   "source": [
    "fig, ax = plt.subplots(figsize=(12, 7))\n",
    "file123.boxplot(column='n_references', by='for_name', ax=ax)\n",
    "ax.set_title('Number of References Associated with Field of Research')\n",
    "ax.tick_params(axis='x', labelrotation=90)\n",
    "plt.suptitle('')\n",
    "plt.show()"
   ]
  },
  {
   "cell_type": "code",
   "execution_count": 61,
   "metadata": {
    "ExecuteTime": {
     "end_time": "2021-08-23T00:57:58.271107Z",
     "start_time": "2021-08-23T00:57:57.763694Z"
    }
   },
   "outputs": [
    {
     "data": {
      "image/png": "[encoded data removed]",
      "text/plain": [
       "<Figure size 864x504 with 1 Axes>"
      ]
     },
     "metadata": {
      "needs_background": "light"
     },
     "output_type": "display_data"
    }
   ],
   "source": [
    "fig, ax = plt.subplots(figsize=(12, 7))\n",
    "file123.boxplot(column='n_authors', by='for_name', ax=ax)\n",
    "ax.set_title('Number of Authors Associated with Field of Research')\n",
    "ax.tick_params(axis='x', labelrotation=90)\n",
    "plt.suptitle('')\n",
    "plt.show()"
   ]
  },
  {
   "cell_type": "code",
   "execution_count": 62,
   "metadata": {
    "ExecuteTime": {
     "end_time": "2021-08-23T00:57:58.819904Z",
     "start_time": "2021-08-23T00:57:58.273215Z"
    }
   },
   "outputs": [
    {
     "data": {
      "image/png": "[encoded data removed]",
      "text/plain": [
       "<Figure size 864x504 with 1 Axes>"
      ]
     },
     "metadata": {
      "needs_background": "light"
     },
     "output_type": "display_data"
    }
   ],
   "source": [
    "fig, ax = plt.subplots(figsize=(12, 7))\n",
    "file1234.boxplot(column='corresponding_author_h_index', by='for_name', ax=ax)\n",
    "ax.set_title('Author H Index Associated with Field of Research')\n",
    "ax.tick_params(axis='x', labelrotation=90)\n",
    "plt.suptitle('')\n",
    "plt.show()"
   ]
  },
  {
   "cell_type": "code",
   "execution_count": 63,
   "metadata": {
    "ExecuteTime": {
     "end_time": "2021-08-23T00:57:58.836228Z",
     "start_time": "2021-08-23T00:57:58.822582Z"
    }
   },
   "outputs": [
    {
     "data": {
      "text/html": [
       "<div>\n",
       "<style scoped>\n",
       "    .dataframe tbody tr th:only-of-type {\n",
       "        vertical-align: middle;\n",
       "    }\n",
       "\n",
       "    .dataframe tbody tr th {\n",
       "        vertical-align: top;\n",
       "    }\n",
       "\n",
       "    .dataframe thead th {\n",
       "        text-align: right;\n",
       "    }\n",
       "</style>\n",
       "<table border=\"1\" class=\"dataframe\">\n",
       "  <thead>\n",
       "    <tr style=\"text-align: right;\">\n",
       "      <th></th>\n",
       "      <th>title</th>\n",
       "      <th>n_references</th>\n",
       "      <th>n_authors</th>\n",
       "      <th>for_name</th>\n",
       "      <th>for_code</th>\n",
       "    </tr>\n",
       "    <tr>\n",
       "      <th>doi</th>\n",
       "      <th></th>\n",
       "      <th></th>\n",
       "      <th></th>\n",
       "      <th></th>\n",
       "      <th></th>\n",
       "    </tr>\n",
       "  </thead>\n",
       "  <tbody>\n",
       "    <tr>\n",
       "      <th>10.1038/s41467-019-13714-0</th>\n",
       "      <td>A tug-of-war over the mid-latitudes</td>\n",
       "      <td>3</td>\n",
       "      <td>0</td>\n",
       "      <td>Earth Sciences</td>\n",
       "      <td>4.0</td>\n",
       "    </tr>\n",
       "    <tr>\n",
       "      <th>10.1038/s41467-018-07733-6</th>\n",
       "      <td>The fine line between performance improvement and device practicality</td>\n",
       "      <td>0</td>\n",
       "      <td>0</td>\n",
       "      <td>Engineering</td>\n",
       "      <td>9.0</td>\n",
       "    </tr>\n",
       "    <tr>\n",
       "      <th>10.1038/s41467-018-03586-1</th>\n",
       "      <td>At the human-forest interface</td>\n",
       "      <td>9</td>\n",
       "      <td>0</td>\n",
       "      <td>Agricultural and Veterinary Sciences</td>\n",
       "      <td>7.0</td>\n",
       "    </tr>\n",
       "    <tr>\n",
       "      <th>10.1038/s41467-018-04159-y</th>\n",
       "      <td>Building better yeast</td>\n",
       "      <td>10</td>\n",
       "      <td>0</td>\n",
       "      <td>Biological Sciences</td>\n",
       "      <td>6.0</td>\n",
       "    </tr>\n",
       "    <tr>\n",
       "      <th>10.1038/s41467-018-06012-8</th>\n",
       "      <td>Reproducibility: let’s get it right from the start</td>\n",
       "      <td>0</td>\n",
       "      <td>0</td>\n",
       "      <td>Medical and Health Sciences</td>\n",
       "      <td>11.0</td>\n",
       "    </tr>\n",
       "    <tr>\n",
       "      <th>10.1038/s41467-018-04243-3</th>\n",
       "      <td>Epidemiology is a science of high importance</td>\n",
       "      <td>8</td>\n",
       "      <td>0</td>\n",
       "      <td>History and Archaeology</td>\n",
       "      <td>21.0</td>\n",
       "    </tr>\n",
       "    <tr>\n",
       "      <th>10.1038/s41467-018-04085-z</th>\n",
       "      <td>Vaccines work</td>\n",
       "      <td>8</td>\n",
       "      <td>0</td>\n",
       "      <td>Medical and Health Sciences</td>\n",
       "      <td>11.0</td>\n",
       "    </tr>\n",
       "    <tr>\n",
       "      <th>10.1038/s41467-018-05227-z</th>\n",
       "      <td>Data sharing and the future of science</td>\n",
       "      <td>9</td>\n",
       "      <td>0</td>\n",
       "      <td>Information and Computing Sciences</td>\n",
       "      <td>8.0</td>\n",
       "    </tr>\n",
       "    <tr>\n",
       "      <th>10.1038/s41467-018-04565-2</th>\n",
       "      <td>The future of plastic</td>\n",
       "      <td>13</td>\n",
       "      <td>0</td>\n",
       "      <td>Chemical Sciences</td>\n",
       "      <td>3.0</td>\n",
       "    </tr>\n",
       "    <tr>\n",
       "      <th>10.1038/s41467-018-04302-9</th>\n",
       "      <td>Let there be laser light</td>\n",
       "      <td>1</td>\n",
       "      <td>0</td>\n",
       "      <td>Engineering</td>\n",
       "      <td>9.0</td>\n",
       "    </tr>\n",
       "    <tr>\n",
       "      <th>10.1038/s41467-019-12521-x</th>\n",
       "      <td>Building brain-inspired computing</td>\n",
       "      <td>0</td>\n",
       "      <td>0</td>\n",
       "      <td>Medical and Health Sciences</td>\n",
       "      <td>11.0</td>\n",
       "    </tr>\n",
       "  </tbody>\n",
       "</table>\n",
       "</div>"
      ],
      "text/plain": [
       "                                                                                            title  \\\n",
       "doi                                                                                                 \n",
       "10.1038/s41467-019-13714-0                                    A tug-of-war over the mid-latitudes   \n",
       "10.1038/s41467-018-07733-6  The fine line between performance improvement and device practicality   \n",
       "10.1038/s41467-018-03586-1                                          At the human-forest interface   \n",
       "10.1038/s41467-018-04159-y                                                  Building better yeast   \n",
       "10.1038/s41467-018-06012-8                     Reproducibility: let’s get it right from the start   \n",
       "10.1038/s41467-018-04243-3                           Epidemiology is a science of high importance   \n",
       "10.1038/s41467-018-04085-z                                                          Vaccines work   \n",
       "10.1038/s41467-018-05227-z                                 Data sharing and the future of science   \n",
       "10.1038/s41467-018-04565-2                                                  The future of plastic   \n",
       "10.1038/s41467-018-04302-9                                               Let there be laser light   \n",
       "10.1038/s41467-019-12521-x                                      Building brain-inspired computing   \n",
       "\n",
       "                            n_references  n_authors  \\\n",
       "doi                                                   \n",
       "10.1038/s41467-019-13714-0             3          0   \n",
       "10.1038/s41467-018-07733-6             0          0   \n",
       "10.1038/s41467-018-03586-1             9          0   \n",
       "10.1038/s41467-018-04159-y            10          0   \n",
       "10.1038/s41467-018-06012-8             0          0   \n",
       "10.1038/s41467-018-04243-3             8          0   \n",
       "10.1038/s41467-018-04085-z             8          0   \n",
       "10.1038/s41467-018-05227-z             9          0   \n",
       "10.1038/s41467-018-04565-2            13          0   \n",
       "10.1038/s41467-018-04302-9             1          0   \n",
       "10.1038/s41467-019-12521-x             0          0   \n",
       "\n",
       "                                                        for_name  for_code  \n",
       "doi                                                                         \n",
       "10.1038/s41467-019-13714-0                        Earth Sciences       4.0  \n",
       "10.1038/s41467-018-07733-6                           Engineering       9.0  \n",
       "10.1038/s41467-018-03586-1  Agricultural and Veterinary Sciences       7.0  \n",
       "10.1038/s41467-018-04159-y                   Biological Sciences       6.0  \n",
       "10.1038/s41467-018-06012-8           Medical and Health Sciences      11.0  \n",
       "10.1038/s41467-018-04243-3               History and Archaeology      21.0  \n",
       "10.1038/s41467-018-04085-z           Medical and Health Sciences      11.0  \n",
       "10.1038/s41467-018-05227-z    Information and Computing Sciences       8.0  \n",
       "10.1038/s41467-018-04565-2                     Chemical Sciences       3.0  \n",
       "10.1038/s41467-018-04302-9                           Engineering       9.0  \n",
       "10.1038/s41467-019-12521-x           Medical and Health Sciences      11.0  "
      ]
     },
     "execution_count": 63,
     "metadata": {},
     "output_type": "execute_result"
    }
   ],
   "source": [
    "file123[file123.n_authors == 0]"
   ]
  },
  {
   "cell_type": "code",
   "execution_count": 64,
   "metadata": {
    "ExecuteTime": {
     "end_time": "2021-08-23T00:57:58.855289Z",
     "start_time": "2021-08-23T00:57:58.838863Z"
    }
   },
   "outputs": [
    {
     "data": {
      "text/html": [
       "<div>\n",
       "<style scoped>\n",
       "    .dataframe tbody tr th:only-of-type {\n",
       "        vertical-align: middle;\n",
       "    }\n",
       "\n",
       "    .dataframe tbody tr th {\n",
       "        vertical-align: top;\n",
       "    }\n",
       "\n",
       "    .dataframe thead th {\n",
       "        text-align: right;\n",
       "    }\n",
       "</style>\n",
       "<table border=\"1\" class=\"dataframe\">\n",
       "  <thead>\n",
       "    <tr style=\"text-align: right;\">\n",
       "      <th></th>\n",
       "      <th>title</th>\n",
       "      <th>n_references</th>\n",
       "      <th>n_authors</th>\n",
       "      <th>for_name</th>\n",
       "      <th>for_code</th>\n",
       "    </tr>\n",
       "    <tr>\n",
       "      <th>doi</th>\n",
       "      <th></th>\n",
       "      <th></th>\n",
       "      <th></th>\n",
       "      <th></th>\n",
       "      <th></th>\n",
       "    </tr>\n",
       "  </thead>\n",
       "  <tbody>\n",
       "    <tr>\n",
       "      <th>10.1038/s41467-019-09905-4</th>\n",
       "      <td>Author Correction: Novel mutations in PIEZO1 cause an autosomal recessive generalized lymphatic dysplasia with non-immune hydrops fetalis</td>\n",
       "      <td>0</td>\n",
       "      <td>18</td>\n",
       "      <td>Biological Sciences</td>\n",
       "      <td>6.0</td>\n",
       "    </tr>\n",
       "    <tr>\n",
       "      <th>10.1038/s41467-018-05361-8</th>\n",
       "      <td>Publisher Correction: FGF signalling controls the specification of hair placode-derived SOX9 positive progenitors to Merkel cells</td>\n",
       "      <td>0</td>\n",
       "      <td>13</td>\n",
       "      <td>Biological Sciences</td>\n",
       "      <td>6.0</td>\n",
       "    </tr>\n",
       "    <tr>\n",
       "      <th>10.1038/s41467-018-05718-z</th>\n",
       "      <td>Author Correction: P53 and mTOR signalling determine fitness selection through cell competition during early mouse embryonic development</td>\n",
       "      <td>0</td>\n",
       "      <td>10</td>\n",
       "      <td>Biological Sciences</td>\n",
       "      <td>6.0</td>\n",
       "    </tr>\n",
       "    <tr>\n",
       "      <th>10.1038/s41467-019-08511-8</th>\n",
       "      <td>Author Correction: A disinhibitory mechanism biases Drosophila innate light preference</td>\n",
       "      <td>0</td>\n",
       "      <td>7</td>\n",
       "      <td>Biological Sciences</td>\n",
       "      <td>6.0</td>\n",
       "    </tr>\n",
       "    <tr>\n",
       "      <th>10.1038/s41467-018-06064-w</th>\n",
       "      <td>Publisher Correction: Single-shot condensation of exciton polaritons and the hole burning effect</td>\n",
       "      <td>0</td>\n",
       "      <td>12</td>\n",
       "      <td>Information and Computing Sciences</td>\n",
       "      <td>8.0</td>\n",
       "    </tr>\n",
       "    <tr>\n",
       "      <th>...</th>\n",
       "      <td>...</td>\n",
       "      <td>...</td>\n",
       "      <td>...</td>\n",
       "      <td>...</td>\n",
       "      <td>...</td>\n",
       "    </tr>\n",
       "    <tr>\n",
       "      <th>10.1038/s41467-019-10950-2</th>\n",
       "      <td>Author Correction: Soluble TREM2 ameliorates pathological phenotypes by modulating microglial functions in an Alzheimer’s disease model</td>\n",
       "      <td>0</td>\n",
       "      <td>23</td>\n",
       "      <td>Biological Sciences</td>\n",
       "      <td>6.0</td>\n",
       "    </tr>\n",
       "    <tr>\n",
       "      <th>10.1038/s41467-019-12521-x</th>\n",
       "      <td>Building brain-inspired computing</td>\n",
       "      <td>0</td>\n",
       "      <td>0</td>\n",
       "      <td>Medical and Health Sciences</td>\n",
       "      <td>11.0</td>\n",
       "    </tr>\n",
       "    <tr>\n",
       "      <th>10.1038/s41467-018-04753-0</th>\n",
       "      <td>Publisher Correction: 78,000-year-old record of Middle and Later Stone Age innovation in an East African tropical forest</td>\n",
       "      <td>0</td>\n",
       "      <td>28</td>\n",
       "      <td>History and Archaeology</td>\n",
       "      <td>21.0</td>\n",
       "    </tr>\n",
       "    <tr>\n",
       "      <th>10.1038/s41467-018-06643-x</th>\n",
       "      <td>Author Correction: Large intrinsic anomalous Hall effect in half-metallic ferromagnet Co3Sn2S2 with magnetic Weyl fermions</td>\n",
       "      <td>0</td>\n",
       "      <td>10</td>\n",
       "      <td>Physical Sciences</td>\n",
       "      <td>2.0</td>\n",
       "    </tr>\n",
       "    <tr>\n",
       "      <th>10.1038/s41467-019-10160-w</th>\n",
       "      <td>Author Correction: Study of 300,486 individuals identifies 148 independent genetic loci influencing general cognitive function</td>\n",
       "      <td>0</td>\n",
       "      <td>222</td>\n",
       "      <td>Biological Sciences</td>\n",
       "      <td>6.0</td>\n",
       "    </tr>\n",
       "  </tbody>\n",
       "</table>\n",
       "<p>469 rows × 5 columns</p>\n",
       "</div>"
      ],
      "text/plain": [
       "                                                                                                                                                                title  \\\n",
       "doi                                                                                                                                                                     \n",
       "10.1038/s41467-019-09905-4  Author Correction: Novel mutations in PIEZO1 cause an autosomal recessive generalized lymphatic dysplasia with non-immune hydrops fetalis   \n",
       "10.1038/s41467-018-05361-8          Publisher Correction: FGF signalling controls the specification of hair placode-derived SOX9 positive progenitors to Merkel cells   \n",
       "10.1038/s41467-018-05718-z   Author Correction: P53 and mTOR signalling determine fitness selection through cell competition during early mouse embryonic development   \n",
       "10.1038/s41467-019-08511-8                                                     Author Correction: A disinhibitory mechanism biases Drosophila innate light preference   \n",
       "10.1038/s41467-018-06064-w                                           Publisher Correction: Single-shot condensation of exciton polaritons and the hole burning effect   \n",
       "...                                                                                                                                                               ...   \n",
       "10.1038/s41467-019-10950-2    Author Correction: Soluble TREM2 ameliorates pathological phenotypes by modulating microglial functions in an Alzheimer’s disease model   \n",
       "10.1038/s41467-019-12521-x                                                                                                          Building brain-inspired computing   \n",
       "10.1038/s41467-018-04753-0                   Publisher Correction: 78,000-year-old record of Middle and Later Stone Age innovation in an East African tropical forest   \n",
       "10.1038/s41467-018-06643-x                 Author Correction: Large intrinsic anomalous Hall effect in half-metallic ferromagnet Co3Sn2S2 with magnetic Weyl fermions   \n",
       "10.1038/s41467-019-10160-w             Author Correction: Study of 300,486 individuals identifies 148 independent genetic loci influencing general cognitive function   \n",
       "\n",
       "                            n_references  n_authors  \\\n",
       "doi                                                   \n",
       "10.1038/s41467-019-09905-4             0         18   \n",
       "10.1038/s41467-018-05361-8             0         13   \n",
       "10.1038/s41467-018-05718-z             0         10   \n",
       "10.1038/s41467-019-08511-8             0          7   \n",
       "10.1038/s41467-018-06064-w             0         12   \n",
       "...                                  ...        ...   \n",
       "10.1038/s41467-019-10950-2             0         23   \n",
       "10.1038/s41467-019-12521-x             0          0   \n",
       "10.1038/s41467-018-04753-0             0         28   \n",
       "10.1038/s41467-018-06643-x             0         10   \n",
       "10.1038/s41467-019-10160-w             0        222   \n",
       "\n",
       "                                                      for_name  for_code  \n",
       "doi                                                                       \n",
       "10.1038/s41467-019-09905-4                 Biological Sciences       6.0  \n",
       "10.1038/s41467-018-05361-8                 Biological Sciences       6.0  \n",
       "10.1038/s41467-018-05718-z                 Biological Sciences       6.0  \n",
       "10.1038/s41467-019-08511-8                 Biological Sciences       6.0  \n",
       "10.1038/s41467-018-06064-w  Information and Computing Sciences       8.0  \n",
       "...                                                        ...       ...  \n",
       "10.1038/s41467-019-10950-2                 Biological Sciences       6.0  \n",
       "10.1038/s41467-019-12521-x         Medical and Health Sciences      11.0  \n",
       "10.1038/s41467-018-04753-0             History and Archaeology      21.0  \n",
       "10.1038/s41467-018-06643-x                   Physical Sciences       2.0  \n",
       "10.1038/s41467-019-10160-w                 Biological Sciences       6.0  \n",
       "\n",
       "[469 rows x 5 columns]"
      ]
     },
     "execution_count": 64,
     "metadata": {},
     "output_type": "execute_result"
    }
   ],
   "source": [
    "file123[file123.n_references == 0]"
   ]
  },
  {
   "cell_type": "markdown",
   "metadata": {},
   "source": [
    "#### Text exploration"
   ]
  },
  {
   "cell_type": "code",
   "execution_count": 65,
   "metadata": {
    "ExecuteTime": {
     "end_time": "2021-08-23T00:57:58.874819Z",
     "start_time": "2021-08-23T00:57:58.858021Z"
    }
   },
   "outputs": [],
   "source": [
    "file123['word_count'] = file123['title'].apply(lambda x: len(str(x).split(\" \"))) "
   ]
  },
  {
   "cell_type": "code",
   "execution_count": 66,
   "metadata": {
    "ExecuteTime": {
     "end_time": "2021-08-23T00:57:58.892294Z",
     "start_time": "2021-08-23T00:57:58.877764Z"
    }
   },
   "outputs": [
    {
     "data": {
      "text/html": [
       "<div>\n",
       "<style scoped>\n",
       "    .dataframe tbody tr th:only-of-type {\n",
       "        vertical-align: middle;\n",
       "    }\n",
       "\n",
       "    .dataframe tbody tr th {\n",
       "        vertical-align: top;\n",
       "    }\n",
       "\n",
       "    .dataframe thead th {\n",
       "        text-align: right;\n",
       "    }\n",
       "</style>\n",
       "<table border=\"1\" class=\"dataframe\">\n",
       "  <thead>\n",
       "    <tr style=\"text-align: right;\">\n",
       "      <th></th>\n",
       "      <th>title</th>\n",
       "      <th>n_references</th>\n",
       "      <th>n_authors</th>\n",
       "      <th>for_name</th>\n",
       "      <th>for_code</th>\n",
       "      <th>word_count</th>\n",
       "    </tr>\n",
       "    <tr>\n",
       "      <th>doi</th>\n",
       "      <th></th>\n",
       "      <th></th>\n",
       "      <th></th>\n",
       "      <th></th>\n",
       "      <th></th>\n",
       "      <th></th>\n",
       "    </tr>\n",
       "  </thead>\n",
       "  <tbody>\n",
       "    <tr>\n",
       "      <th>10.1038/s41467-018-06688-y</th>\n",
       "      <td>Thermal and electrical signatures of a hydrodynamic electron fluid in tungsten diphosphide</td>\n",
       "      <td>37</td>\n",
       "      <td>10</td>\n",
       "      <td>Engineering</td>\n",
       "      <td>9.0</td>\n",
       "      <td>12</td>\n",
       "    </tr>\n",
       "    <tr>\n",
       "      <th>10.1038/s41467-019-11924-0</th>\n",
       "      <td>Local Josephson vortex generation and manipulation with a Magnetic Force Microscope</td>\n",
       "      <td>54</td>\n",
       "      <td>15</td>\n",
       "      <td>Physical Sciences</td>\n",
       "      <td>2.0</td>\n",
       "      <td>11</td>\n",
       "    </tr>\n",
       "    <tr>\n",
       "      <th>10.1038/s41467-018-07414-4</th>\n",
       "      <td>A robust zirconium amino acid metal-organic framework for proton conduction</td>\n",
       "      <td>59</td>\n",
       "      <td>11</td>\n",
       "      <td>Chemical Sciences</td>\n",
       "      <td>3.0</td>\n",
       "      <td>10</td>\n",
       "    </tr>\n",
       "    <tr>\n",
       "      <th>10.1038/s41467-019-10249-2</th>\n",
       "      <td>Ultrafast multi-focus 3-D nano-fabrication based on two-photon polymerization</td>\n",
       "      <td>23</td>\n",
       "      <td>4</td>\n",
       "      <td>Physical Sciences</td>\n",
       "      <td>2.0</td>\n",
       "      <td>8</td>\n",
       "    </tr>\n",
       "    <tr>\n",
       "      <th>10.1038/s41467-018-07828-0</th>\n",
       "      <td>Closure of the Bering Strait caused Mid-Pleistocene Transition cooling</td>\n",
       "      <td>66</td>\n",
       "      <td>11</td>\n",
       "      <td>Earth Sciences</td>\n",
       "      <td>4.0</td>\n",
       "      <td>9</td>\n",
       "    </tr>\n",
       "  </tbody>\n",
       "</table>\n",
       "</div>"
      ],
      "text/plain": [
       "                                                                                                                 title  \\\n",
       "doi                                                                                                                      \n",
       "10.1038/s41467-018-06688-y  Thermal and electrical signatures of a hydrodynamic electron fluid in tungsten diphosphide   \n",
       "10.1038/s41467-019-11924-0         Local Josephson vortex generation and manipulation with a Magnetic Force Microscope   \n",
       "10.1038/s41467-018-07414-4                 A robust zirconium amino acid metal-organic framework for proton conduction   \n",
       "10.1038/s41467-019-10249-2               Ultrafast multi-focus 3-D nano-fabrication based on two-photon polymerization   \n",
       "10.1038/s41467-018-07828-0                      Closure of the Bering Strait caused Mid-Pleistocene Transition cooling   \n",
       "\n",
       "                            n_references  n_authors           for_name  \\\n",
       "doi                                                                      \n",
       "10.1038/s41467-018-06688-y            37         10        Engineering   \n",
       "10.1038/s41467-019-11924-0            54         15  Physical Sciences   \n",
       "10.1038/s41467-018-07414-4            59         11  Chemical Sciences   \n",
       "10.1038/s41467-019-10249-2            23          4  Physical Sciences   \n",
       "10.1038/s41467-018-07828-0            66         11     Earth Sciences   \n",
       "\n",
       "                            for_code  word_count  \n",
       "doi                                               \n",
       "10.1038/s41467-018-06688-y       9.0          12  \n",
       "10.1038/s41467-019-11924-0       2.0          11  \n",
       "10.1038/s41467-018-07414-4       3.0          10  \n",
       "10.1038/s41467-019-10249-2       2.0           8  \n",
       "10.1038/s41467-018-07828-0       4.0           9  "
      ]
     },
     "execution_count": 66,
     "metadata": {},
     "output_type": "execute_result"
    }
   ],
   "source": [
    "file123.head()"
   ]
  },
  {
   "cell_type": "code",
   "execution_count": 67,
   "metadata": {
    "ExecuteTime": {
     "end_time": "2021-08-23T00:57:58.918635Z",
     "start_time": "2021-08-23T00:57:58.909502Z"
    }
   },
   "outputs": [
    {
     "data": {
      "text/plain": [
       "count    8071.000000\n",
       "mean       11.412836\n",
       "std         2.856945\n",
       "min         1.000000\n",
       "25%         9.000000\n",
       "50%        12.000000\n",
       "75%        14.000000\n",
       "max        21.000000\n",
       "Name: word_count, dtype: float64"
      ]
     },
     "execution_count": 67,
     "metadata": {},
     "output_type": "execute_result"
    }
   ],
   "source": [
    "file123.word_count.describe()"
   ]
  },
  {
   "cell_type": "code",
   "execution_count": 68,
   "metadata": {
    "ExecuteTime": {
     "end_time": "2021-08-23T00:57:58.935443Z",
     "start_time": "2021-08-23T00:57:58.925499Z"
    },
    "scrolled": true
   },
   "outputs": [
    {
     "data": {
      "text/html": [
       "<div>\n",
       "<style scoped>\n",
       "    .dataframe tbody tr th:only-of-type {\n",
       "        vertical-align: middle;\n",
       "    }\n",
       "\n",
       "    .dataframe tbody tr th {\n",
       "        vertical-align: top;\n",
       "    }\n",
       "\n",
       "    .dataframe thead th {\n",
       "        text-align: right;\n",
       "    }\n",
       "</style>\n",
       "<table border=\"1\" class=\"dataframe\">\n",
       "  <thead>\n",
       "    <tr style=\"text-align: right;\">\n",
       "      <th></th>\n",
       "      <th>title</th>\n",
       "      <th>n_references</th>\n",
       "      <th>n_authors</th>\n",
       "      <th>for_name</th>\n",
       "      <th>for_code</th>\n",
       "      <th>word_count</th>\n",
       "    </tr>\n",
       "    <tr>\n",
       "      <th>doi</th>\n",
       "      <th></th>\n",
       "      <th></th>\n",
       "      <th></th>\n",
       "      <th></th>\n",
       "      <th></th>\n",
       "      <th></th>\n",
       "    </tr>\n",
       "  </thead>\n",
       "  <tbody>\n",
       "    <tr>\n",
       "      <th>10.1038/s41467-019-11818-1</th>\n",
       "      <td>TriQuinoline</td>\n",
       "      <td>62</td>\n",
       "      <td>3</td>\n",
       "      <td>Chemical Sciences</td>\n",
       "      <td>3.0</td>\n",
       "      <td>1</td>\n",
       "    </tr>\n",
       "    <tr>\n",
       "      <th>10.1038/s41467-019-11850-1</th>\n",
       "      <td>Capillary orbits</td>\n",
       "      <td>28</td>\n",
       "      <td>4</td>\n",
       "      <td>Chemical Sciences</td>\n",
       "      <td>3.0</td>\n",
       "      <td>2</td>\n",
       "    </tr>\n",
       "    <tr>\n",
       "      <th>10.1038/s41467-018-04085-z</th>\n",
       "      <td>Vaccines work</td>\n",
       "      <td>8</td>\n",
       "      <td>0</td>\n",
       "      <td>Medical and Health Sciences</td>\n",
       "      <td>11.0</td>\n",
       "      <td>2</td>\n",
       "    </tr>\n",
       "    <tr>\n",
       "      <th>10.1038/s41467-018-05666-8</th>\n",
       "      <td>Active nematics</td>\n",
       "      <td>112</td>\n",
       "      <td>4</td>\n",
       "      <td>Engineering</td>\n",
       "      <td>9.0</td>\n",
       "      <td>2</td>\n",
       "    </tr>\n",
       "    <tr>\n",
       "      <th>10.1038/s41467-017-02590-1</th>\n",
       "      <td>Ceramic nanowelding</td>\n",
       "      <td>29</td>\n",
       "      <td>14</td>\n",
       "      <td>Engineering</td>\n",
       "      <td>9.0</td>\n",
       "      <td>2</td>\n",
       "    </tr>\n",
       "  </tbody>\n",
       "</table>\n",
       "</div>"
      ],
      "text/plain": [
       "                                          title  n_references  n_authors  \\\n",
       "doi                                                                        \n",
       "10.1038/s41467-019-11818-1         TriQuinoline            62          3   \n",
       "10.1038/s41467-019-11850-1     Capillary orbits            28          4   \n",
       "10.1038/s41467-018-04085-z        Vaccines work             8          0   \n",
       "10.1038/s41467-018-05666-8      Active nematics           112          4   \n",
       "10.1038/s41467-017-02590-1  Ceramic nanowelding            29         14   \n",
       "\n",
       "                                               for_name  for_code  word_count  \n",
       "doi                                                                            \n",
       "10.1038/s41467-019-11818-1            Chemical Sciences       3.0           1  \n",
       "10.1038/s41467-019-11850-1            Chemical Sciences       3.0           2  \n",
       "10.1038/s41467-018-04085-z  Medical and Health Sciences      11.0           2  \n",
       "10.1038/s41467-018-05666-8                  Engineering       9.0           2  \n",
       "10.1038/s41467-017-02590-1                  Engineering       9.0           2  "
      ]
     },
     "execution_count": 68,
     "metadata": {},
     "output_type": "execute_result"
    }
   ],
   "source": [
    "file123[file123.word_count <= 2]"
   ]
  },
  {
   "cell_type": "code",
   "execution_count": 69,
   "metadata": {
    "ExecuteTime": {
     "end_time": "2021-08-23T00:57:59.133520Z",
     "start_time": "2021-08-23T00:57:58.937728Z"
    }
   },
   "outputs": [
    {
     "data": {
      "text/plain": [
       "<matplotlib.axes._subplots.AxesSubplot at 0x7f867d046910>"
      ]
     },
     "execution_count": 69,
     "metadata": {},
     "output_type": "execute_result"
    },
    {
     "data": {
      "image/png": "[encoded data removed]",
      "text/plain": [
       "<Figure size 1080x720 with 1 Axes>"
      ]
     },
     "metadata": {
      "needs_background": "light"
     },
     "output_type": "display_data"
    }
   ],
   "source": [
    "file123.boxplot(column= ['word_count'],figsize=(15,10))"
   ]
  },
  {
   "cell_type": "code",
   "execution_count": 70,
   "metadata": {
    "ExecuteTime": {
     "end_time": "2021-08-23T00:57:59.156014Z",
     "start_time": "2021-08-23T00:57:59.135891Z"
    }
   },
   "outputs": [],
   "source": [
    "freq = pd.Series(''.join(file123['title']).split())"
   ]
  },
  {
   "cell_type": "code",
   "execution_count": 71,
   "metadata": {
    "ExecuteTime": {
     "end_time": "2021-08-23T00:57:59.165535Z",
     "start_time": "2021-08-23T00:57:59.158530Z"
    }
   },
   "outputs": [],
   "source": [
    "word_count_q1 = file123['word_count'].quantile(0.25)\n",
    "word_count_q3 = file123['word_count'].quantile(0.75)\n",
    "word_count_IQR = word_count_q3 - word_count_q1\n",
    "word_count_lower = word_count_q1 - (1.5 * word_count_IQR)"
   ]
  },
  {
   "cell_type": "code",
   "execution_count": 72,
   "metadata": {
    "ExecuteTime": {
     "end_time": "2021-08-23T00:57:59.173410Z",
     "start_time": "2021-08-23T00:57:59.168043Z"
    }
   },
   "outputs": [
    {
     "data": {
      "text/plain": [
       "1.5"
      ]
     },
     "execution_count": 72,
     "metadata": {},
     "output_type": "execute_result"
    }
   ],
   "source": [
    "word_count_lower"
   ]
  },
  {
   "cell_type": "code",
   "execution_count": 73,
   "metadata": {
    "ExecuteTime": {
     "end_time": "2021-08-23T00:57:59.199828Z",
     "start_time": "2021-08-23T00:57:59.176055Z"
    }
   },
   "outputs": [],
   "source": [
    "freq = freq.value_counts(sort=True).to_frame().reset_index()"
   ]
  },
  {
   "cell_type": "code",
   "execution_count": 74,
   "metadata": {
    "ExecuteTime": {
     "end_time": "2021-08-23T00:57:59.207079Z",
     "start_time": "2021-08-23T00:57:59.201883Z"
    }
   },
   "outputs": [],
   "source": [
    "freq = freq.rename(columns={'index': 'word', 0: 'count'})"
   ]
  },
  {
   "cell_type": "code",
   "execution_count": 75,
   "metadata": {
    "ExecuteTime": {
     "end_time": "2021-08-23T00:57:59.218692Z",
     "start_time": "2021-08-23T00:57:59.209602Z"
    }
   },
   "outputs": [
    {
     "data": {
      "text/html": [
       "<div>\n",
       "<style scoped>\n",
       "    .dataframe tbody tr th:only-of-type {\n",
       "        vertical-align: middle;\n",
       "    }\n",
       "\n",
       "    .dataframe tbody tr th {\n",
       "        vertical-align: top;\n",
       "    }\n",
       "\n",
       "    .dataframe thead th {\n",
       "        text-align: right;\n",
       "    }\n",
       "</style>\n",
       "<table border=\"1\" class=\"dataframe\">\n",
       "  <thead>\n",
       "    <tr style=\"text-align: right;\">\n",
       "      <th></th>\n",
       "      <th>word</th>\n",
       "      <th>count</th>\n",
       "    </tr>\n",
       "  </thead>\n",
       "  <tbody>\n",
       "    <tr>\n",
       "      <th>0</th>\n",
       "      <td>of</td>\n",
       "      <td>4357</td>\n",
       "    </tr>\n",
       "    <tr>\n",
       "      <th>1</th>\n",
       "      <td>in</td>\n",
       "      <td>3018</td>\n",
       "    </tr>\n",
       "    <tr>\n",
       "      <th>2</th>\n",
       "      <td>and</td>\n",
       "      <td>2813</td>\n",
       "    </tr>\n",
       "    <tr>\n",
       "      <th>3</th>\n",
       "      <td>the</td>\n",
       "      <td>1831</td>\n",
       "    </tr>\n",
       "    <tr>\n",
       "      <th>4</th>\n",
       "      <td>for</td>\n",
       "      <td>1184</td>\n",
       "    </tr>\n",
       "    <tr>\n",
       "      <th>...</th>\n",
       "      <td>...</td>\n",
       "      <td>...</td>\n",
       "    </tr>\n",
       "    <tr>\n",
       "      <th>23690</th>\n",
       "      <td>reverts</td>\n",
       "      <td>1</td>\n",
       "    </tr>\n",
       "    <tr>\n",
       "      <th>23691</th>\n",
       "      <td>microenvironmentScalable</td>\n",
       "      <td>1</td>\n",
       "    </tr>\n",
       "    <tr>\n",
       "      <th>23692</th>\n",
       "      <td>training</td>\n",
       "      <td>1</td>\n",
       "    </tr>\n",
       "    <tr>\n",
       "      <th>23693</th>\n",
       "      <td>scienceAsymmetry</td>\n",
       "      <td>1</td>\n",
       "    </tr>\n",
       "    <tr>\n",
       "      <th>23694</th>\n",
       "      <td>heart-rate</td>\n",
       "      <td>1</td>\n",
       "    </tr>\n",
       "  </tbody>\n",
       "</table>\n",
       "<p>23695 rows × 2 columns</p>\n",
       "</div>"
      ],
      "text/plain": [
       "                           word  count\n",
       "0                            of   4357\n",
       "1                            in   3018\n",
       "2                           and   2813\n",
       "3                           the   1831\n",
       "4                           for   1184\n",
       "...                         ...    ...\n",
       "23690                   reverts      1\n",
       "23691  microenvironmentScalable      1\n",
       "23692                  training      1\n",
       "23693          scienceAsymmetry      1\n",
       "23694                heart-rate      1\n",
       "\n",
       "[23695 rows x 2 columns]"
      ]
     },
     "execution_count": 75,
     "metadata": {},
     "output_type": "execute_result"
    }
   ],
   "source": [
    "freq"
   ]
  },
  {
   "cell_type": "code",
   "execution_count": 76,
   "metadata": {
    "ExecuteTime": {
     "end_time": "2021-08-23T00:57:59.230186Z",
     "start_time": "2021-08-23T00:57:59.220985Z"
    }
   },
   "outputs": [
    {
     "data": {
      "text/html": [
       "<div>\n",
       "<style scoped>\n",
       "    .dataframe tbody tr th:only-of-type {\n",
       "        vertical-align: middle;\n",
       "    }\n",
       "\n",
       "    .dataframe tbody tr th {\n",
       "        vertical-align: top;\n",
       "    }\n",
       "\n",
       "    .dataframe thead th {\n",
       "        text-align: right;\n",
       "    }\n",
       "</style>\n",
       "<table border=\"1\" class=\"dataframe\">\n",
       "  <thead>\n",
       "    <tr style=\"text-align: right;\">\n",
       "      <th></th>\n",
       "      <th>word</th>\n",
       "      <th>count</th>\n",
       "    </tr>\n",
       "  </thead>\n",
       "  <tbody>\n",
       "    <tr>\n",
       "      <th>0</th>\n",
       "      <td>of</td>\n",
       "      <td>4357</td>\n",
       "    </tr>\n",
       "    <tr>\n",
       "      <th>1</th>\n",
       "      <td>in</td>\n",
       "      <td>3018</td>\n",
       "    </tr>\n",
       "    <tr>\n",
       "      <th>2</th>\n",
       "      <td>and</td>\n",
       "      <td>2813</td>\n",
       "    </tr>\n",
       "    <tr>\n",
       "      <th>3</th>\n",
       "      <td>the</td>\n",
       "      <td>1831</td>\n",
       "    </tr>\n",
       "    <tr>\n",
       "      <th>4</th>\n",
       "      <td>for</td>\n",
       "      <td>1184</td>\n",
       "    </tr>\n",
       "    <tr>\n",
       "      <th>5</th>\n",
       "      <td>a</td>\n",
       "      <td>1050</td>\n",
       "    </tr>\n",
       "    <tr>\n",
       "      <th>6</th>\n",
       "      <td>by</td>\n",
       "      <td>1036</td>\n",
       "    </tr>\n",
       "    <tr>\n",
       "      <th>7</th>\n",
       "      <td>to</td>\n",
       "      <td>892</td>\n",
       "    </tr>\n",
       "    <tr>\n",
       "      <th>8</th>\n",
       "      <td>with</td>\n",
       "      <td>739</td>\n",
       "    </tr>\n",
       "    <tr>\n",
       "      <th>9</th>\n",
       "      <td>Correction:</td>\n",
       "      <td>469</td>\n",
       "    </tr>\n",
       "    <tr>\n",
       "      <th>10</th>\n",
       "      <td>from</td>\n",
       "      <td>392</td>\n",
       "    </tr>\n",
       "    <tr>\n",
       "      <th>11</th>\n",
       "      <td>cell</td>\n",
       "      <td>344</td>\n",
       "    </tr>\n",
       "    <tr>\n",
       "      <th>12</th>\n",
       "      <td>on</td>\n",
       "      <td>319</td>\n",
       "    </tr>\n",
       "    <tr>\n",
       "      <th>13</th>\n",
       "      <td>is</td>\n",
       "      <td>295</td>\n",
       "    </tr>\n",
       "    <tr>\n",
       "      <th>14</th>\n",
       "      <td>human</td>\n",
       "      <td>271</td>\n",
       "    </tr>\n",
       "    <tr>\n",
       "      <th>15</th>\n",
       "      <td>an</td>\n",
       "      <td>268</td>\n",
       "    </tr>\n",
       "    <tr>\n",
       "      <th>16</th>\n",
       "      <td>via</td>\n",
       "      <td>251</td>\n",
       "    </tr>\n",
       "    <tr>\n",
       "      <th>17</th>\n",
       "      <td>using</td>\n",
       "      <td>231</td>\n",
       "    </tr>\n",
       "    <tr>\n",
       "      <th>18</th>\n",
       "      <td>cells</td>\n",
       "      <td>228</td>\n",
       "    </tr>\n",
       "    <tr>\n",
       "      <th>19</th>\n",
       "      <td>through</td>\n",
       "      <td>225</td>\n",
       "    </tr>\n",
       "  </tbody>\n",
       "</table>\n",
       "</div>"
      ],
      "text/plain": [
       "           word  count\n",
       "0            of   4357\n",
       "1            in   3018\n",
       "2           and   2813\n",
       "3           the   1831\n",
       "4           for   1184\n",
       "5             a   1050\n",
       "6            by   1036\n",
       "7            to    892\n",
       "8          with    739\n",
       "9   Correction:    469\n",
       "10         from    392\n",
       "11         cell    344\n",
       "12           on    319\n",
       "13           is    295\n",
       "14        human    271\n",
       "15           an    268\n",
       "16          via    251\n",
       "17        using    231\n",
       "18        cells    228\n",
       "19      through    225"
      ]
     },
     "execution_count": 76,
     "metadata": {},
     "output_type": "execute_result"
    }
   ],
   "source": [
    "freq.head(20)"
   ]
  },
  {
   "cell_type": "code",
   "execution_count": 77,
   "metadata": {
    "ExecuteTime": {
     "end_time": "2021-08-23T00:57:59.237376Z",
     "start_time": "2021-08-23T00:57:59.232661Z"
    }
   },
   "outputs": [],
   "source": [
    "new_words = freq['word'][:40].to_list()"
   ]
  },
  {
   "cell_type": "code",
   "execution_count": 78,
   "metadata": {
    "ExecuteTime": {
     "end_time": "2021-08-23T00:57:59.246524Z",
     "start_time": "2021-08-23T00:57:59.239879Z"
    }
   },
   "outputs": [
    {
     "data": {
      "text/plain": [
       "['of',\n",
       " 'in',\n",
       " 'and',\n",
       " 'the',\n",
       " 'for',\n",
       " 'a',\n",
       " 'by',\n",
       " 'to',\n",
       " 'with',\n",
       " 'Correction:',\n",
       " 'from',\n",
       " 'cell',\n",
       " 'on',\n",
       " 'is',\n",
       " 'human',\n",
       " 'an',\n",
       " 'via',\n",
       " 'using',\n",
       " 'cells',\n",
       " 'through',\n",
       " 'during',\n",
       " 'reveals',\n",
       " 'at',\n",
       " 'as',\n",
       " 'protein',\n",
       " 'DNA',\n",
       " 'regulates',\n",
       " 'cancer',\n",
       " 'dynamics',\n",
       " 'quantum',\n",
       " 'promotes',\n",
       " 'complex',\n",
       " 'control',\n",
       " 'gene',\n",
       " 'between',\n",
       " 'into',\n",
       " 'molecular',\n",
       " 'carbon',\n",
       " 'structure',\n",
       " 'receptor']"
      ]
     },
     "execution_count": 78,
     "metadata": {},
     "output_type": "execute_result"
    }
   ],
   "source": [
    "new_words"
   ]
  },
  {
   "cell_type": "code",
   "execution_count": 79,
   "metadata": {
    "ExecuteTime": {
     "end_time": "2021-08-23T00:57:59.258692Z",
     "start_time": "2021-08-23T00:57:59.249297Z"
    }
   },
   "outputs": [],
   "source": [
    "word_outliers = freq.word.loc[(freq['count']<=40)] "
   ]
  },
  {
   "cell_type": "code",
   "execution_count": 80,
   "metadata": {
    "ExecuteTime": {
     "end_time": "2021-08-23T00:57:59.275509Z",
     "start_time": "2021-08-23T00:57:59.260803Z"
    }
   },
   "outputs": [
    {
     "data": {
      "text/plain": [
       "183                           can\n",
       "184                          vivo\n",
       "185                         metal\n",
       "186                         genes\n",
       "187                         small\n",
       "                   ...           \n",
       "23690                     reverts\n",
       "23691    microenvironmentScalable\n",
       "23692                    training\n",
       "23693            scienceAsymmetry\n",
       "23694                  heart-rate\n",
       "Name: word, Length: 23512, dtype: object"
      ]
     },
     "execution_count": 80,
     "metadata": {},
     "output_type": "execute_result"
    }
   ],
   "source": [
    "word_outliers"
   ]
  },
  {
   "cell_type": "code",
   "execution_count": 81,
   "metadata": {
    "ExecuteTime": {
     "end_time": "2021-08-23T00:57:59.288901Z",
     "start_time": "2021-08-23T00:57:59.280539Z"
    }
   },
   "outputs": [
    {
     "data": {
      "text/plain": [
       "(23695, 2)"
      ]
     },
     "execution_count": 81,
     "metadata": {},
     "output_type": "execute_result"
    }
   ],
   "source": [
    "freq.shape"
   ]
  },
  {
   "cell_type": "code",
   "execution_count": 82,
   "metadata": {
    "ExecuteTime": {
     "end_time": "2021-08-23T00:57:59.297835Z",
     "start_time": "2021-08-23T00:57:59.292662Z"
    }
   },
   "outputs": [],
   "source": [
    "# freq[-20:]"
   ]
  },
  {
   "cell_type": "markdown",
   "metadata": {},
   "source": [
    "### Text Pre-processing"
   ]
  },
  {
   "cell_type": "markdown",
   "metadata": {
    "ExecuteTime": {
     "end_time": "2021-08-22T14:18:52.031821Z",
     "start_time": "2021-08-22T14:18:52.023355Z"
    }
   },
   "source": [
    "#### Noise Removal"
   ]
  },
  {
   "cell_type": "markdown",
   "metadata": {},
   "source": [
    "##### Remove other document types"
   ]
  },
  {
   "cell_type": "markdown",
   "metadata": {},
   "source": [
    "Remove: addenda, editorials, corrections (author, publisher), replies, and retractions that are likely to intoduce noise."
   ]
  },
  {
   "cell_type": "code",
   "execution_count": 83,
   "metadata": {
    "ExecuteTime": {
     "end_time": "2021-08-23T00:57:59.385505Z",
     "start_time": "2021-08-23T00:57:59.306145Z"
    }
   },
   "outputs": [],
   "source": [
    "remove_list = file123[file123['title'].str.contains('^correction|author correction|publisher correction|addendum|editorial|reply|retraction', case=False)].index"
   ]
  },
  {
   "cell_type": "code",
   "execution_count": 84,
   "metadata": {
    "ExecuteTime": {
     "end_time": "2021-08-23T00:57:59.393298Z",
     "start_time": "2021-08-23T00:57:59.387582Z"
    }
   },
   "outputs": [
    {
     "data": {
      "text/plain": [
       "Index(['10.1038/s41467-019-09905-4', '10.1038/s41467-018-05361-8',\n",
       "       '10.1038/s41467-018-05718-z', '10.1038/s41467-019-08511-8',\n",
       "       '10.1038/s41467-018-06064-w', '10.1038/s41467-018-03022-4',\n",
       "       '10.1038/s41467-019-08627-x', '10.1038/ncomms16210',\n",
       "       '10.1038/s41467-019-08589-0', '10.1038/s41467-017-02303-8',\n",
       "       ...\n",
       "       '10.1038/s41467-019-09912-5', '10.1038/s41467-018-04655-1',\n",
       "       '10.1038/s41467-019-10072-9', '10.1038/s41467-018-07428-y',\n",
       "       '10.1038/s41467-019-08920-9', '10.1038/s41467-019-10559-5',\n",
       "       '10.1038/s41467-019-10950-2', '10.1038/s41467-018-04753-0',\n",
       "       '10.1038/s41467-018-06643-x', '10.1038/s41467-019-10160-w'],\n",
       "      dtype='object', name='doi', length=473)"
      ]
     },
     "execution_count": 84,
     "metadata": {},
     "output_type": "execute_result"
    }
   ],
   "source": [
    "remove_list"
   ]
  },
  {
   "cell_type": "code",
   "execution_count": 85,
   "metadata": {
    "ExecuteTime": {
     "end_time": "2021-08-23T00:57:59.400929Z",
     "start_time": "2021-08-23T00:57:59.395931Z"
    }
   },
   "outputs": [],
   "source": [
    "file123_df = file123.drop(remove_list)"
   ]
  },
  {
   "cell_type": "code",
   "execution_count": 86,
   "metadata": {
    "ExecuteTime": {
     "end_time": "2021-08-23T00:57:59.416002Z",
     "start_time": "2021-08-23T00:57:59.403079Z"
    },
    "scrolled": true
   },
   "outputs": [
    {
     "data": {
      "text/html": [
       "<div>\n",
       "<style scoped>\n",
       "    .dataframe tbody tr th:only-of-type {\n",
       "        vertical-align: middle;\n",
       "    }\n",
       "\n",
       "    .dataframe tbody tr th {\n",
       "        vertical-align: top;\n",
       "    }\n",
       "\n",
       "    .dataframe thead th {\n",
       "        text-align: right;\n",
       "    }\n",
       "</style>\n",
       "<table border=\"1\" class=\"dataframe\">\n",
       "  <thead>\n",
       "    <tr style=\"text-align: right;\">\n",
       "      <th></th>\n",
       "      <th>title</th>\n",
       "      <th>n_references</th>\n",
       "      <th>n_authors</th>\n",
       "      <th>for_name</th>\n",
       "      <th>for_code</th>\n",
       "      <th>word_count</th>\n",
       "    </tr>\n",
       "    <tr>\n",
       "      <th>doi</th>\n",
       "      <th></th>\n",
       "      <th></th>\n",
       "      <th></th>\n",
       "      <th></th>\n",
       "      <th></th>\n",
       "      <th></th>\n",
       "    </tr>\n",
       "  </thead>\n",
       "  <tbody>\n",
       "    <tr>\n",
       "      <th>10.1038/s41467-018-06688-y</th>\n",
       "      <td>Thermal and electrical signatures of a hydrodynamic electron fluid in tungsten diphosphide</td>\n",
       "      <td>37</td>\n",
       "      <td>10</td>\n",
       "      <td>Engineering</td>\n",
       "      <td>9.0</td>\n",
       "      <td>12</td>\n",
       "    </tr>\n",
       "    <tr>\n",
       "      <th>10.1038/s41467-019-11924-0</th>\n",
       "      <td>Local Josephson vortex generation and manipulation with a Magnetic Force Microscope</td>\n",
       "      <td>54</td>\n",
       "      <td>15</td>\n",
       "      <td>Physical Sciences</td>\n",
       "      <td>2.0</td>\n",
       "      <td>11</td>\n",
       "    </tr>\n",
       "    <tr>\n",
       "      <th>10.1038/s41467-018-07414-4</th>\n",
       "      <td>A robust zirconium amino acid metal-organic framework for proton conduction</td>\n",
       "      <td>59</td>\n",
       "      <td>11</td>\n",
       "      <td>Chemical Sciences</td>\n",
       "      <td>3.0</td>\n",
       "      <td>10</td>\n",
       "    </tr>\n",
       "    <tr>\n",
       "      <th>10.1038/s41467-019-10249-2</th>\n",
       "      <td>Ultrafast multi-focus 3-D nano-fabrication based on two-photon polymerization</td>\n",
       "      <td>23</td>\n",
       "      <td>4</td>\n",
       "      <td>Physical Sciences</td>\n",
       "      <td>2.0</td>\n",
       "      <td>8</td>\n",
       "    </tr>\n",
       "    <tr>\n",
       "      <th>10.1038/s41467-018-07828-0</th>\n",
       "      <td>Closure of the Bering Strait caused Mid-Pleistocene Transition cooling</td>\n",
       "      <td>66</td>\n",
       "      <td>11</td>\n",
       "      <td>Earth Sciences</td>\n",
       "      <td>4.0</td>\n",
       "      <td>9</td>\n",
       "    </tr>\n",
       "    <tr>\n",
       "      <th>...</th>\n",
       "      <td>...</td>\n",
       "      <td>...</td>\n",
       "      <td>...</td>\n",
       "      <td>...</td>\n",
       "      <td>...</td>\n",
       "      <td>...</td>\n",
       "    </tr>\n",
       "    <tr>\n",
       "      <th>10.1038/s41467-017-02270-0</th>\n",
       "      <td>Ultrasensitive reversible chromophore reaction of BODIPY functions as high ratio double turn on probe</td>\n",
       "      <td>48</td>\n",
       "      <td>15</td>\n",
       "      <td>Chemical Sciences</td>\n",
       "      <td>3.0</td>\n",
       "      <td>14</td>\n",
       "    </tr>\n",
       "    <tr>\n",
       "      <th>10.1038/s41467-019-08739-4</th>\n",
       "      <td>HIV-1 vaccination by needle-free oral injection induces strong mucosal immunity and protects against SHIV challenge</td>\n",
       "      <td>64</td>\n",
       "      <td>13</td>\n",
       "      <td>Medical and Health Sciences</td>\n",
       "      <td>11.0</td>\n",
       "      <td>15</td>\n",
       "    </tr>\n",
       "    <tr>\n",
       "      <th>10.1038/s41467-019-08769-y</th>\n",
       "      <td>Single gold-bridged nanoprobes for identification of single point DNA mutations</td>\n",
       "      <td>64</td>\n",
       "      <td>7</td>\n",
       "      <td>Chemical Sciences</td>\n",
       "      <td>3.0</td>\n",
       "      <td>10</td>\n",
       "    </tr>\n",
       "    <tr>\n",
       "      <th>10.1038/s41467-019-11237-2</th>\n",
       "      <td>Conditional expression explains molecular evolution of social genes in a microbe</td>\n",
       "      <td>63</td>\n",
       "      <td>11</td>\n",
       "      <td>Biological Sciences</td>\n",
       "      <td>6.0</td>\n",
       "      <td>11</td>\n",
       "    </tr>\n",
       "    <tr>\n",
       "      <th>10.1038/s41467-018-03395-6</th>\n",
       "      <td>Genetic study links components of the autonomous nervous system to heart-rate profile during exercise</td>\n",
       "      <td>65</td>\n",
       "      <td>3</td>\n",
       "      <td>Biological Sciences</td>\n",
       "      <td>6.0</td>\n",
       "      <td>14</td>\n",
       "    </tr>\n",
       "  </tbody>\n",
       "</table>\n",
       "<p>7598 rows × 6 columns</p>\n",
       "</div>"
      ],
      "text/plain": [
       "                                                                                                                                          title  \\\n",
       "doi                                                                                                                                               \n",
       "10.1038/s41467-018-06688-y                           Thermal and electrical signatures of a hydrodynamic electron fluid in tungsten diphosphide   \n",
       "10.1038/s41467-019-11924-0                                  Local Josephson vortex generation and manipulation with a Magnetic Force Microscope   \n",
       "10.1038/s41467-018-07414-4                                          A robust zirconium amino acid metal-organic framework for proton conduction   \n",
       "10.1038/s41467-019-10249-2                                        Ultrafast multi-focus 3-D nano-fabrication based on two-photon polymerization   \n",
       "10.1038/s41467-018-07828-0                                               Closure of the Bering Strait caused Mid-Pleistocene Transition cooling   \n",
       "...                                                                                                                                         ...   \n",
       "10.1038/s41467-017-02270-0                Ultrasensitive reversible chromophore reaction of BODIPY functions as high ratio double turn on probe   \n",
       "10.1038/s41467-019-08739-4  HIV-1 vaccination by needle-free oral injection induces strong mucosal immunity and protects against SHIV challenge   \n",
       "10.1038/s41467-019-08769-y                                      Single gold-bridged nanoprobes for identification of single point DNA mutations   \n",
       "10.1038/s41467-019-11237-2                                     Conditional expression explains molecular evolution of social genes in a microbe   \n",
       "10.1038/s41467-018-03395-6                Genetic study links components of the autonomous nervous system to heart-rate profile during exercise   \n",
       "\n",
       "                            n_references  n_authors  \\\n",
       "doi                                                   \n",
       "10.1038/s41467-018-06688-y            37         10   \n",
       "10.1038/s41467-019-11924-0            54         15   \n",
       "10.1038/s41467-018-07414-4            59         11   \n",
       "10.1038/s41467-019-10249-2            23          4   \n",
       "10.1038/s41467-018-07828-0            66         11   \n",
       "...                                  ...        ...   \n",
       "10.1038/s41467-017-02270-0            48         15   \n",
       "10.1038/s41467-019-08739-4            64         13   \n",
       "10.1038/s41467-019-08769-y            64          7   \n",
       "10.1038/s41467-019-11237-2            63         11   \n",
       "10.1038/s41467-018-03395-6            65          3   \n",
       "\n",
       "                                               for_name  for_code  word_count  \n",
       "doi                                                                            \n",
       "10.1038/s41467-018-06688-y                  Engineering       9.0          12  \n",
       "10.1038/s41467-019-11924-0            Physical Sciences       2.0          11  \n",
       "10.1038/s41467-018-07414-4            Chemical Sciences       3.0          10  \n",
       "10.1038/s41467-019-10249-2            Physical Sciences       2.0           8  \n",
       "10.1038/s41467-018-07828-0               Earth Sciences       4.0           9  \n",
       "...                                                 ...       ...         ...  \n",
       "10.1038/s41467-017-02270-0            Chemical Sciences       3.0          14  \n",
       "10.1038/s41467-019-08739-4  Medical and Health Sciences      11.0          15  \n",
       "10.1038/s41467-019-08769-y            Chemical Sciences       3.0          10  \n",
       "10.1038/s41467-019-11237-2          Biological Sciences       6.0          11  \n",
       "10.1038/s41467-018-03395-6          Biological Sciences       6.0          14  \n",
       "\n",
       "[7598 rows x 6 columns]"
      ]
     },
     "execution_count": 86,
     "metadata": {},
     "output_type": "execute_result"
    }
   ],
   "source": [
    "file123_df"
   ]
  },
  {
   "cell_type": "markdown",
   "metadata": {},
   "source": [
    "##### Correlation Matrix"
   ]
  },
  {
   "cell_type": "code",
   "execution_count": 87,
   "metadata": {
    "ExecuteTime": {
     "end_time": "2021-08-23T00:57:59.636700Z",
     "start_time": "2021-08-23T00:57:59.418179Z"
    }
   },
   "outputs": [
    {
     "data": {
      "text/plain": [
       "[Text(0.5, 0, 'n_references'),\n",
       " Text(1.5, 0, 'n_authors'),\n",
       " Text(2.5, 0, 'for_code'),\n",
       " Text(3.5, 0, 'word_count')]"
      ]
     },
     "execution_count": 87,
     "metadata": {},
     "output_type": "execute_result"
    },
    {
     "data": {
      "image/png": "[encoded data removed]",
      "text/plain": [
       "<Figure size 720x720 with 2 Axes>"
      ]
     },
     "metadata": {
      "needs_background": "light"
     },
     "output_type": "display_data"
    }
   ],
   "source": [
    "corr = file123_df.corr()\n",
    "fig, ax = plt.subplots(figsize=(10,10))\n",
    "sns.heatmap(corr, center=0,)\n",
    "ax.set_xticklabels(ax.get_xticklabels())"
   ]
  },
  {
   "cell_type": "code",
   "execution_count": null,
   "metadata": {
    "ExecuteTime": {
     "end_time": "2021-08-22T18:11:18.239040Z",
     "start_time": "2021-08-22T18:11:17.902914Z"
    }
   },
   "outputs": [],
   "source": []
  },
  {
   "cell_type": "markdown",
   "metadata": {},
   "source": [
    "##### Convert all titles to lower case and remove non-alphabetical, word characters."
   ]
  },
  {
   "cell_type": "code",
   "execution_count": 88,
   "metadata": {
    "ExecuteTime": {
     "end_time": "2021-08-23T00:57:59.746288Z",
     "start_time": "2021-08-23T00:57:59.639563Z"
    }
   },
   "outputs": [
    {
     "name": "stderr",
     "output_type": "stream",
     "text": [
      "<ipython-input-88-8b7a550c37ed>:1: FutureWarning: The default value of regex will change from True to False in a future version.\n",
      "  file123_df['title'] = file123_df['title'].str.replace('[^a-zA-Z]', ' ')\n",
      "<ipython-input-88-8b7a550c37ed>:2: FutureWarning: The default value of regex will change from True to False in a future version.\n",
      "  file123_df['title'] = file123_df['title'].str.replace('(\\\\d|\\\\W)+',' ')\n"
     ]
    }
   ],
   "source": [
    "file123_df['title'] = file123_df['title'].str.replace('[^a-zA-Z]', ' ')\n",
    "file123_df['title'] = file123_df['title'].str.replace('(\\\\d|\\\\W)+',' ')\n",
    "file123_df['title'] = file123_df['title'].str.lower()"
   ]
  },
  {
   "cell_type": "code",
   "execution_count": 89,
   "metadata": {
    "ExecuteTime": {
     "end_time": "2021-08-23T00:57:59.763452Z",
     "start_time": "2021-08-23T00:57:59.748791Z"
    },
    "scrolled": true
   },
   "outputs": [
    {
     "data": {
      "text/html": [
       "<div>\n",
       "<style scoped>\n",
       "    .dataframe tbody tr th:only-of-type {\n",
       "        vertical-align: middle;\n",
       "    }\n",
       "\n",
       "    .dataframe tbody tr th {\n",
       "        vertical-align: top;\n",
       "    }\n",
       "\n",
       "    .dataframe thead th {\n",
       "        text-align: right;\n",
       "    }\n",
       "</style>\n",
       "<table border=\"1\" class=\"dataframe\">\n",
       "  <thead>\n",
       "    <tr style=\"text-align: right;\">\n",
       "      <th></th>\n",
       "      <th>title</th>\n",
       "      <th>n_references</th>\n",
       "      <th>n_authors</th>\n",
       "      <th>for_name</th>\n",
       "      <th>for_code</th>\n",
       "      <th>word_count</th>\n",
       "    </tr>\n",
       "    <tr>\n",
       "      <th>doi</th>\n",
       "      <th></th>\n",
       "      <th></th>\n",
       "      <th></th>\n",
       "      <th></th>\n",
       "      <th></th>\n",
       "      <th></th>\n",
       "    </tr>\n",
       "  </thead>\n",
       "  <tbody>\n",
       "    <tr>\n",
       "      <th>10.1038/s41467-018-06688-y</th>\n",
       "      <td>thermal and electrical signatures of a hydrodynamic electron fluid in tungsten diphosphide</td>\n",
       "      <td>37</td>\n",
       "      <td>10</td>\n",
       "      <td>Engineering</td>\n",
       "      <td>9.0</td>\n",
       "      <td>12</td>\n",
       "    </tr>\n",
       "    <tr>\n",
       "      <th>10.1038/s41467-019-11924-0</th>\n",
       "      <td>local josephson vortex generation and manipulation with a magnetic force microscope</td>\n",
       "      <td>54</td>\n",
       "      <td>15</td>\n",
       "      <td>Physical Sciences</td>\n",
       "      <td>2.0</td>\n",
       "      <td>11</td>\n",
       "    </tr>\n",
       "    <tr>\n",
       "      <th>10.1038/s41467-018-07414-4</th>\n",
       "      <td>a robust zirconium amino acid metal organic framework for proton conduction</td>\n",
       "      <td>59</td>\n",
       "      <td>11</td>\n",
       "      <td>Chemical Sciences</td>\n",
       "      <td>3.0</td>\n",
       "      <td>10</td>\n",
       "    </tr>\n",
       "    <tr>\n",
       "      <th>10.1038/s41467-019-10249-2</th>\n",
       "      <td>ultrafast multi focus d nano fabrication based on two photon polymerization</td>\n",
       "      <td>23</td>\n",
       "      <td>4</td>\n",
       "      <td>Physical Sciences</td>\n",
       "      <td>2.0</td>\n",
       "      <td>8</td>\n",
       "    </tr>\n",
       "    <tr>\n",
       "      <th>10.1038/s41467-018-07828-0</th>\n",
       "      <td>closure of the bering strait caused mid pleistocene transition cooling</td>\n",
       "      <td>66</td>\n",
       "      <td>11</td>\n",
       "      <td>Earth Sciences</td>\n",
       "      <td>4.0</td>\n",
       "      <td>9</td>\n",
       "    </tr>\n",
       "    <tr>\n",
       "      <th>...</th>\n",
       "      <td>...</td>\n",
       "      <td>...</td>\n",
       "      <td>...</td>\n",
       "      <td>...</td>\n",
       "      <td>...</td>\n",
       "      <td>...</td>\n",
       "    </tr>\n",
       "    <tr>\n",
       "      <th>10.1038/s41467-017-02270-0</th>\n",
       "      <td>ultrasensitive reversible chromophore reaction of bodipy functions as high ratio double turn on probe</td>\n",
       "      <td>48</td>\n",
       "      <td>15</td>\n",
       "      <td>Chemical Sciences</td>\n",
       "      <td>3.0</td>\n",
       "      <td>14</td>\n",
       "    </tr>\n",
       "    <tr>\n",
       "      <th>10.1038/s41467-019-08739-4</th>\n",
       "      <td>hiv vaccination by needle free oral injection induces strong mucosal immunity and protects against shiv challenge</td>\n",
       "      <td>64</td>\n",
       "      <td>13</td>\n",
       "      <td>Medical and Health Sciences</td>\n",
       "      <td>11.0</td>\n",
       "      <td>15</td>\n",
       "    </tr>\n",
       "    <tr>\n",
       "      <th>10.1038/s41467-019-08769-y</th>\n",
       "      <td>single gold bridged nanoprobes for identification of single point dna mutations</td>\n",
       "      <td>64</td>\n",
       "      <td>7</td>\n",
       "      <td>Chemical Sciences</td>\n",
       "      <td>3.0</td>\n",
       "      <td>10</td>\n",
       "    </tr>\n",
       "    <tr>\n",
       "      <th>10.1038/s41467-019-11237-2</th>\n",
       "      <td>conditional expression explains molecular evolution of social genes in a microbe</td>\n",
       "      <td>63</td>\n",
       "      <td>11</td>\n",
       "      <td>Biological Sciences</td>\n",
       "      <td>6.0</td>\n",
       "      <td>11</td>\n",
       "    </tr>\n",
       "    <tr>\n",
       "      <th>10.1038/s41467-018-03395-6</th>\n",
       "      <td>genetic study links components of the autonomous nervous system to heart rate profile during exercise</td>\n",
       "      <td>65</td>\n",
       "      <td>3</td>\n",
       "      <td>Biological Sciences</td>\n",
       "      <td>6.0</td>\n",
       "      <td>14</td>\n",
       "    </tr>\n",
       "  </tbody>\n",
       "</table>\n",
       "<p>7598 rows × 6 columns</p>\n",
       "</div>"
      ],
      "text/plain": [
       "                                                                                                                                        title  \\\n",
       "doi                                                                                                                                             \n",
       "10.1038/s41467-018-06688-y                         thermal and electrical signatures of a hydrodynamic electron fluid in tungsten diphosphide   \n",
       "10.1038/s41467-019-11924-0                                local josephson vortex generation and manipulation with a magnetic force microscope   \n",
       "10.1038/s41467-018-07414-4                                        a robust zirconium amino acid metal organic framework for proton conduction   \n",
       "10.1038/s41467-019-10249-2                                        ultrafast multi focus d nano fabrication based on two photon polymerization   \n",
       "10.1038/s41467-018-07828-0                                             closure of the bering strait caused mid pleistocene transition cooling   \n",
       "...                                                                                                                                       ...   \n",
       "10.1038/s41467-017-02270-0              ultrasensitive reversible chromophore reaction of bodipy functions as high ratio double turn on probe   \n",
       "10.1038/s41467-019-08739-4  hiv vaccination by needle free oral injection induces strong mucosal immunity and protects against shiv challenge   \n",
       "10.1038/s41467-019-08769-y                                    single gold bridged nanoprobes for identification of single point dna mutations   \n",
       "10.1038/s41467-019-11237-2                                   conditional expression explains molecular evolution of social genes in a microbe   \n",
       "10.1038/s41467-018-03395-6              genetic study links components of the autonomous nervous system to heart rate profile during exercise   \n",
       "\n",
       "                            n_references  n_authors  \\\n",
       "doi                                                   \n",
       "10.1038/s41467-018-06688-y            37         10   \n",
       "10.1038/s41467-019-11924-0            54         15   \n",
       "10.1038/s41467-018-07414-4            59         11   \n",
       "10.1038/s41467-019-10249-2            23          4   \n",
       "10.1038/s41467-018-07828-0            66         11   \n",
       "...                                  ...        ...   \n",
       "10.1038/s41467-017-02270-0            48         15   \n",
       "10.1038/s41467-019-08739-4            64         13   \n",
       "10.1038/s41467-019-08769-y            64          7   \n",
       "10.1038/s41467-019-11237-2            63         11   \n",
       "10.1038/s41467-018-03395-6            65          3   \n",
       "\n",
       "                                               for_name  for_code  word_count  \n",
       "doi                                                                            \n",
       "10.1038/s41467-018-06688-y                  Engineering       9.0          12  \n",
       "10.1038/s41467-019-11924-0            Physical Sciences       2.0          11  \n",
       "10.1038/s41467-018-07414-4            Chemical Sciences       3.0          10  \n",
       "10.1038/s41467-019-10249-2            Physical Sciences       2.0           8  \n",
       "10.1038/s41467-018-07828-0               Earth Sciences       4.0           9  \n",
       "...                                                 ...       ...         ...  \n",
       "10.1038/s41467-017-02270-0            Chemical Sciences       3.0          14  \n",
       "10.1038/s41467-019-08739-4  Medical and Health Sciences      11.0          15  \n",
       "10.1038/s41467-019-08769-y            Chemical Sciences       3.0          10  \n",
       "10.1038/s41467-019-11237-2          Biological Sciences       6.0          11  \n",
       "10.1038/s41467-018-03395-6          Biological Sciences       6.0          14  \n",
       "\n",
       "[7598 rows x 6 columns]"
      ]
     },
     "execution_count": 89,
     "metadata": {},
     "output_type": "execute_result"
    }
   ],
   "source": [
    "file123_df"
   ]
  },
  {
   "cell_type": "markdown",
   "metadata": {},
   "source": [
    "##### Imbalanced categories"
   ]
  },
  {
   "cell_type": "markdown",
   "metadata": {},
   "source": []
  },
  {
   "cell_type": "code",
   "execution_count": 90,
   "metadata": {
    "ExecuteTime": {
     "end_time": "2021-08-23T00:57:59.774133Z",
     "start_time": "2021-08-23T00:57:59.766161Z"
    },
    "scrolled": true
   },
   "outputs": [
    {
     "data": {
      "text/plain": [
       "Biological Sciences                           2752\n",
       "Medical and Health Sciences                   1737\n",
       "Chemical Sciences                              959\n",
       "Engineering                                    684\n",
       "Physical Sciences                              623\n",
       "Earth Sciences                                 270\n",
       "Psychology and Cognitive Sciences              167\n",
       "Information and Computing Sciences             146\n",
       "Mathematical Sciences                           70\n",
       "Technology                                      66\n",
       "Environmental Sciences                          40\n",
       "Economics                                       25\n",
       "Studies in Human Society                        17\n",
       "Agricultural and Veterinary Sciences            12\n",
       "History and Archaeology                         12\n",
       "Language, Communication and Culture              6\n",
       "Law and Legal Studies                            5\n",
       "Commerce, Management, Tourism and Services       3\n",
       "Built Environment and Design                     2\n",
       "Philosophy and Religious Studies                 1\n",
       "Studies in Creative Arts and Writing             1\n",
       "Name: for_name, dtype: int64"
      ]
     },
     "execution_count": 90,
     "metadata": {},
     "output_type": "execute_result"
    }
   ],
   "source": [
    "file123_df['for_name'].value_counts()"
   ]
  },
  {
   "cell_type": "code",
   "execution_count": 91,
   "metadata": {
    "ExecuteTime": {
     "end_time": "2021-08-23T00:57:59.783752Z",
     "start_time": "2021-08-23T00:57:59.776881Z"
    }
   },
   "outputs": [],
   "source": [
    "file123_df = file123_df[file123_df['for_name'].isin(['Biological Sciences','Medical and Health Sciences','Chemical Sciences','Engineering','Information and Computing Sciences','Physical Sciences','Earth Sciences','Psychology and Cognitive Sciences'])]"
   ]
  },
  {
   "cell_type": "code",
   "execution_count": 92,
   "metadata": {
    "ExecuteTime": {
     "end_time": "2021-08-23T00:57:59.794072Z",
     "start_time": "2021-08-23T00:57:59.786489Z"
    }
   },
   "outputs": [
    {
     "data": {
      "text/plain": [
       "Biological Sciences                   2752\n",
       "Medical and Health Sciences           1737\n",
       "Chemical Sciences                      959\n",
       "Engineering                            684\n",
       "Physical Sciences                      623\n",
       "Earth Sciences                         270\n",
       "Psychology and Cognitive Sciences      167\n",
       "Information and Computing Sciences     146\n",
       "Name: for_name, dtype: int64"
      ]
     },
     "execution_count": 92,
     "metadata": {},
     "output_type": "execute_result"
    }
   ],
   "source": [
    "file123_df['for_name'].value_counts()"
   ]
  },
  {
   "cell_type": "markdown",
   "metadata": {},
   "source": [
    "##### Stop Words "
   ]
  },
  {
   "cell_type": "code",
   "execution_count": 93,
   "metadata": {
    "ExecuteTime": {
     "end_time": "2021-08-23T00:57:59.803772Z",
     "start_time": "2021-08-23T00:57:59.796497Z"
    }
   },
   "outputs": [],
   "source": [
    "stop_words = set(stopwords.words('english'))"
   ]
  },
  {
   "cell_type": "code",
   "execution_count": 94,
   "metadata": {
    "ExecuteTime": {
     "end_time": "2021-08-23T00:57:59.809887Z",
     "start_time": "2021-08-23T00:57:59.806084Z"
    }
   },
   "outputs": [],
   "source": [
    "# stop_words2 = stop_words.union(new_words)"
   ]
  },
  {
   "cell_type": "code",
   "execution_count": 95,
   "metadata": {
    "ExecuteTime": {
     "end_time": "2021-08-23T00:57:59.820404Z",
     "start_time": "2021-08-23T00:57:59.812522Z"
    }
   },
   "outputs": [
    {
     "data": {
      "text/plain": [
       "{'a',\n",
       " 'about',\n",
       " 'above',\n",
       " 'after',\n",
       " 'again',\n",
       " 'against',\n",
       " 'ain',\n",
       " 'all',\n",
       " 'am',\n",
       " 'an',\n",
       " 'and',\n",
       " 'any',\n",
       " 'are',\n",
       " 'aren',\n",
       " \"aren't\",\n",
       " 'as',\n",
       " 'at',\n",
       " 'be',\n",
       " 'because',\n",
       " 'been',\n",
       " 'before',\n",
       " 'being',\n",
       " 'below',\n",
       " 'between',\n",
       " 'both',\n",
       " 'but',\n",
       " 'by',\n",
       " 'can',\n",
       " 'couldn',\n",
       " \"couldn't\",\n",
       " 'd',\n",
       " 'did',\n",
       " 'didn',\n",
       " \"didn't\",\n",
       " 'do',\n",
       " 'does',\n",
       " 'doesn',\n",
       " \"doesn't\",\n",
       " 'doing',\n",
       " 'don',\n",
       " \"don't\",\n",
       " 'down',\n",
       " 'during',\n",
       " 'each',\n",
       " 'few',\n",
       " 'for',\n",
       " 'from',\n",
       " 'further',\n",
       " 'had',\n",
       " 'hadn',\n",
       " \"hadn't\",\n",
       " 'has',\n",
       " 'hasn',\n",
       " \"hasn't\",\n",
       " 'have',\n",
       " 'haven',\n",
       " \"haven't\",\n",
       " 'having',\n",
       " 'he',\n",
       " 'her',\n",
       " 'here',\n",
       " 'hers',\n",
       " 'herself',\n",
       " 'him',\n",
       " 'himself',\n",
       " 'his',\n",
       " 'how',\n",
       " 'i',\n",
       " 'if',\n",
       " 'in',\n",
       " 'into',\n",
       " 'is',\n",
       " 'isn',\n",
       " \"isn't\",\n",
       " 'it',\n",
       " \"it's\",\n",
       " 'its',\n",
       " 'itself',\n",
       " 'just',\n",
       " 'll',\n",
       " 'm',\n",
       " 'ma',\n",
       " 'me',\n",
       " 'mightn',\n",
       " \"mightn't\",\n",
       " 'more',\n",
       " 'most',\n",
       " 'mustn',\n",
       " \"mustn't\",\n",
       " 'my',\n",
       " 'myself',\n",
       " 'needn',\n",
       " \"needn't\",\n",
       " 'no',\n",
       " 'nor',\n",
       " 'not',\n",
       " 'now',\n",
       " 'o',\n",
       " 'of',\n",
       " 'off',\n",
       " 'on',\n",
       " 'once',\n",
       " 'only',\n",
       " 'or',\n",
       " 'other',\n",
       " 'our',\n",
       " 'ours',\n",
       " 'ourselves',\n",
       " 'out',\n",
       " 'over',\n",
       " 'own',\n",
       " 're',\n",
       " 's',\n",
       " 'same',\n",
       " 'shan',\n",
       " \"shan't\",\n",
       " 'she',\n",
       " \"she's\",\n",
       " 'should',\n",
       " \"should've\",\n",
       " 'shouldn',\n",
       " \"shouldn't\",\n",
       " 'so',\n",
       " 'some',\n",
       " 'such',\n",
       " 't',\n",
       " 'than',\n",
       " 'that',\n",
       " \"that'll\",\n",
       " 'the',\n",
       " 'their',\n",
       " 'theirs',\n",
       " 'them',\n",
       " 'themselves',\n",
       " 'then',\n",
       " 'there',\n",
       " 'these',\n",
       " 'they',\n",
       " 'this',\n",
       " 'those',\n",
       " 'through',\n",
       " 'to',\n",
       " 'too',\n",
       " 'under',\n",
       " 'until',\n",
       " 'up',\n",
       " 've',\n",
       " 'very',\n",
       " 'was',\n",
       " 'wasn',\n",
       " \"wasn't\",\n",
       " 'we',\n",
       " 'were',\n",
       " 'weren',\n",
       " \"weren't\",\n",
       " 'what',\n",
       " 'when',\n",
       " 'where',\n",
       " 'which',\n",
       " 'while',\n",
       " 'who',\n",
       " 'whom',\n",
       " 'why',\n",
       " 'will',\n",
       " 'with',\n",
       " 'won',\n",
       " \"won't\",\n",
       " 'wouldn',\n",
       " \"wouldn't\",\n",
       " 'y',\n",
       " 'you',\n",
       " \"you'd\",\n",
       " \"you'll\",\n",
       " \"you're\",\n",
       " \"you've\",\n",
       " 'your',\n",
       " 'yours',\n",
       " 'yourself',\n",
       " 'yourselves'}"
      ]
     },
     "execution_count": 95,
     "metadata": {},
     "output_type": "execute_result"
    }
   ],
   "source": [
    "stop_words"
   ]
  },
  {
   "cell_type": "code",
   "execution_count": 96,
   "metadata": {
    "ExecuteTime": {
     "end_time": "2021-08-23T00:57:59.827039Z",
     "start_time": "2021-08-23T00:57:59.823343Z"
    }
   },
   "outputs": [],
   "source": [
    "# stop_words2"
   ]
  },
  {
   "cell_type": "code",
   "execution_count": 97,
   "metadata": {
    "ExecuteTime": {
     "end_time": "2021-08-23T00:57:59.833028Z",
     "start_time": "2021-08-23T00:57:59.829571Z"
    }
   },
   "outputs": [],
   "source": [
    "# stop_words3 = stop_words2.union(word_outliers)"
   ]
  },
  {
   "cell_type": "code",
   "execution_count": 98,
   "metadata": {
    "ExecuteTime": {
     "end_time": "2021-08-23T00:57:59.839727Z",
     "start_time": "2021-08-23T00:57:59.835579Z"
    }
   },
   "outputs": [],
   "source": [
    "# stop_words3"
   ]
  },
  {
   "cell_type": "code",
   "execution_count": 99,
   "metadata": {
    "ExecuteTime": {
     "end_time": "2021-08-23T00:57:59.846896Z",
     "start_time": "2021-08-23T00:57:59.842509Z"
    }
   },
   "outputs": [],
   "source": [
    "y = file123_df['for_name']"
   ]
  },
  {
   "cell_type": "code",
   "execution_count": 100,
   "metadata": {
    "ExecuteTime": {
     "end_time": "2021-08-23T00:57:59.853163Z",
     "start_time": "2021-08-23T00:57:59.849449Z"
    }
   },
   "outputs": [],
   "source": [
    "x = file123_df['title']"
   ]
  },
  {
   "cell_type": "markdown",
   "metadata": {},
   "source": [
    "#### Normalisation"
   ]
  },
  {
   "cell_type": "markdown",
   "metadata": {},
   "source": [
    "##### Stemming & Lemmatization"
   ]
  },
  {
   "cell_type": "code",
   "execution_count": 101,
   "metadata": {
    "ExecuteTime": {
     "end_time": "2021-08-23T00:57:59.863362Z",
     "start_time": "2021-08-23T00:57:59.855934Z"
    }
   },
   "outputs": [],
   "source": [
    "def cleanData(text, remove_stops = False, stemming = False, lemmatization = False, short = False):\n",
    "    \n",
    "    txt = str(text)\n",
    "    \n",
    "#     see 2.3.1.3   \n",
    "#     txt = re.sub(r'[^A-Za-z]',r' ',txt)\n",
    "#     txt = re.sub('(\\\\d|\\\\W)+',' ',txt)\n",
    "#     if lowercase:\n",
    "#     txt = txt.lower()\n",
    "#     \" \".join([w.lower() for w in txt.split()])\n",
    "        \n",
    "    if remove_stops:\n",
    "        txt = \" \".join([w for w in txt.split() if w not in stop_words])\n",
    "   \n",
    "    if stemming:\n",
    "#         st = PorterStemmer()\n",
    "        st = SnowballStemmer('english')\n",
    "        txt = \" \".join([st.stem(w) for w in txt.split()])\n",
    "    \n",
    "    if lemmatization:\n",
    "        wordnet_lemmatizer = WordNetLemmatizer()\n",
    "        txt = \" \".join([wordnet_lemmatizer.lemmatize(w, pos='v') for w in txt.split()])\n",
    "    \n",
    "    if short:\n",
    "        txt = \" \".join([w for w in txt.split() if len(w)>=3])\n",
    "    \n",
    "    return txt"
   ]
  },
  {
   "cell_type": "code",
   "execution_count": 102,
   "metadata": {
    "ExecuteTime": {
     "end_time": "2021-08-23T00:58:03.356004Z",
     "start_time": "2021-08-23T00:57:59.865980Z"
    }
   },
   "outputs": [],
   "source": [
    "x_clean = x.map(lambda x: cleanData(x, remove_stops=True, stemming=True, lemmatization = True, short=True))"
   ]
  },
  {
   "cell_type": "markdown",
   "metadata": {},
   "source": [
    "### Split Dataset"
   ]
  },
  {
   "cell_type": "code",
   "execution_count": 103,
   "metadata": {
    "ExecuteTime": {
     "end_time": "2021-08-23T00:58:03.374609Z",
     "start_time": "2021-08-23T00:58:03.358085Z"
    }
   },
   "outputs": [
    {
     "data": {
      "text/plain": [
       "((5870,), (1468,), (5870,), (1468,))"
      ]
     },
     "execution_count": 103,
     "metadata": {},
     "output_type": "execute_result"
    }
   ],
   "source": [
    "x_train, x_test, y_train, y_test = train_test_split(x_clean, y,test_size=0.2,stratify=y, random_state=2)\n",
    "x_train.shape, x_test.shape, y_train.shape, y_test.shape"
   ]
  },
  {
   "cell_type": "code",
   "execution_count": 104,
   "metadata": {
    "ExecuteTime": {
     "end_time": "2021-08-23T00:58:03.384633Z",
     "start_time": "2021-08-23T00:58:03.377129Z"
    }
   },
   "outputs": [
    {
     "data": {
      "text/plain": [
       "doi\n",
       "10.1038/s41467-018-04239-z                             sema plxncl signal trigger activ depend olfactori synaps format\n",
       "10.1038/s41467-019-13023-6                                        atom mechan strong interact graphen sapphir interfac\n",
       "10.1038/s41467-018-07797-4                                        break speed limit multimod fast scan dna endonucleas\n",
       "10.1038/s41467-017-02013-1                                    structur guid design hsp termin isoform select inhibitor\n",
       "10.1038/s41467-019-09847-x                                         self organ plk regul symmetri break centriol duplic\n",
       "                                                                        ...                                           \n",
       "10.1038/s41467-019-09332-5                                    frequent extrem climat event stabil reindeer popul dynam\n",
       "10.1038/s41467-019-13106-4                                                kras regul small non code rnas snare protein\n",
       "10.1038/s41467-019-11014-1    zwitterion near infrar fluorophor real time uret identif laparoscop abdominopelv surgeri\n",
       "10.1038/s41467-017-02721-8            crosstalk concurr repeat game imped direct reciproc requir stronger level forgiv\n",
       "10.1038/s41467-018-03670-6             wasp mediat regul anti inflammatori macrophag depend critic intestin homeostasi\n",
       "Name: title, Length: 1468, dtype: object"
      ]
     },
     "execution_count": 104,
     "metadata": {},
     "output_type": "execute_result"
    }
   ],
   "source": [
    "x_test"
   ]
  },
  {
   "cell_type": "code",
   "execution_count": 105,
   "metadata": {
    "ExecuteTime": {
     "end_time": "2021-08-23T00:58:03.395049Z",
     "start_time": "2021-08-23T00:58:03.387386Z"
    }
   },
   "outputs": [
    {
     "data": {
      "text/plain": [
       "doi\n",
       "10.1038/s41467-018-06640-0                                                              cancer exosom induc tumor innerv\n",
       "10.1038/s41467-019-09085-1    systemat comparison respiratori syncyti virus induc memori cell respons two anatom compart\n",
       "10.1038/s41467-019-11925-z         conduct carbon nanofib interpenetr graphen architectur ultra stabl sodium ion batteri\n",
       "10.1038/s41467-018-07873-9                                              experiment evid symmetri break transit path time\n",
       "10.1038/s41467-018-03958-7                               aerodynam generat electr field turbul lade charg inerti particl\n",
       "                                                                         ...                                            \n",
       "10.1038/s41467-017-02642-6     interneuron specif signal evok distinct somatostatin mediat respons adult cortic astrocyt\n",
       "10.1038/s41467-019-09716-7                                                                  humanis mous genom piec piec\n",
       "10.1038/s41467-017-02677-9                    fibroblast growth factor increas insulin sensit specif expans subcutan fat\n",
       "10.1038/s41467-019-08865-z                                              dual role regul toxic disord terminus toxin grat\n",
       "10.1038/s41467-019-09740-7                                                             microfluid multipol theori applic\n",
       "Name: title, Length: 5870, dtype: object"
      ]
     },
     "execution_count": 105,
     "metadata": {},
     "output_type": "execute_result"
    }
   ],
   "source": [
    "x_train"
   ]
  },
  {
   "cell_type": "markdown",
   "metadata": {
    "ExecuteTime": {
     "end_time": "2021-08-22T17:27:54.601163Z",
     "start_time": "2021-08-22T17:27:54.598600Z"
    }
   },
   "source": [
    "### Count Vectorisation"
   ]
  },
  {
   "cell_type": "code",
   "execution_count": 106,
   "metadata": {
    "ExecuteTime": {
     "end_time": "2021-08-23T00:58:03.867088Z",
     "start_time": "2021-08-23T00:58:03.397847Z"
    }
   },
   "outputs": [],
   "source": [
    "cv=CountVectorizer(max_df=0.8,stop_words=stop_words, max_features=10000, ngram_range=(1,3))\n",
    "x_train_cvm=cv.fit_transform(x_train)"
   ]
  },
  {
   "cell_type": "code",
   "execution_count": 107,
   "metadata": {
    "ExecuteTime": {
     "end_time": "2021-08-23T00:58:03.925199Z",
     "start_time": "2021-08-23T00:58:03.869434Z"
    }
   },
   "outputs": [],
   "source": [
    "x_test_cvm = cv.transform(x_test)"
   ]
  },
  {
   "cell_type": "markdown",
   "metadata": {},
   "source": [
    "### TF-IDF Vectorisation"
   ]
  },
  {
   "cell_type": "code",
   "execution_count": 108,
   "metadata": {
    "ExecuteTime": {
     "end_time": "2021-08-23T00:58:03.933241Z",
     "start_time": "2021-08-23T00:58:03.928440Z"
    }
   },
   "outputs": [],
   "source": [
    "tv = TfidfVectorizer(use_idf=True, min_df=3,max_df=0.9, stop_words=stop_words, max_features=1000,ngram_range=(1,3))"
   ]
  },
  {
   "cell_type": "code",
   "execution_count": 109,
   "metadata": {
    "ExecuteTime": {
     "end_time": "2021-08-23T00:58:04.370049Z",
     "start_time": "2021-08-23T00:58:03.935816Z"
    }
   },
   "outputs": [],
   "source": [
    "x_train_m = tv.fit_transform(x_train)"
   ]
  },
  {
   "cell_type": "code",
   "execution_count": 110,
   "metadata": {
    "ExecuteTime": {
     "end_time": "2021-08-23T00:58:04.376588Z",
     "start_time": "2021-08-23T00:58:04.372027Z"
    }
   },
   "outputs": [],
   "source": [
    "first_x_train_m=x_train_m[0] "
   ]
  },
  {
   "cell_type": "code",
   "execution_count": 111,
   "metadata": {
    "ExecuteTime": {
     "end_time": "2021-08-23T00:58:04.392933Z",
     "start_time": "2021-08-23T00:58:04.379982Z"
    },
    "scrolled": true
   },
   "outputs": [
    {
     "data": {
      "text/html": [
       "<div>\n",
       "<style scoped>\n",
       "    .dataframe tbody tr th:only-of-type {\n",
       "        vertical-align: middle;\n",
       "    }\n",
       "\n",
       "    .dataframe tbody tr th {\n",
       "        vertical-align: top;\n",
       "    }\n",
       "\n",
       "    .dataframe thead th {\n",
       "        text-align: right;\n",
       "    }\n",
       "</style>\n",
       "<table border=\"1\" class=\"dataframe\">\n",
       "  <thead>\n",
       "    <tr style=\"text-align: right;\">\n",
       "      <th></th>\n",
       "      <th>tfidf</th>\n",
       "    </tr>\n",
       "  </thead>\n",
       "  <tbody>\n",
       "    <tr>\n",
       "      <th>tumor</th>\n",
       "      <td>0.629877</td>\n",
       "    </tr>\n",
       "    <tr>\n",
       "      <th>cancer</th>\n",
       "      <td>0.563699</td>\n",
       "    </tr>\n",
       "    <tr>\n",
       "      <th>induc</th>\n",
       "      <td>0.534321</td>\n",
       "    </tr>\n",
       "    <tr>\n",
       "      <th>acceler</th>\n",
       "      <td>0.000000</td>\n",
       "    </tr>\n",
       "    <tr>\n",
       "      <th>persist</th>\n",
       "      <td>0.000000</td>\n",
       "    </tr>\n",
       "    <tr>\n",
       "      <th>...</th>\n",
       "      <td>...</td>\n",
       "    </tr>\n",
       "    <tr>\n",
       "      <th>flexibl</th>\n",
       "      <td>0.000000</td>\n",
       "    </tr>\n",
       "    <tr>\n",
       "      <th>flow</th>\n",
       "      <td>0.000000</td>\n",
       "    </tr>\n",
       "    <tr>\n",
       "      <th>fluctuat</th>\n",
       "      <td>0.000000</td>\n",
       "    </tr>\n",
       "    <tr>\n",
       "      <th>fluid</th>\n",
       "      <td>0.000000</td>\n",
       "    </tr>\n",
       "    <tr>\n",
       "      <th>zone</th>\n",
       "      <td>0.000000</td>\n",
       "    </tr>\n",
       "  </tbody>\n",
       "</table>\n",
       "<p>1000 rows × 1 columns</p>\n",
       "</div>"
      ],
      "text/plain": [
       "             tfidf\n",
       "tumor     0.629877\n",
       "cancer    0.563699\n",
       "induc     0.534321\n",
       "acceler   0.000000\n",
       "persist   0.000000\n",
       "...            ...\n",
       "flexibl   0.000000\n",
       "flow      0.000000\n",
       "fluctuat  0.000000\n",
       "fluid     0.000000\n",
       "zone      0.000000\n",
       "\n",
       "[1000 rows x 1 columns]"
      ]
     },
     "execution_count": 111,
     "metadata": {},
     "output_type": "execute_result"
    }
   ],
   "source": [
    "df = pd.DataFrame(first_x_train_m.T.todense(), index=tv.get_feature_names(), columns=[\"tfidf\"])\n",
    "df.sort_values(by=[\"tfidf\"],ascending=False)"
   ]
  },
  {
   "cell_type": "code",
   "execution_count": 112,
   "metadata": {
    "ExecuteTime": {
     "end_time": "2021-08-23T00:58:04.403527Z",
     "start_time": "2021-08-23T00:58:04.396828Z"
    }
   },
   "outputs": [
    {
     "data": {
      "text/plain": [
       "['cancer',\n",
       " 'induc',\n",
       " 'tumor',\n",
       " 'systemat',\n",
       " 'respiratori',\n",
       " 'virus',\n",
       " 'memori',\n",
       " 'cell',\n",
       " 'respons',\n",
       " 'two']"
      ]
     },
     "execution_count": 112,
     "metadata": {},
     "output_type": "execute_result"
    }
   ],
   "source": [
    "list(tv.vocabulary_.keys())[:10]"
   ]
  },
  {
   "cell_type": "code",
   "execution_count": 113,
   "metadata": {
    "ExecuteTime": {
     "end_time": "2021-08-23T00:58:04.437776Z",
     "start_time": "2021-08-23T00:58:04.406629Z"
    }
   },
   "outputs": [
    {
     "data": {
      "text/plain": [
       "array([[0., 0., 0., ..., 0., 0., 0.],\n",
       "       [0., 0., 0., ..., 0., 0., 0.],\n",
       "       [0., 0., 0., ..., 0., 0., 0.],\n",
       "       ...,\n",
       "       [0., 0., 0., ..., 0., 0., 0.],\n",
       "       [0., 0., 0., ..., 0., 0., 0.],\n",
       "       [0., 0., 0., ..., 0., 0., 0.]])"
      ]
     },
     "execution_count": 113,
     "metadata": {},
     "output_type": "execute_result"
    }
   ],
   "source": [
    "x_train_m.toarray()"
   ]
  },
  {
   "cell_type": "code",
   "execution_count": 114,
   "metadata": {
    "ExecuteTime": {
     "end_time": "2021-08-23T00:58:04.496652Z",
     "start_time": "2021-08-23T00:58:04.440221Z"
    }
   },
   "outputs": [],
   "source": [
    "x_test_m = tv.transform(x_test)"
   ]
  },
  {
   "cell_type": "code",
   "execution_count": 115,
   "metadata": {
    "ExecuteTime": {
     "end_time": "2021-08-23T00:58:04.503398Z",
     "start_time": "2021-08-23T00:58:04.498913Z"
    }
   },
   "outputs": [
    {
     "data": {
      "text/plain": [
       "<1468x1000 sparse matrix of type '<class 'numpy.float64'>'\n",
       "\twith 8825 stored elements in Compressed Sparse Row format>"
      ]
     },
     "execution_count": 115,
     "metadata": {},
     "output_type": "execute_result"
    }
   ],
   "source": [
    "x_test_m"
   ]
  },
  {
   "cell_type": "code",
   "execution_count": 116,
   "metadata": {
    "ExecuteTime": {
     "end_time": "2021-08-23T00:58:04.511685Z",
     "start_time": "2021-08-23T00:58:04.506152Z"
    }
   },
   "outputs": [
    {
     "name": "stdout",
     "output_type": "stream",
     "text": [
      "['acceler', 'access', 'accumul', 'acetyl', 'acid', 'across', 'act', 'actin', 'action', 'activ', 'actuat', 'acut', 'adapt', 'addit', 'adhes', 'adult', 'affect', 'african', 'age', 'aggreg', 'air', 'alloster', 'allow', 'alloy', 'alpha', 'alter', 'altern', 'amino', 'amino acid', 'amyloid', 'analys', 'analysi', 'anion', 'anisotrop', 'anomal', 'anti', 'antibiot', 'antibodi', 'antiferromagnet', 'antigen', 'apoptosi', 'applic', 'approach', 'aqueous', 'arabidopsi', 'architectur', 'arctic', 'area', 'aromat', 'array', 'artifici', 'assembl', 'assess', 'assist', 'associ', 'associ studi', 'asymmetr', 'atmospher', 'atom', 'atp', 'attenu', 'auditori', 'autonom', 'autophagi', 'axi', 'bacteri', 'bacteria', 'balanc', 'band', 'barrier', 'basal', 'base', 'basi', 'batteri', 'behavior', 'behaviour', 'bias', 'bind', 'bind protein', 'biolog', 'biosynthesi', 'black', 'block', 'blockad', 'blood', 'bodi', 'bond', 'bone', 'boost', 'boundari', 'brain', 'branch', 'break', 'breast', 'breast cancer', 'broad', 'build', 'bulk', 'calcium', 'cancer', 'cancer cell', 'canon', 'capac', 'captur', 'carbon', 'carbon dioxid', 'carcinoma', 'cardiac', 'carrier', 'cas', 'cascad', 'catalysi', 'catalyst', 'catalyt', 'catalyz', 'catenin', 'cation', 'caus', 'cell', 'cell rna', 'cellular', 'central', 'centriol', 'chain', 'chang', 'channel', 'chaperon', 'character', 'charg', 'checkpoint', 'chemic', 'china', 'chip', 'chiral', 'chromatin', 'chromosom', 'chronic', 'circadian', 'circuit', 'circul', 'class', 'climat', 'clinic', 'clonal', 'cluster', 'code', 'coher', 'cold', 'coli', 'collect', 'colloid', 'colon', 'combin', 'common', 'communiti', 'complex', 'compon', 'composit', 'compound', 'comprehens', 'comput', 'condens', 'condit', 'conduct', 'confer', 'confin', 'conform', 'conjug', 'connect', 'conserv', 'construct', 'contact', 'contain', 'contribut', 'control', 'convers', 'cooper', 'coordin', 'copper', 'cord', 'core', 'correl', 'cortex', 'cortic', 'coupl', 'coval', 'creat', 'crispr', 'crispr cas', 'critic', 'cross', 'crossov', 'cryo', 'cryo structur', 'crystal', 'crystal structur', 'crystallin', 'cultur', 'current', 'cycl', 'cytokin', 'damag', 'data', 'death', 'decis', 'deep', 'defect', 'defici', 'defin', 'deform', 'degrad', 'delay', 'delet', 'deliveri', 'demonstr', 'dendrit', 'dendrit cell', 'densiti', 'depend', 'der', 'der waal', 'deriv', 'design', 'detect', 'determin', 'develop', 'development', 'devic', 'diabet', 'dielectr', 'differ', 'differenti', 'diffract', 'diffus', 'dimension', 'dimer', 'diod', 'dioxid', 'direct', 'discoveri', 'diseas', 'disord', 'disrupt', 'dissect', 'dissemin', 'distinct', 'distribut', 'divers', 'divis', 'dna', 'dna damag', 'domain', 'dopamin', 'dope', 'dot', 'doubl', 'drive', 'droplet', 'drosophila', 'drug', 'dual', 'dynam', 'earli', 'edit', 'effect', 'effector', 'efficaci', 'effici', 'elast', 'electr', 'electr field', 'electrochem', 'electrolyt', 'electron', 'elegan', 'element', 'elimin', 'embryo', 'emerg', 'emiss', 'emit', 'emit diod', 'enabl', 'enantioselect', 'encod', 'end', 'endotheli', 'energi', 'engag', 'engin', 'enhanc', 'entropi', 'envelop', 'environ', 'enzym', 'enzymat', 'epigenet', 'epitaxi', 'epitheli', 'epitop', 'escherichia', 'escherichia coli', 'essenti', 'establish', 'estim', 'event', 'evid', 'evolut', 'evolutionari', 'evolv', 'exchang', 'excit', 'exciton', 'expans', 'experiment', 'explain', 'exposur', 'express', 'extracellular', 'extrem', 'facilit', 'factor', 'famili', 'fast', 'fat', 'fate', 'featur', 'feedback', 'fermion', 'ferroelectr', 'ferromagnet', 'fibril', 'fibroblast', 'fibrosi', 'field', 'filament', 'film', 'first', 'flexibl', 'flow', 'fluctuat', 'fluid', 'fluoresc', 'flux', 'fold', 'forc', 'form', 'format', 'fraction', 'framework', 'free', 'frequenc', 'frequent', 'function', 'fusion', 'gap', 'gas', 'gate', 'gene', 'gene express', 'general', 'generat', 'genet', 'genom', 'genom edit', 'genom wide', 'genom wide associ', 'giant', 'glass', 'glioblastoma', 'global', 'glucos', 'glycan', 'govern', 'grade', 'gradient', 'grain', 'graphen', 'group', 'growth', 'guid', 'gut', 'gut microbiota', 'hair', 'halid', 'halid perovskit', 'hall', 'health', 'heart', 'heat', 'helic', 'hematopoiet', 'hematopoiet stem', 'hepat', 'heterogen', 'heterostructur', 'hierarch', 'high', 'high effici', 'high perform', 'high resolut', 'high throughput', 'hippocamp', 'histon', 'hiv', 'hole', 'homeostasi', 'homolog', 'host', 'hsp', 'human', 'hybrid', 'hydrogel', 'hydrogen', 'hypoxia', 'ice', 'identif', 'identifi', 'imag', 'immun', 'immun respons', 'immunotherapi', 'impact', 'impair', 'implic', 'import', 'improv', 'inactiv', 'increas', 'independ', 'individu', 'induc', 'induct', 'infect', 'infer', 'inflamm', 'inflammasom', 'inflammatori', 'influenc', 'influenza', 'inform', 'infrar', 'inhibit', 'inhibitor', 'inhibitori', 'initi', 'injuri', 'innat', 'innat immun', 'insight', 'inspir', 'insul', 'insulin', 'integr', 'inter', 'interact', 'interfac', 'interfer', 'interleukin', 'intermedi', 'interneuron', 'interplay', 'intestin', 'intracellular', 'intrins', 'invas', 'invers', 'involv', 'ion', 'iron', 'isol', 'isotop', 'junction', 'key', 'kidney', 'kinas', 'kinet', 'label', 'landscap', 'larg', 'larg scale', 'laser', 'late', 'later', 'lattic', 'layer', 'lead', 'learn', 'leukemia', 'level', 'life', 'ligand', 'ligas', 'light', 'light emit', 'light emit diod', 'like', 'limit', 'line', 'lineag', 'linear', 'link', 'lipid', 'liquid', 'lithium', 'live', 'liver', 'local', 'loci', 'locus', 'long', 'long term', 'loop', 'loss', 'low', 'lung', 'lung cancer', 'lysosom', 'machin', 'machin learn', 'macrophag', 'magnet', 'magnet field', 'maintain', 'mainten', 'make', 'malaria', 'male', 'malign', 'mammalian', 'manipul', 'map', 'marin', 'mass', 'materi', 'matrix', 'matter', 'matur', 'measur', 'mechan', 'mediat', 'membran', 'memori', 'mesenchym', 'metabol', 'metabolit', 'metal', 'metal organ', 'metal organ framework', 'metamateri', 'metastasi', 'metastat', 'metasurfac', 'methan', 'method', 'methyl', 'methyltransferas', 'mice', 'microbi', 'microbiom', 'microbiota', 'microenviron', 'microfluid', 'microrna', 'microscopi', 'microtubul', 'mid', 'migrat', 'mir', 'mitochondri', 'mix', 'mobil', 'mode', 'model', 'modif', 'modifi', 'modul', 'modular', 'molecul', 'molecular', 'molecular basi', 'momentum', 'monitor', 'monocyt', 'monolay', 'morpholog', 'mos', 'motif', 'motion', 'motor', 'mous', 'mous model', 'mrna', 'multi', 'multipl', 'multiplex', 'murin', 'muscl', 'mutant', 'mutat', 'myeloid', 'myosin', 'nano', 'nanocryst', 'nanoparticl', 'nanopor', 'nanoscal', 'nanostructur', 'nanotub', 'nativ', 'natur', 'near', 'near infrar', 'negat', 'network', 'neural', 'neuron', 'neutral', 'new', 'nich', 'nickel', 'nitrid', 'nitrogen', 'nlrp', 'non', 'nonlinear', 'north', 'novel', 'novo', 'nuclear', 'nucleic', 'nucleosom', 'nucleotid', 'nucleus', 'number', 'obes', 'observ', 'ocean', 'olfactori', 'one', 'open', 'optic', 'optim', 'optogenet', 'orbit', 'order', 'organ', 'organ framework', 'orient', 'origami', 'origin', 'oscil', 'ovarian', 'oxid', 'oxygen', 'pacif', 'pair', 'palladium', 'pancreat', 'particl', 'passiv', 'pathogen', 'patholog', 'pathway', 'patient', 'pattern', 'peptid', 'perform', 'perovskit', 'persist', 'phase', 'phenotyp', 'phonon', 'phosphatas', 'phosphoryl', 'photo', 'photon', 'physic', 'plant', 'plasma', 'plasmodium', 'plasmon', 'plastic', 'platform', 'pluripot', 'point', 'polar', 'poli', 'polym', 'polymer', 'polymeras', 'polymorph', 'popul', 'pore', 'posit', 'post', 'potenti', 'power', 'pre', 'precis', 'precursor', 'predict', 'prefront', 'pressur', 'prevent', 'primari', 'primat', 'probe', 'process', 'produc', 'product', 'profil', 'progenitor', 'program', 'programm', 'progress', 'project', 'prolifer', 'promot', 'propag', 'properti', 'prostat', 'prostat cancer', 'proteasom', 'protect', 'protein', 'proteom', 'proton', 'provid', 'pulmonari', 'puls', 'qualiti', 'quantifi', 'quantit', 'quantum', 'quantum dot', 'qubit', 'rad', 'radiat', 'radic', 'rapid', 'rare', 'rat', 'rate', 'ray', 'reaction', 'reactiv', 'read', 'real', 'rearrang', 'receptor', 'recognit', 'recombin', 'reconfigur', 'reconstruct', 'record', 'recoveri', 'recruit', 'recurr', 'recycl', 'redox', 'reduc', 'reduct', 'reflect', 'regener', 'region', 'regul', 'regulatori', 'relat', 'relax', 'releas', 'relev', 'remodel', 'repair', 'repeat', 'replic', 'represent', 'repress', 'reprogram', 'requir', 'resist', 'resolut', 'resolv', 'reson', 'respiratori', 'respons', 'restrict', 'reveal', 'revers', 'reward', 'ribosom', 'rice', 'ring', 'risk', 'rna', 'robust', 'role', 'room', 'room temperatur', 'rotat', 'scaffold', 'scale', 'scatter', 'screen', 'sea', 'secret', 'select', 'self', 'self assembl', 'semiconductor', 'senesc', 'sens', 'sensit', 'sensor', 'sensori', 'separ', 'seq', 'sequenc', 'set', 'sex', 'shape', 'shell', 'shift', 'short', 'signal', 'signatur', 'silicon', 'simul', 'simultan', 'singl', 'singl cell', 'singl cell rna', 'singl crystal', 'singl molecul', 'site', 'situ', 'size', 'skin', 'sleep', 'small', 'small molecul', 'social', 'sodium', 'soft', 'solar', 'solar cell', 'solid', 'solid state', 'solut', 'somat', 'sourc', 'space', 'spatial', 'speci', 'specif', 'spectroscopi', 'speed', 'spin', 'spin orbit', 'spinal', 'splice', 'split', 'spontan', 'spread', 'stabil', 'stabl', 'stage', 'stat', 'state', 'stem', 'stem cell', 'step', 'stimul', 'storag', 'strain', 'strand', 'strategi', 'stress', 'strong', 'structur', 'structur basi', 'studi', 'sub', 'substrat', 'subtyp', 'subunit', 'sulfur', 'super', 'superconduct', 'support', 'suppress', 'suppressor', 'surfac', 'surviv', 'suscept', 'sustain', 'switch', 'symmetri', 'synaps', 'synapt', 'syndrom', 'synergist', 'synthas', 'synthesi', 'synthet', 'system', 'systemat', 'tailor', 'target', 'temperatur', 'tempor', 'term', 'termin', 'tgf', 'therapeut', 'therapi', 'thermal', 'thin', 'thin film', 'three', 'three dimension', 'throughput', 'time', 'tissu', 'toler', 'topolog', 'toward', 'toxic', 'trait', 'transcript', 'transcript factor', 'transcriptom', 'transfer', 'transform', 'transient', 'transistor', 'transit', 'translat', 'transloc', 'transmiss', 'transplant', 'transport', 'trap', 'treatment', 'trigger', 'tuberculosi', 'tumor', 'tumorigenesi', 'tumour', 'tunabl', 'tune', 'tunnel', 'two', 'two dimension', 'type', 'ubiquitin', 'ultra', 'ultrafast', 'uncov', 'understand', 'unifi', 'univers', 'use', 'usp', 'vaccin', 'van', 'van der', 'van der waal', 'variabl', 'variant', 'variat', 'vascular', 'vesicl', 'via', 'vibrat', 'viral', 'virul', 'virus', 'visual', 'vitro', 'vivo', 'voltag', 'wall', 'warm', 'water', 'wave', 'weak', 'whole', 'wide', 'wide associ', 'wide associ studi', 'within', 'without', 'wnt', 'yeast', 'yield', 'zebrafish', 'zika', 'zika virus', 'zone']\n"
     ]
    }
   ],
   "source": [
    "print(tv.get_feature_names())"
   ]
  },
  {
   "cell_type": "code",
   "execution_count": 117,
   "metadata": {
    "ExecuteTime": {
     "end_time": "2021-08-23T00:58:04.521177Z",
     "start_time": "2021-08-23T00:58:04.514091Z"
    }
   },
   "outputs": [
    {
     "data": {
      "text/plain": [
       "doi\n",
       "10.1038/s41467-018-06688-y                    Engineering\n",
       "10.1038/s41467-019-11924-0              Physical Sciences\n",
       "10.1038/s41467-018-07414-4              Chemical Sciences\n",
       "10.1038/s41467-019-10249-2              Physical Sciences\n",
       "10.1038/s41467-018-07828-0                 Earth Sciences\n",
       "                                         ...             \n",
       "10.1038/s41467-017-02270-0              Chemical Sciences\n",
       "10.1038/s41467-019-08739-4    Medical and Health Sciences\n",
       "10.1038/s41467-019-08769-y              Chemical Sciences\n",
       "10.1038/s41467-019-11237-2            Biological Sciences\n",
       "10.1038/s41467-018-03395-6            Biological Sciences\n",
       "Name: for_name, Length: 7338, dtype: object"
      ]
     },
     "execution_count": 117,
     "metadata": {},
     "output_type": "execute_result"
    }
   ],
   "source": [
    "y"
   ]
  },
  {
   "cell_type": "code",
   "execution_count": 118,
   "metadata": {
    "ExecuteTime": {
     "end_time": "2021-08-23T00:58:05.395943Z",
     "start_time": "2021-08-23T00:58:04.523778Z"
    }
   },
   "outputs": [
    {
     "data": {
      "text/plain": [
       "Text(0.5, 1.0, 'Sparse Matrix Sample')"
      ]
     },
     "execution_count": 118,
     "metadata": {},
     "output_type": "execute_result"
    },
    {
     "data": {
      "image/png": "[encoded data removed]",
      "text/plain": [
       "<Figure size 432x288 with 1 Axes>"
      ]
     },
     "metadata": {
      "needs_background": "light"
     },
     "output_type": "display_data"
    }
   ],
   "source": [
    "sns.heatmap(x_train_m.todense()[:,np.random.randint(0,x_train_m.shape[1],100)]==0, vmin=0, vmax=1, cbar=False).set_title('Sparse Matrix Sample')"
   ]
  },
  {
   "cell_type": "code",
   "execution_count": 119,
   "metadata": {
    "ExecuteTime": {
     "end_time": "2021-08-23T00:58:05.406091Z",
     "start_time": "2021-08-23T00:58:05.399084Z"
    }
   },
   "outputs": [
    {
     "data": {
      "text/plain": [
       "doi\n",
       "10.1038/s41467-018-06640-0    Medical and Health Sciences\n",
       "10.1038/s41467-019-09085-1    Medical and Health Sciences\n",
       "10.1038/s41467-019-11925-z                    Engineering\n",
       "10.1038/s41467-018-07873-9              Chemical Sciences\n",
       "10.1038/s41467-018-03958-7                    Engineering\n",
       "                                         ...             \n",
       "10.1038/s41467-017-02642-6    Medical and Health Sciences\n",
       "10.1038/s41467-019-09716-7            Biological Sciences\n",
       "10.1038/s41467-017-02677-9    Medical and Health Sciences\n",
       "10.1038/s41467-019-08865-z            Biological Sciences\n",
       "10.1038/s41467-019-09740-7                    Engineering\n",
       "Name: for_name, Length: 5870, dtype: object"
      ]
     },
     "execution_count": 119,
     "metadata": {},
     "output_type": "execute_result"
    }
   ],
   "source": [
    "y_train"
   ]
  },
  {
   "cell_type": "code",
   "execution_count": 120,
   "metadata": {
    "ExecuteTime": {
     "end_time": "2021-08-23T00:58:05.418587Z",
     "start_time": "2021-08-23T00:58:05.408524Z"
    }
   },
   "outputs": [
    {
     "data": {
      "text/plain": [
       "array(['Biological Sciences', 'Chemical Sciences', 'Earth Sciences',\n",
       "       'Engineering', 'Information and Computing Sciences',\n",
       "       'Medical and Health Sciences', 'Physical Sciences',\n",
       "       'Psychology and Cognitive Sciences'], dtype=object)"
      ]
     },
     "execution_count": 120,
     "metadata": {},
     "output_type": "execute_result"
    }
   ],
   "source": [
    "np.unique(y)"
   ]
  },
  {
   "cell_type": "markdown",
   "metadata": {},
   "source": [
    "## Modelling"
   ]
  },
  {
   "cell_type": "markdown",
   "metadata": {
    "ExecuteTime": {
     "end_time": "2021-08-22T13:47:06.506555Z",
     "start_time": "2021-08-22T13:47:06.503834Z"
    }
   },
   "source": [
    "### Multinomial Naive Bayes (MultinomialNB)"
   ]
  },
  {
   "cell_type": "markdown",
   "metadata": {},
   "source": [
    "#### Using Word Count Vectors "
   ]
  },
  {
   "cell_type": "markdown",
   "metadata": {
    "ExecuteTime": {
     "end_time": "2021-08-22T17:38:00.313804Z",
     "start_time": "2021-08-22T17:38:00.304247Z"
    }
   },
   "source": [
    "(See section 2.5 Count Vectorisation)"
   ]
  },
  {
   "cell_type": "code",
   "execution_count": 121,
   "metadata": {
    "ExecuteTime": {
     "end_time": "2021-08-23T00:58:05.444661Z",
     "start_time": "2021-08-23T00:58:05.421408Z"
    }
   },
   "outputs": [],
   "source": [
    "classifier1 = MultinomialNB(alpha=1.0).fit(x_train_cvm, y_train)"
   ]
  },
  {
   "cell_type": "code",
   "execution_count": 122,
   "metadata": {
    "ExecuteTime": {
     "end_time": "2021-08-23T00:58:05.452375Z",
     "start_time": "2021-08-23T00:58:05.447069Z"
    }
   },
   "outputs": [],
   "source": [
    "predict1 = classifier1.predict(x_test_cvm)"
   ]
  },
  {
   "cell_type": "code",
   "execution_count": 123,
   "metadata": {
    "ExecuteTime": {
     "end_time": "2021-08-23T00:58:05.463672Z",
     "start_time": "2021-08-23T00:58:05.455161Z"
    }
   },
   "outputs": [
    {
     "data": {
      "text/plain": [
       "0.717983651226158"
      ]
     },
     "execution_count": 123,
     "metadata": {},
     "output_type": "execute_result"
    }
   ],
   "source": [
    "metrics.accuracy_score(y_test, predict1)"
   ]
  },
  {
   "cell_type": "code",
   "execution_count": 124,
   "metadata": {
    "ExecuteTime": {
     "end_time": "2021-08-23T00:58:05.502013Z",
     "start_time": "2021-08-23T00:58:05.466353Z"
    }
   },
   "outputs": [
    {
     "name": "stdout",
     "output_type": "stream",
     "text": [
      "                                    precision    recall  f1-score   support\n",
      "\n",
      "               Biological Sciences       0.78      0.84      0.81       551\n",
      "                 Chemical Sciences       0.64      0.70      0.67       192\n",
      "                    Earth Sciences       0.74      0.57      0.65        54\n",
      "                       Engineering       0.51      0.46      0.48       137\n",
      "Information and Computing Sciences       0.86      0.21      0.33        29\n",
      "       Medical and Health Sciences       0.75      0.78      0.77       347\n",
      "                 Physical Sciences       0.60      0.61      0.61       125\n",
      " Psychology and Cognitive Sciences       0.91      0.30      0.45        33\n",
      "\n",
      "                          accuracy                           0.72      1468\n",
      "                         macro avg       0.73      0.56      0.60      1468\n",
      "                      weighted avg       0.72      0.72      0.71      1468\n",
      "\n"
     ]
    }
   ],
   "source": [
    "print(classification_report(y_test, predict1)) "
   ]
  },
  {
   "cell_type": "code",
   "execution_count": 125,
   "metadata": {
    "ExecuteTime": {
     "end_time": "2021-08-23T00:58:05.515850Z",
     "start_time": "2021-08-23T00:58:05.504396Z"
    }
   },
   "outputs": [
    {
     "data": {
      "text/plain": [
       "array([[463,  14,   5,   4,   0,  64,   1,   0],\n",
       "       [ 16, 134,   2,  26,   0,   3,  11,   0],\n",
       "       [  7,   9,  31,   4,   0,   0,   3,   0],\n",
       "       [ 13,  28,   3,  63,   0,   6,  24,   0],\n",
       "       [ 10,   0,   0,   2,   6,   2,   9,   0],\n",
       "       [ 66,   3,   0,   3,   1, 271,   2,   1],\n",
       "       [ 10,  17,   1,  20,   0,   1,  76,   0],\n",
       "       [  6,   3,   0,   1,   0,  13,   0,  10]])"
      ]
     },
     "execution_count": 125,
     "metadata": {},
     "output_type": "execute_result"
    }
   ],
   "source": [
    "cm1 = confusion_matrix(y_test, predict1)\n",
    "cm1"
   ]
  },
  {
   "cell_type": "markdown",
   "metadata": {
    "ExecuteTime": {
     "end_time": "2021-08-22T17:39:12.876309Z",
     "start_time": "2021-08-22T17:39:12.873188Z"
    }
   },
   "source": [
    "#### Using Word Frequency Vectors "
   ]
  },
  {
   "cell_type": "markdown",
   "metadata": {},
   "source": [
    "(See section 2.6 TF-IDF Vectorisation)"
   ]
  },
  {
   "cell_type": "code",
   "execution_count": 126,
   "metadata": {
    "ExecuteTime": {
     "end_time": "2021-08-23T00:58:05.544415Z",
     "start_time": "2021-08-23T00:58:05.518050Z"
    }
   },
   "outputs": [],
   "source": [
    "classifier2 = MultinomialNB(alpha=1.0).fit(x_train_m, y_train)"
   ]
  },
  {
   "cell_type": "code",
   "execution_count": 127,
   "metadata": {
    "ExecuteTime": {
     "end_time": "2021-08-23T00:58:05.559491Z",
     "start_time": "2021-08-23T00:58:05.551028Z"
    }
   },
   "outputs": [],
   "source": [
    "predict2 = classifier2.predict(x_test_m)"
   ]
  },
  {
   "cell_type": "code",
   "execution_count": 128,
   "metadata": {
    "ExecuteTime": {
     "end_time": "2021-08-23T00:58:05.572742Z",
     "start_time": "2021-08-23T00:58:05.564026Z"
    }
   },
   "outputs": [
    {
     "data": {
      "text/plain": [
       "0.6634877384196185"
      ]
     },
     "execution_count": 128,
     "metadata": {},
     "output_type": "execute_result"
    }
   ],
   "source": [
    "metrics.accuracy_score(y_test, predict2)"
   ]
  },
  {
   "cell_type": "code",
   "execution_count": 129,
   "metadata": {
    "ExecuteTime": {
     "end_time": "2021-08-23T00:58:05.613281Z",
     "start_time": "2021-08-23T00:58:05.575048Z"
    },
    "scrolled": true
   },
   "outputs": [
    {
     "name": "stdout",
     "output_type": "stream",
     "text": [
      "                                    precision    recall  f1-score   support\n",
      "\n",
      "               Biological Sciences       0.68      0.87      0.76       551\n",
      "                 Chemical Sciences       0.65      0.61      0.63       192\n",
      "                    Earth Sciences       0.73      0.20      0.32        54\n",
      "                       Engineering       0.50      0.38      0.43       137\n",
      "Information and Computing Sciences       0.67      0.07      0.12        29\n",
      "       Medical and Health Sciences       0.72      0.70      0.71       347\n",
      "                 Physical Sciences       0.57      0.52      0.54       125\n",
      " Psychology and Cognitive Sciences       1.00      0.09      0.17        33\n",
      "\n",
      "                          accuracy                           0.66      1468\n",
      "                         macro avg       0.69      0.43      0.46      1468\n",
      "                      weighted avg       0.67      0.66      0.64      1468\n",
      "\n"
     ]
    }
   ],
   "source": [
    "print(classification_report(y_test, predict2)) "
   ]
  },
  {
   "cell_type": "code",
   "execution_count": 130,
   "metadata": {
    "ExecuteTime": {
     "end_time": "2021-08-23T00:58:05.627753Z",
     "start_time": "2021-08-23T00:58:05.615635Z"
    }
   },
   "outputs": [
    {
     "data": {
      "text/plain": [
       "array([[480,   7,   3,   1,   0,  58,   2,   0],\n",
       "       [ 31, 117,   0,  26,   0,   5,  13,   0],\n",
       "       [ 27,   8,  11,   4,   0,   3,   1,   0],\n",
       "       [ 28,  25,   0,  52,   0,   7,  25,   0],\n",
       "       [ 13,   3,   0,   2,   2,   2,   7,   0],\n",
       "       [ 94,   5,   0,   1,   1, 244,   2,   0],\n",
       "       [ 23,  15,   1,  18,   0,   3,  65,   0],\n",
       "       [ 12,   1,   0,   0,   0,  17,   0,   3]])"
      ]
     },
     "execution_count": 130,
     "metadata": {},
     "output_type": "execute_result"
    }
   ],
   "source": [
    "cm2 = confusion_matrix(y_test, predict2)\n",
    "cm2"
   ]
  },
  {
   "cell_type": "markdown",
   "metadata": {},
   "source": [
    "### Support Vector Classifier (SVC)"
   ]
  },
  {
   "cell_type": "code",
   "execution_count": 131,
   "metadata": {
    "ExecuteTime": {
     "end_time": "2021-08-23T00:58:12.761969Z",
     "start_time": "2021-08-23T00:58:05.630179Z"
    }
   },
   "outputs": [
    {
     "name": "stdout",
     "output_type": "stream",
     "text": [
      "                                    precision    recall  f1-score   support\n",
      "\n",
      "               Biological Sciences       0.80      0.74      0.77       551\n",
      "                 Chemical Sciences       0.61      0.58      0.59       192\n",
      "                    Earth Sciences       0.66      0.70      0.68        54\n",
      "                       Engineering       0.48      0.56      0.52       137\n",
      "Information and Computing Sciences       0.48      0.34      0.40        29\n",
      "       Medical and Health Sciences       0.73      0.74      0.74       347\n",
      "                 Physical Sciences       0.52      0.66      0.58       125\n",
      " Psychology and Cognitive Sciences       0.75      0.55      0.63        33\n",
      "\n",
      "                          accuracy                           0.68      1468\n",
      "                         macro avg       0.63      0.61      0.61      1468\n",
      "                      weighted avg       0.69      0.68      0.68      1468\n",
      "\n"
     ]
    }
   ],
   "source": [
    "svc = SVC(class_weight='balanced') \n",
    "svc.fit(x_train_cvm, y_train) \n",
    "predict3 = svc.predict(x_test_cvm) \n",
    "print(classification_report(y_test, predict3)) "
   ]
  },
  {
   "cell_type": "markdown",
   "metadata": {},
   "source": [
    "### Grid Search Cross Validation (GridSearchCV)"
   ]
  },
  {
   "cell_type": "code",
   "execution_count": 132,
   "metadata": {
    "ExecuteTime": {
     "end_time": "2021-08-23T00:59:33.033252Z",
     "start_time": "2021-08-23T00:58:12.764383Z"
    }
   },
   "outputs": [
    {
     "name": "stdout",
     "output_type": "stream",
     "text": [
      "Fitting 5 folds for each of 12 candidates, totalling 60 fits\n",
      "{'C': 100, 'gamma': 0.001, 'kernel': 'rbf'}\n",
      "                                    precision    recall  f1-score   support\n",
      "\n",
      "               Biological Sciences       0.71      0.83      0.77       551\n",
      "                 Chemical Sciences       0.62      0.59      0.61       192\n",
      "                    Earth Sciences       0.78      0.59      0.67        54\n",
      "                       Engineering       0.50      0.46      0.48       137\n",
      "Information and Computing Sciences       0.53      0.34      0.42        29\n",
      "       Medical and Health Sciences       0.75      0.68      0.71       347\n",
      "                 Physical Sciences       0.53      0.51      0.52       125\n",
      " Psychology and Cognitive Sciences       0.89      0.48      0.63        33\n",
      "\n",
      "                          accuracy                           0.68      1468\n",
      "                         macro avg       0.66      0.56      0.60      1468\n",
      "                      weighted avg       0.68      0.68      0.67      1468\n",
      "\n"
     ]
    }
   ],
   "source": [
    "param_grid = [\n",
    "  {'C': [1, 10, 100, 1000], 'kernel': ['linear']},\n",
    "  {'C': [1, 10, 100, 1000], 'gamma': [0.001, 0.0001], 'kernel': ['rbf']},\n",
    " ]\n",
    "   \n",
    "grid = GridSearchCV(SVC(), param_grid, refit = True, verbose = 3,n_jobs=-1) \n",
    "   \n",
    "grid.fit(x_train_cvm, y_train) \n",
    " \n",
    "print(grid.best_params_) \n",
    "grid_predictions = grid.predict(x_test_cvm) \n",
    "   \n",
    "print(classification_report(y_test, grid_predictions))"
   ]
  },
  {
   "cell_type": "markdown",
   "metadata": {},
   "source": [
    "### Multi-layer Perceptron Classifier (MLPClassifier)"
   ]
  },
  {
   "cell_type": "code",
   "execution_count": 133,
   "metadata": {
    "ExecuteTime": {
     "end_time": "2021-08-23T01:00:13.595861Z",
     "start_time": "2021-08-23T00:59:33.036374Z"
    }
   },
   "outputs": [],
   "source": [
    "mlp = MLPClassifier(solver='adam', alpha=1e-5, random_state=1).fit(x_train_cvm, y_train)"
   ]
  },
  {
   "cell_type": "code",
   "execution_count": 134,
   "metadata": {
    "ExecuteTime": {
     "end_time": "2021-08-23T01:00:13.610396Z",
     "start_time": "2021-08-23T01:00:13.598066Z"
    }
   },
   "outputs": [],
   "source": [
    "mlp_predict = mlp.predict(x_test_cvm)"
   ]
  },
  {
   "cell_type": "code",
   "execution_count": 135,
   "metadata": {
    "ExecuteTime": {
     "end_time": "2021-08-23T01:00:13.618139Z",
     "start_time": "2021-08-23T01:00:13.612157Z"
    }
   },
   "outputs": [
    {
     "data": {
      "text/plain": [
       "array(['Medical and Health Sciences', 'Physical Sciences',\n",
       "       'Physical Sciences', ..., 'Chemical Sciences',\n",
       "       'Biological Sciences', 'Biological Sciences'], dtype='<U34')"
      ]
     },
     "execution_count": 135,
     "metadata": {},
     "output_type": "execute_result"
    }
   ],
   "source": [
    "mlp_predict"
   ]
  },
  {
   "cell_type": "code",
   "execution_count": 136,
   "metadata": {
    "ExecuteTime": {
     "end_time": "2021-08-23T01:00:13.631549Z",
     "start_time": "2021-08-23T01:00:13.620648Z"
    }
   },
   "outputs": [
    {
     "name": "stdout",
     "output_type": "stream",
     "text": [
      "[[440  22   4   9   3  67   5   1]\n",
      " [ 17 118   2  26   0   6  22   1]\n",
      " [  7   5  34   4   1   0   3   0]\n",
      " [  9  29   3  58   2   6  30   0]\n",
      " [  4   0   0   2  14   1   7   1]\n",
      " [ 80   7   0   5   2 248   3   2]\n",
      " [  8  17   1  20   3   2  74   0]\n",
      " [  4   2   0   1   1   7   0  18]]\n"
     ]
    }
   ],
   "source": [
    "print(confusion_matrix(y_test,mlp_predict))"
   ]
  },
  {
   "cell_type": "code",
   "execution_count": 137,
   "metadata": {
    "ExecuteTime": {
     "end_time": "2021-08-23T01:00:13.676982Z",
     "start_time": "2021-08-23T01:00:13.634490Z"
    }
   },
   "outputs": [
    {
     "name": "stdout",
     "output_type": "stream",
     "text": [
      "                                    precision    recall  f1-score   support\n",
      "\n",
      "               Biological Sciences       0.77      0.80      0.79       551\n",
      "                 Chemical Sciences       0.59      0.61      0.60       192\n",
      "                    Earth Sciences       0.77      0.63      0.69        54\n",
      "                       Engineering       0.46      0.42      0.44       137\n",
      "Information and Computing Sciences       0.54      0.48      0.51        29\n",
      "       Medical and Health Sciences       0.74      0.71      0.73       347\n",
      "                 Physical Sciences       0.51      0.59      0.55       125\n",
      " Psychology and Cognitive Sciences       0.78      0.55      0.64        33\n",
      "\n",
      "                          accuracy                           0.68      1468\n",
      "                         macro avg       0.65      0.60      0.62      1468\n",
      "                      weighted avg       0.69      0.68      0.68      1468\n",
      "\n"
     ]
    }
   ],
   "source": [
    "print(classification_report(y_test, mlp_predict))"
   ]
  },
  {
   "cell_type": "code",
   "execution_count": 138,
   "metadata": {
    "ExecuteTime": {
     "end_time": "2021-08-23T01:00:13.694648Z",
     "start_time": "2021-08-23T01:00:13.678720Z"
    }
   },
   "outputs": [
    {
     "data": {
      "text/plain": [
       "[array([[ 4.48901356e-02, -1.60506833e-02,  3.21220716e-02, ...,\n",
       "          5.32835009e-02, -5.50099072e-02, -1.00209734e-02],\n",
       "        [ 2.17555873e-02, -9.69515158e-03,  5.25614922e-02, ...,\n",
       "          1.79244623e-02,  4.00171193e-06,  8.04414426e-03],\n",
       "        [-5.18090962e-02,  6.82414081e-02, -2.46925313e-02, ...,\n",
       "         -9.04466718e-02, -3.27055310e-02, -7.09761479e-02],\n",
       "        ...,\n",
       "        [-2.24402915e-02, -1.21680449e-01,  5.76501995e-02, ...,\n",
       "         -1.13902884e-02, -5.14753565e-03,  4.33464399e-02],\n",
       "        [ 5.04448923e-02, -2.72181362e-02,  3.61035621e-02, ...,\n",
       "          8.11621515e-03, -1.25440930e-02, -6.11974497e-02],\n",
       "        [ 9.74157180e-03, -2.45409215e-02,  1.36254058e-02, ...,\n",
       "          1.57951137e-02, -4.68033781e-02, -5.33716872e-02]]),\n",
       " array([[ 0.19229299,  0.16243035, -0.43439318,  0.1090138 , -0.42320789,\n",
       "          0.22699544, -0.5276618 , -0.37861585],\n",
       "        [-0.62100785,  0.53116963, -0.35925421, -0.32221173,  0.26501019,\n",
       "         -0.64964217,  0.36625525,  0.53666668],\n",
       "        [ 0.21144232, -0.51599637,  0.15398085,  0.06067957, -0.37372689,\n",
       "          0.40654099, -0.20734863, -0.1059761 ],\n",
       "        [ 0.42863758, -0.09261403, -0.22893555, -0.47294962,  0.28573018,\n",
       "          0.31342332, -0.3450224 , -0.43182641],\n",
       "        [-0.47338366, -0.34634708,  0.54936077, -0.51887493, -0.44463953,\n",
       "          0.56612334, -0.2556135 , -0.28534384],\n",
       "        [-0.34014154, -0.4349249 , -0.61802576,  0.51002066, -0.64085726,\n",
       "          0.42430946,  0.4950285 ,  0.25699385],\n",
       "        [ 0.4161308 ,  0.52001866,  0.16112543, -0.37365325,  0.24985792,\n",
       "         -0.26444793, -0.16951709, -0.1876591 ],\n",
       "        [ 0.42963873,  0.4948467 , -0.32237649, -0.5004001 , -0.59000091,\n",
       "         -0.45013451,  0.46384999,  0.24666713],\n",
       "        [ 0.210402  ,  0.51620551, -0.39825616, -0.4146073 , -0.15876182,\n",
       "          0.23452521, -0.36224838, -0.45930502],\n",
       "        [ 0.35208943,  0.39890409,  0.21213834, -0.45910287, -0.47505794,\n",
       "         -0.26488279, -0.50070892,  0.28606876],\n",
       "        [-0.50384168, -0.62189422,  0.58395473, -0.7526322 ,  0.47749459,\n",
       "         -0.60851361,  0.60266316,  0.45044927],\n",
       "        [-0.51728109, -0.47192381, -0.25936047, -0.38757188, -0.62242775,\n",
       "          0.58153027, -0.33432764,  0.57206607],\n",
       "        [-0.47986703,  0.60825865,  0.51631072, -0.60992211,  0.54203184,\n",
       "         -0.50239895, -0.76158191,  0.50907479],\n",
       "        [ 0.24417142,  0.39535893, -0.50576341,  0.25214087,  0.23341054,\n",
       "          0.18912787, -0.4875341 , -0.45403431],\n",
       "        [ 0.34558349,  0.51268058, -0.49439607, -0.39687385, -0.38619717,\n",
       "         -0.30605645,  0.41450846, -0.1169868 ],\n",
       "        [ 0.3744682 ,  0.06976948, -0.32038635,  0.18134311, -0.45384707,\n",
       "          0.04464739,  0.34902845, -0.35040168],\n",
       "        [ 0.43621772,  0.23768213, -0.40282943, -0.51750944, -0.40368911,\n",
       "         -0.45797703,  0.27207646, -0.16062374],\n",
       "        [ 0.21568236, -0.28213612,  0.15325758, -0.49653058, -0.35618611,\n",
       "          0.36953331,  0.35294967,  0.14531314],\n",
       "        [ 0.21094082,  0.34388483, -0.31591444, -0.50711899,  0.11326046,\n",
       "          0.26070588, -0.33379269, -0.38987673],\n",
       "        [-0.52577979,  0.29218152, -0.35655622,  0.58345399, -0.60086999,\n",
       "          0.59985279, -0.53336731, -0.46414702],\n",
       "        [ 0.10720606, -0.29419909,  0.42851737,  0.34811502, -0.4074479 ,\n",
       "          0.49366637, -0.22760555,  0.12360254],\n",
       "        [-0.5229965 ,  0.61168051,  0.53616977, -0.74739913,  0.46844038,\n",
       "         -0.0766846 ,  0.49590646, -0.27893104],\n",
       "        [-0.06589563,  0.55161412,  0.30612796, -0.59858325, -0.56873303,\n",
       "          0.43589229,  0.16280108, -0.40730776],\n",
       "        [ 0.38934213,  0.34819542,  0.26045799, -0.30423304, -0.33765004,\n",
       "          0.03835968,  0.09751317, -0.28029204],\n",
       "        [ 0.33540348, -0.47826311, -0.42853203,  0.38178837,  0.10636626,\n",
       "          0.38884071, -0.43188224, -0.14917563],\n",
       "        [ 0.29745815, -0.54258319,  0.12473682,  0.29153367, -0.44833673,\n",
       "          0.06229474, -0.40951258, -0.27274083],\n",
       "        [-0.52367845,  0.3849749 ,  0.2895013 ,  0.38092658, -0.19996538,\n",
       "          0.26621744,  0.33969941, -0.45989456],\n",
       "        [ 0.32626393, -0.38520645, -0.49469619, -0.330651  ,  0.25499664,\n",
       "          0.32408791,  0.46029467,  0.02620261],\n",
       "        [-0.4269192 , -0.58262057, -0.51580369, -0.51502823, -0.46171786,\n",
       "          0.54757748,  0.60985617,  0.4311865 ],\n",
       "        [ 0.48223814, -0.63658673,  0.17197699,  0.53182118, -0.75104188,\n",
       "         -0.60150727,  0.31575902,  0.34148025],\n",
       "        [-0.52570674,  0.63291106, -0.34394319, -0.51610682,  0.23251235,\n",
       "         -0.41362516, -0.54626474, -0.54874592],\n",
       "        [ 0.12691523, -0.52665795, -0.39376804, -0.56413032,  0.00221341,\n",
       "          0.10860376, -0.51373334,  0.19329425],\n",
       "        [-0.59120968,  0.30146791, -0.59503057, -0.7654159 , -0.26364021,\n",
       "          0.42714914,  0.48114719,  0.47817295],\n",
       "        [-0.30196915,  0.34955803, -0.24402371,  0.52009443, -0.48827158,\n",
       "          0.55486071, -0.01177136, -0.34000352],\n",
       "        [ 0.49663356,  0.4577736 , -0.5264702 ,  0.23095491,  0.16010983,\n",
       "         -0.48774229, -0.46633096, -0.32373899],\n",
       "        [ 0.35091427, -0.4825652 , -0.25950855,  0.22096858, -0.47164931,\n",
       "         -0.09825015,  0.49980943,  0.08805277],\n",
       "        [ 0.29813968, -0.49945168,  0.24664442, -0.40983755,  0.27578342,\n",
       "          0.35107457, -0.23957147, -0.32928197],\n",
       "        [ 0.36490803, -0.30585808, -0.25558325, -0.217194  ,  0.35569409,\n",
       "          0.14161859, -0.29347973,  0.34278524],\n",
       "        [ 0.21260648,  0.22071606, -0.21819537, -0.56333841, -0.47868051,\n",
       "         -0.41138952, -0.5312337 , -0.33993557],\n",
       "        [-0.51356712,  0.34264121, -0.45646271,  0.55534527,  0.14087816,\n",
       "          0.51292741, -0.68373864,  0.48760719],\n",
       "        [ 0.33214417, -0.33072172,  0.30114795,  0.48055836, -0.26686185,\n",
       "         -0.17275053, -0.63993374, -0.05733859],\n",
       "        [ 0.36181407, -0.34501986, -0.34445706, -0.527881  , -0.44830773,\n",
       "         -0.41446488,  0.53781566,  0.36253757],\n",
       "        [-0.49724624,  0.58387813,  0.5300175 ,  0.32978874, -0.63046301,\n",
       "         -0.48454738, -0.65473017,  0.34369719],\n",
       "        [ 0.21437437,  0.16708995, -0.51587292,  0.05319877, -0.26966899,\n",
       "          0.03747326, -0.46133069,  0.29334257],\n",
       "        [ 0.36149535, -0.12974972, -0.39441598, -0.32368725, -0.40935096,\n",
       "         -0.28052645, -0.33530429,  0.27845106],\n",
       "        [-0.00552834, -0.47044925,  0.14734133, -0.50750072, -0.37001685,\n",
       "          0.47497074, -0.50313852, -0.00719455],\n",
       "        [-0.56651041,  0.34541626,  0.52156302, -0.52405849, -0.04293458,\n",
       "         -0.42951232,  0.48304676, -0.47627006],\n",
       "        [-0.25931977,  0.5470116 ,  0.40804494, -0.22356885, -0.63824689,\n",
       "          0.50294546, -0.41073778,  0.28128615],\n",
       "        [ 0.47007232, -0.12050451, -0.49449668,  0.47434286,  0.01221799,\n",
       "         -0.36093097, -0.0322449 , -0.10188657],\n",
       "        [-0.47275174, -0.44953409,  0.52716005, -0.29693635, -0.27529619,\n",
       "          0.56145071, -0.49881363,  0.530734  ],\n",
       "        [ 0.21283189, -0.38007275,  0.03160522, -0.44143665, -0.35784213,\n",
       "          0.3241384 , -0.40165702, -0.16164283],\n",
       "        [ 0.47301021, -0.4985825 ,  0.36397629,  0.46549646,  0.2347631 ,\n",
       "         -0.50732857, -0.56636196,  0.34959856],\n",
       "        [-0.5718759 ,  0.34180765, -0.52746082,  0.41614857,  0.45147858,\n",
       "          0.22480137, -0.68772173,  0.25977972],\n",
       "        [-0.13941819,  0.34130035, -0.41102189,  0.40826264, -0.48809177,\n",
       "          0.47299086, -0.3951616 , -0.39894767],\n",
       "        [ 0.32323705, -0.32380736, -0.39923748,  0.46060676, -0.47761644,\n",
       "         -0.4834474 ,  0.47043544, -0.34539779],\n",
       "        [-0.52474302,  0.50452079,  0.36141563,  0.4262082 , -0.48200266,\n",
       "          0.58789698, -0.24172258, -0.3565846 ],\n",
       "        [-0.70680944, -0.66465625,  0.32434428,  0.59345267,  0.45037065,\n",
       "         -0.70230163,  0.31509246,  0.41564157],\n",
       "        [ 0.37440418, -0.31031793,  0.26796386, -0.57979293,  0.01993797,\n",
       "          0.21094724,  0.42419158,  0.11610817],\n",
       "        [ 0.22665559, -0.54281539,  0.40547676,  0.46853955, -0.45422352,\n",
       "         -0.45684076, -0.57506983, -0.41851745],\n",
       "        [ 0.35137677,  0.32558913, -0.41058154, -0.27523504, -0.31425231,\n",
       "         -0.47996482, -0.55025804,  0.40579246],\n",
       "        [ 0.1476684 , -0.45778808,  0.051235  , -0.40404883,  0.13860443,\n",
       "          0.1511015 ,  0.27440299, -0.46463602],\n",
       "        [ 0.35725079, -0.14026748, -0.30579339,  0.38447728, -0.20552926,\n",
       "         -0.48284501, -0.60304662,  0.22305562],\n",
       "        [-0.52994544,  0.38338519, -0.27135377,  0.38649677, -0.13873085,\n",
       "          0.330937  ,  0.50647168, -0.33149854],\n",
       "        [-0.53634562, -0.61059088,  0.39964278,  0.51929464, -0.14683466,\n",
       "          0.58252623,  0.57823963, -0.6833941 ],\n",
       "        [ 0.12888717, -0.38179605, -0.25649173, -0.3135081 ,  0.26873302,\n",
       "          0.42929055, -0.23801817, -0.3814985 ],\n",
       "        [-0.62178988, -0.62925374,  0.39653378,  0.48450397,  0.41071661,\n",
       "          0.52008902, -0.54743265, -0.68507602],\n",
       "        [-0.57658241, -0.19489605,  0.41462726, -0.41580024, -0.48417778,\n",
       "          0.58184143, -0.42486394, -0.06956942],\n",
       "        [-0.15282252,  0.21341231, -0.5343174 ,  0.26760161,  0.27756335,\n",
       "         -0.5822517 ,  0.49006844,  0.20877479],\n",
       "        [-0.29254871,  0.48605723,  0.26536605,  0.31441154,  0.46791701,\n",
       "         -0.54136542, -0.49533923, -0.56301589],\n",
       "        [-0.58231806,  0.36684603, -0.6757477 ,  0.52264309,  0.16240133,\n",
       "          0.4997457 ,  0.02067015, -0.43831322],\n",
       "        [ 0.46652331, -0.27934092, -0.49164508,  0.60209283,  0.503684  ,\n",
       "         -0.54884464, -0.59101384, -0.39282918],\n",
       "        [ 0.30311304, -0.55061447,  0.29657456,  0.150592  ,  0.34954092,\n",
       "         -0.58078851,  0.26078896, -0.61246255],\n",
       "        [ 0.3278901 ,  0.41671474, -0.55120581, -0.65909001,  0.31559402,\n",
       "         -0.42489332,  0.22789918, -0.4108103 ],\n",
       "        [-0.51713473,  0.22164173, -0.28176559, -0.58730668, -0.54380992,\n",
       "          0.485194  ,  0.56000044, -0.61174941],\n",
       "        [-0.58599666, -0.62349763, -0.42390054, -0.71421064,  0.58991372,\n",
       "          0.53233395, -0.26357484,  0.40730302],\n",
       "        [-0.61168412,  0.53107353, -0.59498251,  0.53960323, -0.37928631,\n",
       "         -0.36316115, -0.48958262,  0.5543591 ],\n",
       "        [ 0.25827068, -0.54264303,  0.35528102,  0.3647156 , -0.33055563,\n",
       "         -0.10607088, -0.59101872, -0.30687026],\n",
       "        [ 0.35777179, -0.75090343,  0.40029874,  0.54973044,  0.45392827,\n",
       "         -0.59224205,  0.07122497, -0.58859625],\n",
       "        [ 0.36958399, -0.58050811, -0.42581784,  0.25363625,  0.1841325 ,\n",
       "         -0.23884904,  0.3689188 , -0.46263009],\n",
       "        [ 0.1379553 , -0.37119606,  0.39290514, -0.54385192,  0.40328792,\n",
       "          0.49712938, -0.34123347, -0.15414427],\n",
       "        [ 0.31570978, -0.51666866, -0.48174667,  0.1383621 ,  0.03902279,\n",
       "          0.34399509, -0.37331126, -0.0970758 ],\n",
       "        [ 0.42939358, -0.40215912, -0.31492139, -0.30250749, -0.27588427,\n",
       "          0.25303516, -0.33435919, -0.39447427],\n",
       "        [-0.5673125 , -0.32204419,  0.22815023,  0.46563702,  0.33582824,\n",
       "         -0.577882  ,  0.28078873, -0.60957069],\n",
       "        [-0.34155491,  0.45378072, -0.44375874, -0.54320064,  0.32862944,\n",
       "          0.44282784,  0.56481252, -0.48437139],\n",
       "        [-0.5659585 ,  0.60725803,  0.38436172, -0.71143116,  0.26427468,\n",
       "          0.60624326, -0.36671438, -0.54599535],\n",
       "        [-0.48205878, -0.6746005 , -0.53928346,  0.40161727,  0.53746119,\n",
       "         -0.49435554,  0.4872271 ,  0.37897883],\n",
       "        [ 0.48474981, -0.31619846,  0.25260648,  0.53398428,  0.37872101,\n",
       "         -0.57274043, -0.51252387, -0.610013  ],\n",
       "        [-0.31462148,  0.46285526,  0.22636115,  0.40544045, -0.56615819,\n",
       "         -0.28402092,  0.46835737, -0.49958967],\n",
       "        [-0.49397338,  0.57129402, -0.57451454, -0.4950415 ,  0.45827921,\n",
       "          0.38540462, -0.72165776,  0.38863794],\n",
       "        [-0.42735062,  0.29395928, -0.49305313,  0.451345  , -0.34135536,\n",
       "          0.29404313,  0.29460814, -0.58292126],\n",
       "        [ 0.44222024,  0.45959181,  0.34391034, -0.53811156, -0.45183077,\n",
       "         -0.45771246,  0.46746559,  0.03862278],\n",
       "        [ 0.38278154, -0.20593236,  0.31784489, -0.47489195,  0.15812169,\n",
       "          0.00433125, -0.32372218, -0.43876046],\n",
       "        [-0.5600064 , -0.52119137, -0.4985175 , -0.53253149,  0.57632645,\n",
       "          0.59407443,  0.56976935, -0.11332441],\n",
       "        [-0.64006539,  0.48107734,  0.49166871, -0.43161264, -0.18998659,\n",
       "         -0.50049657,  0.30832185, -0.6773995 ],\n",
       "        [-0.34426093,  0.58149949, -0.22557357, -0.482183  ,  0.06393609,\n",
       "          0.49813769, -0.44475779,  0.18854283],\n",
       "        [ 0.44313598,  0.5647932 ,  0.46716616, -0.57706636, -0.35665781,\n",
       "         -0.48457348, -0.64347956, -0.3163614 ],\n",
       "        [ 0.41476172, -0.53445313,  0.17868412, -0.28293409,  0.1017628 ,\n",
       "         -0.33581207,  0.53296852, -0.50098077],\n",
       "        [ 0.42479458, -0.06742278, -0.13489975, -0.43354803, -0.45246038,\n",
       "          0.31380034, -0.25534687,  0.26597396],\n",
       "        [-0.57531397,  0.52667214, -0.56165901, -0.67894049,  0.47058045,\n",
       "          0.52742936, -0.59152064, -0.2119625 ],\n",
       "        [-0.55086306,  0.26528216,  0.47686434,  0.59274907, -0.60179913,\n",
       "          0.56614066, -0.7143323 , -0.29985173]])]"
      ]
     },
     "execution_count": 138,
     "metadata": {},
     "output_type": "execute_result"
    }
   ],
   "source": [
    "mlp.coefs_"
   ]
  },
  {
   "cell_type": "markdown",
   "metadata": {},
   "source": [
    "### Synthetic Minority Oversampling Technique (SMOTE)"
   ]
  },
  {
   "cell_type": "code",
   "execution_count": 139,
   "metadata": {
    "ExecuteTime": {
     "end_time": "2021-08-23T01:00:14.128034Z",
     "start_time": "2021-08-23T01:00:13.696382Z"
    }
   },
   "outputs": [
    {
     "data": {
      "text/plain": [
       "(17608, 10000)"
      ]
     },
     "execution_count": 139,
     "metadata": {},
     "output_type": "execute_result"
    },
    {
     "data": {
      "image/png": "[encoded data removed]",
      "text/plain": [
       "<Figure size 432x288 with 1 Axes>"
      ]
     },
     "metadata": {
      "needs_background": "light"
     },
     "output_type": "display_data"
    }
   ],
   "source": [
    "sm = SMOTE(random_state=2)\n",
    "x_train_cvm_smote, y_train_smote = sm.fit_resample(x_train_cvm, y_train)\n",
    "\n",
    "pd.Series(y_train).value_counts().plot.bar()\n",
    "\n",
    "x_train_cvm.shape\n",
    "x_train_cvm_smote.shape"
   ]
  },
  {
   "cell_type": "code",
   "execution_count": 140,
   "metadata": {
    "ExecuteTime": {
     "end_time": "2021-08-23T01:00:14.409909Z",
     "start_time": "2021-08-23T01:00:14.136830Z"
    }
   },
   "outputs": [
    {
     "data": {
      "text/plain": [
       "<matplotlib.axes._subplots.AxesSubplot at 0x7f867e2cc760>"
      ]
     },
     "execution_count": 140,
     "metadata": {},
     "output_type": "execute_result"
    },
    {
     "data": {
      "image/png": "[encoded data removed]",
      "text/plain": [
       "<Figure size 432x288 with 1 Axes>"
      ]
     },
     "metadata": {
      "needs_background": "light"
     },
     "output_type": "display_data"
    }
   ],
   "source": [
    "pd.Series(y_train_smote).value_counts().plot.bar()"
   ]
  },
  {
   "cell_type": "markdown",
   "metadata": {},
   "source": [
    "#### SMOTE & MultinomialNB"
   ]
  },
  {
   "cell_type": "code",
   "execution_count": 141,
   "metadata": {
    "ExecuteTime": {
     "end_time": "2021-08-23T01:00:14.532024Z",
     "start_time": "2021-08-23T01:00:14.412724Z"
    }
   },
   "outputs": [],
   "source": [
    "classifier2 = MultinomialNB(alpha=1.0).fit(x_train_cvm_smote, y_train_smote)"
   ]
  },
  {
   "cell_type": "code",
   "execution_count": 142,
   "metadata": {
    "ExecuteTime": {
     "end_time": "2021-08-23T01:00:14.546805Z",
     "start_time": "2021-08-23T01:00:14.540751Z"
    }
   },
   "outputs": [],
   "source": [
    "predict_smote = classifier2.predict(x_test_cvm)"
   ]
  },
  {
   "cell_type": "code",
   "execution_count": 143,
   "metadata": {
    "ExecuteTime": {
     "end_time": "2021-08-23T01:00:14.610428Z",
     "start_time": "2021-08-23T01:00:14.553365Z"
    },
    "scrolled": true
   },
   "outputs": [
    {
     "name": "stdout",
     "output_type": "stream",
     "text": [
      "                                    precision    recall  f1-score   support\n",
      "\n",
      "               Biological Sciences       0.85      0.79      0.82       551\n",
      "                 Chemical Sciences       0.66      0.68      0.67       192\n",
      "                    Earth Sciences       0.70      0.81      0.75        54\n",
      "                       Engineering       0.51      0.51      0.51       137\n",
      "Information and Computing Sciences       0.42      0.45      0.43        29\n",
      "       Medical and Health Sciences       0.78      0.80      0.79       347\n",
      "                 Physical Sciences       0.58      0.64      0.61       125\n",
      " Psychology and Cognitive Sciences       0.74      0.70      0.72        33\n",
      "\n",
      "                          accuracy                           0.73      1468\n",
      "                         macro avg       0.66      0.67      0.66      1468\n",
      "                      weighted avg       0.74      0.73      0.73      1468\n",
      "\n"
     ]
    }
   ],
   "source": [
    "np.mean(predict_smote == y_test)\n",
    "print(classification_report(y_test, predict_smote)) "
   ]
  },
  {
   "cell_type": "code",
   "execution_count": 144,
   "metadata": {
    "ExecuteTime": {
     "end_time": "2021-08-23T01:00:14.623937Z",
     "start_time": "2021-08-23T01:00:14.615112Z"
    }
   },
   "outputs": [
    {
     "data": {
      "text/plain": [
       "0.7316076294277929"
      ]
     },
     "execution_count": 144,
     "metadata": {},
     "output_type": "execute_result"
    }
   ],
   "source": [
    "metrics.accuracy_score(y_test, predict_smote)"
   ]
  },
  {
   "cell_type": "markdown",
   "metadata": {},
   "source": [
    "#### SMOTE & SVC"
   ]
  },
  {
   "cell_type": "code",
   "execution_count": 145,
   "metadata": {
    "ExecuteTime": {
     "end_time": "2021-08-23T01:00:57.163905Z",
     "start_time": "2021-08-23T01:00:14.625780Z"
    }
   },
   "outputs": [
    {
     "name": "stdout",
     "output_type": "stream",
     "text": [
      "                                    precision    recall  f1-score   support\n",
      "\n",
      "               Biological Sciences       0.47      0.91      0.62       551\n",
      "                 Chemical Sciences       0.58      0.17      0.27       192\n",
      "                    Earth Sciences       0.17      0.04      0.06        54\n",
      "                       Engineering       0.34      0.15      0.21       137\n",
      "Information and Computing Sciences       0.50      0.10      0.17        29\n",
      "       Medical and Health Sciences       0.66      0.40      0.50       347\n",
      "                 Physical Sciences       0.58      0.22      0.32       125\n",
      " Psychology and Cognitive Sciences       1.00      0.12      0.22        33\n",
      "\n",
      "                          accuracy                           0.50      1468\n",
      "                         macro avg       0.54      0.26      0.29      1468\n",
      "                      weighted avg       0.53      0.50      0.44      1468\n",
      "\n"
     ]
    }
   ],
   "source": [
    "svc2 = SVC(class_weight='balanced') \n",
    "svc2.fit(x_train_cvm_smote, y_train_smote) \n",
    "\n",
    "predictions2 = svc2.predict(x_test_cvm) \n",
    "print(classification_report(y_test, predictions2)) "
   ]
  },
  {
   "cell_type": "markdown",
   "metadata": {},
   "source": [
    "#### SMOTE & MLPClassifier"
   ]
  },
  {
   "cell_type": "code",
   "execution_count": 146,
   "metadata": {
    "ExecuteTime": {
     "end_time": "2021-08-23T01:03:53.821473Z",
     "start_time": "2021-08-23T01:00:57.166328Z"
    }
   },
   "outputs": [],
   "source": [
    "mlp2 = MLPClassifier(solver='adam', max_iter=500,alpha=1e-5, random_state=1).fit(x_train_cvm_smote, y_train_smote)"
   ]
  },
  {
   "cell_type": "code",
   "execution_count": 147,
   "metadata": {
    "ExecuteTime": {
     "end_time": "2021-08-23T01:03:53.831824Z",
     "start_time": "2021-08-23T01:03:53.823213Z"
    }
   },
   "outputs": [],
   "source": [
    "mlp_predict = mlp.predict(x_test_cvm)"
   ]
  },
  {
   "cell_type": "code",
   "execution_count": 148,
   "metadata": {
    "ExecuteTime": {
     "end_time": "2021-08-23T01:03:53.884134Z",
     "start_time": "2021-08-23T01:03:53.833922Z"
    }
   },
   "outputs": [
    {
     "name": "stdout",
     "output_type": "stream",
     "text": [
      "                                    precision    recall  f1-score   support\n",
      "\n",
      "               Biological Sciences       0.77      0.80      0.79       551\n",
      "                 Chemical Sciences       0.59      0.61      0.60       192\n",
      "                    Earth Sciences       0.77      0.63      0.69        54\n",
      "                       Engineering       0.46      0.42      0.44       137\n",
      "Information and Computing Sciences       0.54      0.48      0.51        29\n",
      "       Medical and Health Sciences       0.74      0.71      0.73       347\n",
      "                 Physical Sciences       0.51      0.59      0.55       125\n",
      " Psychology and Cognitive Sciences       0.78      0.55      0.64        33\n",
      "\n",
      "                          accuracy                           0.68      1468\n",
      "                         macro avg       0.65      0.60      0.62      1468\n",
      "                      weighted avg       0.69      0.68      0.68      1468\n",
      "\n"
     ]
    }
   ],
   "source": [
    "print(classification_report(y_test, mlp_predict))"
   ]
  },
  {
   "cell_type": "markdown",
   "metadata": {},
   "source": [
    "## Observations"
   ]
  },
  {
   "cell_type": "markdown",
   "metadata": {},
   "source": [
    "- Low correlation between features other than 'title'. See correlation matrix section 2.3.1.2\n",
    "- Duplicated manuscript submissions in more than one category. Adjacent / overlapping categories (e.g. Biological sciences and Medical and Health Sciences). Is this an intended feature of the subbmission platform? If no, remove ability to submit more than once. If yes, overlapping fields could suggest it might be worth reviewing current journals, to see whether any could be amalgamated into new fields/journals.\n",
    "- Low manuscript submissions in a number of fields outside of the 8 used in modelling. Is this the norm for those fields? "
   ]
  },
  {
   "cell_type": "markdown",
   "metadata": {},
   "source": [
    "## Model Predictions\n"
   ]
  },
  {
   "cell_type": "markdown",
   "metadata": {},
   "source": [
    "- Used data (for train/test) from the top 8 academic fields with regards to manuscript submissions (Biological Sciences, Medical and Health Sciences, Chemical Sciences, Engineering, Physical Sciences, Earth Sciences, Psychology and Cognitive Sciences,Information and Computing Sciences). Models performed poorly at classifying those outside of these fields, due to fewer sample numbers. In practice, as these top 8 fields encompassed 97% of manuscripts (after processing data), it would be feasible to manually check other submissions outside of this selection, until the classifier can be improved upon.   \n",
    "- Word count vector seems to have performed better than word frequency vector. This isn't surprising as we are dealing with short titles. TFIDF would perhaps be more useful with longer documents, such as full articles, where words may have a higher chance of beinng repeated in the text. F1 scores for the MultinomialNB model were better using count based vectorisation rather than frequency  \n",
    "- Several models performed fairly well. SV and MLP classifiers performed similarly, despite having slightly lower accuracy. \n",
    "- Used SMOTE as a way of balancing the data, by adding synthetic data to minority classes. This slightly improved the MultinomialNB model. F1 scores ranged between 0.43 and 0.82 with an accuracy: 0.73.\n",
    "                         "
   ]
  },
  {
   "cell_type": "markdown",
   "metadata": {
    "ExecuteTime": {
     "end_time": "2021-08-22T17:03:43.985623Z",
     "start_time": "2021-08-22T17:03:43.976691Z"
    }
   },
   "source": [
    "## Future Work"
   ]
  },
  {
   "cell_type": "markdown",
   "metadata": {},
   "source": [
    "- Mixed models on training data. Some models, such as naive bayes, better with sparse data, perhaps these are better when used for categories where there are less submissions / Boosting.\n",
    "- Sparsity / dimension reduction\n",
    "- Augment data. \n",
    "- Compile comprehensive domain specific corpuses.\n",
    "- An alternative to augmenting the data: use a larger dataset, outside of the 2018-2019 dataset used here, particularly as a means to balance data across all classes.\n",
    "- Class weights e.g. class-specific attribute weighted naive Bayes (CAWNB)\n",
    "- Utilise word positions as opposed to 'bag of words'. May not have too much of an effect as working with relatively short titles but could be used in conjunction with data from manuscript abstracts. Could be useful in distinguishing between overlapping fields/those submitted into more than one field.\n"
   ]
  }
 ],
 "metadata": {
  "kernelspec": {
   "display_name": "Python 3",
   "language": "python",
   "name": "python3"
  },
  "language_info": {
   "codemirror_mode": {
    "name": "ipython",
    "version": 3
   },
   "file_extension": ".py",
   "mimetype": "text/x-python",
   "name": "python",
   "nbconvert_exporter": "python",
   "pygments_lexer": "ipython3",
   "version": "3.8.2"
  },
  "toc": {
   "base_numbering": "1",
   "nav_menu": {},
   "number_sections": true,
   "sideBar": true,
   "skip_h1_title": true,
   "title_cell": "Table of Contents",
   "title_sidebar": "Contents",
   "toc_cell": false,
   "toc_position": {
    "height": "calc(100% - 180px)",
    "left": "10px",
    "top": "150px",
    "width": "399px"
   },
   "toc_section_display": true,
   "toc_window_display": true
  }
 },
 "nbformat": 4,
 "nbformat_minor": 4
}
